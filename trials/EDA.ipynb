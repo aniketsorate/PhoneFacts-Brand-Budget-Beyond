{
 "cells": [
  {
   "cell_type": "markdown",
   "id": "bf47e72a",
   "metadata": {
    "papermill": {
     "duration": 0.056654,
     "end_time": "2023-09-13T18:55:29.073469",
     "exception": false,
     "start_time": "2023-09-13T18:55:29.016815",
     "status": "completed"
    },
    "tags": []
   },
   "source": [
    "<img src=\"https://c1.wallpaperflare.com/preview/241/624/958/paper-business-document-office.jpg\" width=\"2400\">"
   ]
  },
  {
   "cell_type": "markdown",
   "id": "ae7b7d8d",
   "metadata": {
    "papermill": {
     "duration": 0.054531,
     "end_time": "2023-09-13T18:55:29.182670",
     "exception": false,
     "start_time": "2023-09-13T18:55:29.128139",
     "status": "completed"
    },
    "tags": []
   },
   "source": [
    "<div style=\"border-radius:10px; padding: 15px; background-color: #ffeacc; font-size:130%; text-align:left\">\n",
    "\n",
    "<h2 align=\"left\"><font color=#ff6200>Problem:</font></h2>\n",
    "\n",
    "\n",
    "In this project, we explore the dynamic landscape of the smartphone market in India by analyzing a comprehensive dataset scraped from Smartprix, a popular online smartphone comparison platform. Our primary objective is to uncover meaningful insights into how different factors such as brand reputation, price range, technical features, and user ratings influence consumer preferences and market trends.\n"
   ]
  },
  {
   "cell_type": "markdown",
   "id": "546e6474",
   "metadata": {
    "papermill": {
     "duration": 0.059462,
     "end_time": "2023-09-13T18:55:29.374439",
     "exception": false,
     "start_time": "2023-09-13T18:55:29.314977",
     "status": "completed"
    },
    "tags": []
   },
   "source": [
    "<div style=\"border-radius:10px; padding: 15px; background-color: #ffeacc; font-size:130%; text-align:left\">\n",
    "\n",
    "<h2 align=\"left\"><font color=#ff6200>Objectives:</font></h2>\n",
    "\n",
    "- **Brand vs Price Trend Analysis:** Analyze average smartphone prices across different brands to identify pricing strategies and brand positioning in the Indian market.\n",
    "\n",
    "    \n",
    "- **Feature-Rich Value Evaluation:** Investigate the correlation between technical specifications and price to highlight brands that offer the best value-for-money phones.\n",
    "\n",
    "    \n",
    "- **Mid-Range vs Premium Popularity:** Identify and present the most popular models in mid-range and premium price segments, helping understand consumer buying trends.\n",
    "\n",
    "    \n",
    "- **Review-Score Impact Assessment:** Examine whether user ratings have a significant influence on smartphone pricing, using visual and statistical analysis to derive meaningful insights.\n"
   ]
  },
  {
   "cell_type": "markdown",
   "id": "b0167c09",
   "metadata": {
    "papermill": {
     "duration": 0.054838,
     "end_time": "2023-09-13T18:55:29.487191",
     "exception": false,
     "start_time": "2023-09-13T18:55:29.432353",
     "status": "completed"
    },
    "tags": []
   },
   "source": [
    "<a id=\"contents_table\"></a>    \n",
    "<div style=\"border-radius:10px; padding: 15px; background-color: #ffeacc; font-size:130%; text-align:left\">\n",
    "\n",
    "<h2 align=\"left\"><font color=#ff6200>Table of Contents:</font></h2>\n",
    "\n",
    "* [Step 1 | Setup and Initialization](#setup)\n",
    "    - [Step 1.1 | Importing Required Libraries](#libraries)\n",
    "    - [Step 1.2 | Loading the Dataset](#load_dataset) \n",
    "\n",
    "* [Step 2 | Initial Data Analysis](#initial_analysis)\n",
    "    - [Step 2.1 | Dataset Overview](#overview)\n",
    "    - [Step 2.2 | Summary Statistics](#summary_stats)\n",
    "\n",
    "* [Step 3 | Data Cleaning & Transformation](#data_cleaning)\n",
    "    - [Step 3.1 | Handling Missing Values](#missing_values)\n",
    "    - [Step 3.2 | Removing Duplicates](#duplicates)\n",
    "    - [Step 3.3 | Cleaning Price Column](#price_cleaning)\n",
    "    - [Step 3.4 | Extracting network type supported](#ntype)\n",
    "    - [Step 3.5 | Parsing Specifications](#parse_specs)\n",
    "    - [Step 3.6 | Extracting Key Features (RAM, Battery, etc.)](#extract_features)\n",
    "    - [Step 3.7 | Final Dataset Overview](#final_overview)\n",
    "\n",
    "* [Step 4 | Exploratory Data Analysis (EDA)](#eda)\n",
    "    - [Step 4.1 | Dataset Shape and Summary](#eda_summary)\n",
    "    - [Step 4.2 | Top Smartphone Brands](#top_brands)\n",
    "    - [Step 4.3 | Price Distribution](#price_dist)\n",
    "    - [Step 4.4 | RAM & Storage Variants](#ram_storage)\n",
    "\n",
    "* [Step 5 | Business Problem Statements](#problem_statements)\n",
    "    - [Step 5.1 | Brand vs Price Trends](#brand_price)  \n",
    "        - Bar Plot of Average Price per Brand\n",
    "    - [Step 5.2 | Feature-rich Value vs Price](#feature_price)  \n",
    "        - Bar Plot Comparing Specs with Price\n",
    "    - [Step 5.3 | Popular Models in Mid-Range & Premium Segments](#popular_models)  \n",
    "        - Tabulated Display of Models\n",
    "    - [Step 5.4 | Review Score Impact on Pricing](#review_impact)  \n",
    "        - Scatter Plot of Ratings vs Price\n",
    "\n",
    "* [Step 6 | Key Insights & Recommendations](#insights)\n",
    "    - [Step 6.1 | Summary of Findings](#findings)\n",
    "    - [Step 6.2 | Buyer Guidance by Price Segment](#buyer_guidance)\n",
    "\n",
    "</div>\n"
   ]
  },
  {
   "cell_type": "markdown",
   "id": "54bff998",
   "metadata": {
    "papermill": {
     "duration": 0.058194,
     "end_time": "2023-09-13T18:55:29.602828",
     "exception": false,
     "start_time": "2023-09-13T18:55:29.544634",
     "status": "completed"
    },
    "tags": []
   },
   "source": [
    "<h2 align=\"left\"><font color=#ff6200>Let's get started:</font></h2>"
   ]
  },
  {
   "cell_type": "markdown",
   "id": "158e6dcc",
   "metadata": {
    "papermill": {
     "duration": 0.055048,
     "end_time": "2023-09-13T18:55:29.713486",
     "exception": false,
     "start_time": "2023-09-13T18:55:29.658438",
     "status": "completed"
    },
    "tags": []
   },
   "source": [
    "<a id=\"setup\"></a>\n",
    "# <p style=\"background-color: #ff6200; font-family:calibri; color:white; font-size:140%; font-family:Verdana; text-align:center; border-radius:15px 50px;\">Step 1 | Setup and Initialization</p>\n",
    "⬆️ [Tabel of Contents](#contents_tabel)"
   ]
  },
  {
   "cell_type": "markdown",
   "id": "c4e393a0",
   "metadata": {
    "papermill": {
     "duration": 0.054748,
     "end_time": "2023-09-13T18:55:29.823414",
     "exception": false,
     "start_time": "2023-09-13T18:55:29.768666",
     "status": "completed"
    },
    "tags": []
   },
   "source": [
    "<a id=\"libraries\"></a>\n",
    "# <b><span style='color:#fcc36d'>Step 1.1 |</span><span style='color:#ff6200'> Importing Necessary Libraries</span></b>\n",
    "⬆️ [Tabel of Contents](#contents_tabel)"
   ]
  },
  {
   "cell_type": "markdown",
   "id": "b187bc22",
   "metadata": {
    "papermill": {
     "duration": 0.054579,
     "end_time": "2023-09-13T18:55:29.932823",
     "exception": false,
     "start_time": "2023-09-13T18:55:29.878244",
     "status": "completed"
    },
    "tags": []
   },
   "source": [
    "<div style=\"border-radius:10px; padding: 15px; background-color: #ffeacc; font-size:120%; text-align:left\">\n",
    "    \n",
    "First of all, we will import all the necessary libraries that we will use throughout the project. This generally includes libraries for data manipulation, data visualization, and others based on the specific needs of the project:"
   ]
  },
  {
   "cell_type": "code",
   "execution_count": 1,
   "id": "88c0d4f2",
   "metadata": {
    "execution": {
     "iopub.execute_input": "2023-09-13T18:55:30.045883Z",
     "iopub.status.busy": "2023-09-13T18:55:30.045468Z",
     "iopub.status.idle": "2023-09-13T18:55:33.701518Z",
     "shell.execute_reply": "2023-09-13T18:55:33.699161Z"
    },
    "papermill": {
     "duration": 3.71761,
     "end_time": "2023-09-13T18:55:33.705058",
     "exception": false,
     "start_time": "2023-09-13T18:55:29.987448",
     "status": "completed"
    },
    "tags": []
   },
   "outputs": [],
   "source": [
    "# Ignore warnings\n",
    "import warnings\n",
    "warnings.filterwarnings('ignore')\n",
    "import re\n",
    "import pandas as pd\n",
    "import numpy as np\n",
    "import seaborn as sns \n",
    "from tabulate import tabulate\n",
    "import matplotlib.pyplot as plt\n",
    "%matplotlib inline"
   ]
  },
  {
   "cell_type": "code",
   "execution_count": 2,
   "id": "e7f647ef",
   "metadata": {
    "execution": {
     "iopub.execute_input": "2023-09-13T18:55:34.218004Z",
     "iopub.status.busy": "2023-09-13T18:55:34.216856Z",
     "iopub.status.idle": "2023-09-13T18:55:34.223459Z",
     "shell.execute_reply": "2023-09-13T18:55:34.222527Z"
    },
    "papermill": {
     "duration": 0.065754,
     "end_time": "2023-09-13T18:55:34.225966",
     "exception": false,
     "start_time": "2023-09-13T18:55:34.160212",
     "status": "completed"
    },
    "tags": []
   },
   "outputs": [],
   "source": [
    "# Configure Seaborn plot styles: Set background color and use dark grid\n",
    "sns.set(rc={'axes.facecolor': '#fcf0dc'}, style='darkgrid')"
   ]
  },
  {
   "cell_type": "markdown",
   "id": "1859bfb9",
   "metadata": {
    "papermill": {
     "duration": 0.05608,
     "end_time": "2023-09-13T18:55:34.336948",
     "exception": false,
     "start_time": "2023-09-13T18:55:34.280868",
     "status": "completed"
    },
    "tags": []
   },
   "source": [
    "<a id=\"load_dataset\"></a>\n",
    "# <b><span style='color:#fcc36d'>Step 1.2 |</span><span style='color:#ff6200'> Loading the Dataset</span></b>\n",
    "⬆️ [Tabel of Contents](#contents_tabel)"
   ]
  },
  {
   "cell_type": "markdown",
   "id": "37684594",
   "metadata": {
    "papermill": {
     "duration": 0.055541,
     "end_time": "2023-09-13T18:55:34.447416",
     "exception": false,
     "start_time": "2023-09-13T18:55:34.391875",
     "status": "completed"
    },
    "tags": []
   },
   "source": [
    "<div style=\"border-radius:10px; padding: 15px; background-color: #ffeacc; font-size:120%; text-align:left\">\n",
    "    \n",
    "Next, we will load the dataset into a pandas DataFrame which will facilitate easy manipulation and analysis:"
   ]
  },
  {
   "cell_type": "code",
   "execution_count": 3,
   "id": "baaa0be4",
   "metadata": {
    "execution": {
     "iopub.execute_input": "2023-09-13T18:55:34.563857Z",
     "iopub.status.busy": "2023-09-13T18:55:34.562725Z",
     "iopub.status.idle": "2023-09-13T18:55:36.314527Z",
     "shell.execute_reply": "2023-09-13T18:55:36.312902Z"
    },
    "papermill": {
     "duration": 1.815595,
     "end_time": "2023-09-13T18:55:36.317782",
     "exception": false,
     "start_time": "2023-09-13T18:55:34.502187",
     "status": "completed"
    },
    "tags": []
   },
   "outputs": [],
   "source": [
    "data = pd.read_csv('all_phones_merged.csv')"
   ]
  },
  {
   "cell_type": "markdown",
   "id": "e275d113",
   "metadata": {
    "papermill": {
     "duration": 0.05478,
     "end_time": "2023-09-13T18:55:36.539387",
     "exception": false,
     "start_time": "2023-09-13T18:55:36.484607",
     "status": "completed"
    },
    "tags": []
   },
   "source": [
    "<a id=\"initial_analysis\"></a>\n",
    "# <p style=\"background-color: #ff6200; font-family:calibri; color:white; font-size:140%; font-family:Verdana; text-align:center; border-radius:15px 50px;\">Step 2 | Initial Data Analysis</p>\n",
    "⬆️ [Tabel of Contents](#contents_tabel)"
   ]
  },
  {
   "cell_type": "markdown",
   "id": "321c88dc",
   "metadata": {
    "papermill": {
     "duration": 0.055637,
     "end_time": "2023-09-13T18:55:36.654099",
     "exception": false,
     "start_time": "2023-09-13T18:55:36.598462",
     "status": "completed"
    },
    "tags": []
   },
   "source": [
    "<div style=\"border-radius:10px; padding: 15px; background-color: #ffeacc; font-size:120%; text-align:left\">\n",
    "    \n",
    "Afterward, we are going to gain a thorough understanding of the dataset before proceeding to the data cleaning and transformation stages."
   ]
  },
  {
   "cell_type": "markdown",
   "id": "dc056c8f",
   "metadata": {
    "papermill": {
     "duration": 0.054688,
     "end_time": "2023-09-13T18:55:36.764128",
     "exception": false,
     "start_time": "2023-09-13T18:55:36.709440",
     "status": "completed"
    },
    "tags": []
   },
   "source": [
    "<a id=\"overview\"></a>\n",
    "# <b><span style='color:#fcc36d'>Step 2.1 |</span><span style='color:#ff6200'> Dataset Overview</span></b>\n",
    "⬆️ [Tabel of Contents](#contents_tabel)"
   ]
  },
  {
   "cell_type": "markdown",
   "id": "33b2c029",
   "metadata": {
    "papermill": {
     "duration": 0.056899,
     "end_time": "2023-09-13T18:55:36.876789",
     "exception": false,
     "start_time": "2023-09-13T18:55:36.819890",
     "status": "completed"
    },
    "tags": []
   },
   "source": [
    "<div style=\"border-radius:10px; padding: 15px; background-color: #ffeacc; font-size:120%; text-align:left\">\n",
    "\n",
    "First we will perform a preliminary analysis to understand the structure and types of data columns:"
   ]
  },
  {
   "cell_type": "code",
   "execution_count": 4,
   "id": "4cec4265",
   "metadata": {
    "execution": {
     "iopub.execute_input": "2023-09-13T18:55:36.990952Z",
     "iopub.status.busy": "2023-09-13T18:55:36.990507Z",
     "iopub.status.idle": "2023-09-13T18:55:37.028503Z",
     "shell.execute_reply": "2023-09-13T18:55:37.026858Z"
    },
    "papermill": {
     "duration": 0.098838,
     "end_time": "2023-09-13T18:55:37.031877",
     "exception": false,
     "start_time": "2023-09-13T18:55:36.933039",
     "status": "completed"
    },
    "tags": []
   },
   "outputs": [
    {
     "data": {
      "text/html": [
       "<div>\n",
       "<style scoped>\n",
       "    .dataframe tbody tr th:only-of-type {\n",
       "        vertical-align: middle;\n",
       "    }\n",
       "\n",
       "    .dataframe tbody tr th {\n",
       "        vertical-align: top;\n",
       "    }\n",
       "\n",
       "    .dataframe thead th {\n",
       "        text-align: right;\n",
       "    }\n",
       "</style>\n",
       "<table border=\"1\" class=\"dataframe\">\n",
       "  <thead>\n",
       "    <tr style=\"text-align: right;\">\n",
       "      <th></th>\n",
       "      <th>Name</th>\n",
       "      <th>Price</th>\n",
       "      <th>Rating</th>\n",
       "      <th>Spec1</th>\n",
       "      <th>Spec2</th>\n",
       "      <th>Spec3</th>\n",
       "      <th>Spec4</th>\n",
       "      <th>Spec5</th>\n",
       "      <th>Spec6</th>\n",
       "      <th>Brand</th>\n",
       "    </tr>\n",
       "  </thead>\n",
       "  <tbody>\n",
       "    <tr>\n",
       "      <th>0</th>\n",
       "      <td>Apple iPhone 16</td>\n",
       "      <td>₹72,400</td>\n",
       "      <td>4.75</td>\n",
       "      <td>Dual Sim, 3G, 4G, 5G, VoLTE, Wi-Fi, NFC</td>\n",
       "      <td>Bionic A18, Hexa Core, 4.04 GHz Processor</td>\n",
       "      <td>8 GB RAM, 128 GB inbuilt</td>\n",
       "      <td>3561 mAh Battery with Fast Charging</td>\n",
       "      <td>6.1 inches, 1179 x 2556 px Display with Dynami...</td>\n",
       "      <td>48 MP + 12 MP Dual Rear &amp; 12 MP Front Camera</td>\n",
       "      <td>apple</td>\n",
       "    </tr>\n",
       "    <tr>\n",
       "      <th>1</th>\n",
       "      <td>Apple iPhone 17 Air</td>\n",
       "      <td>₹79,990</td>\n",
       "      <td>4.00</td>\n",
       "      <td>Dual Sim, 3G, 4G, 5G, VoLTE, Wi-Fi, NFC</td>\n",
       "      <td>Apple, Octa Core Processor</td>\n",
       "      <td>8 GB RAM, 128 GB inbuilt</td>\n",
       "      <td>3000 mAh Battery with Fast Charging</td>\n",
       "      <td>6.1 inches, 1200 x 2600 px Display with Small ...</td>\n",
       "      <td>12 MP + 12 MP Dual Rear &amp; 24 MP Front Camera</td>\n",
       "      <td>apple</td>\n",
       "    </tr>\n",
       "    <tr>\n",
       "      <th>2</th>\n",
       "      <td>Apple iPhone 15</td>\n",
       "      <td>₹61,400</td>\n",
       "      <td>4.65</td>\n",
       "      <td>Dual Sim, 3G, 4G, 5G, VoLTE, Wi-Fi, NFC</td>\n",
       "      <td>Bionic A16, Hexa Core, 3.46 GHz Processor</td>\n",
       "      <td>6 GB RAM, 128 GB inbuilt</td>\n",
       "      <td>3349 mAh Battery with Fast Charging</td>\n",
       "      <td>6.1 inches, 1179 x 2556 px Display with Dynami...</td>\n",
       "      <td>48 MP + 12 MP Dual Rear &amp; 12 MP Front Camera</td>\n",
       "      <td>apple</td>\n",
       "    </tr>\n",
       "    <tr>\n",
       "      <th>3</th>\n",
       "      <td>Apple iPhone 16 Pro Max</td>\n",
       "      <td>₹1,33,900</td>\n",
       "      <td>4.20</td>\n",
       "      <td>Dual Sim, 3G, 4G, 5G, VoLTE, Wi-Fi, NFC</td>\n",
       "      <td>Bionic A18 Pro, Hexa Core, 4.05 GHz Processor</td>\n",
       "      <td>8 GB RAM, 256 GB inbuilt</td>\n",
       "      <td>4685 mAh Battery with Fast Charging</td>\n",
       "      <td>6.9 inches, 1320 x 2868 px, 120 Hz Display wit...</td>\n",
       "      <td>48 MP + 48 MP + 12 MP Triple Rear &amp; 12 MP Fron...</td>\n",
       "      <td>apple</td>\n",
       "    </tr>\n",
       "    <tr>\n",
       "      <th>4</th>\n",
       "      <td>Apple iPhone 13</td>\n",
       "      <td>₹43,900</td>\n",
       "      <td>4.35</td>\n",
       "      <td>Dual Sim, 3G, 4G, 5G, VoLTE, Wi-Fi, NFC</td>\n",
       "      <td>Bionic A15, Hexa Core, 3.22 GHz Processor</td>\n",
       "      <td>4 GB RAM, 128 GB inbuilt</td>\n",
       "      <td>3240 mAh Battery with Fast Charging</td>\n",
       "      <td>6.1 inches, 1170 x 2532 px Display with Small ...</td>\n",
       "      <td>12 MP + 12 MP Dual Rear &amp; 12 MP Front Camera</td>\n",
       "      <td>apple</td>\n",
       "    </tr>\n",
       "    <tr>\n",
       "      <th>5</th>\n",
       "      <td>Apple iPhone 17</td>\n",
       "      <td>₹89,990</td>\n",
       "      <td>4.60</td>\n",
       "      <td>Dual Sim, 3G, 4G, 5G, VoLTE, Wi-Fi, NFC</td>\n",
       "      <td>Bionic A19, Octa Core Processor</td>\n",
       "      <td>12 GB RAM, 128 GB inbuilt</td>\n",
       "      <td>4190 mAh Battery with Fast Charging</td>\n",
       "      <td>6.3 inches, 1200 x 2600 px, 120 Hz Display wit...</td>\n",
       "      <td>50 MP + 12 MP Dual Rear &amp; 24 MP Front Camera</td>\n",
       "      <td>apple</td>\n",
       "    </tr>\n",
       "    <tr>\n",
       "      <th>6</th>\n",
       "      <td>Apple iPhone 16 Pro</td>\n",
       "      <td>₹1,10,900</td>\n",
       "      <td>4.25</td>\n",
       "      <td>Dual Sim, 3G, 4G, 5G, VoLTE, Wi-Fi, NFC</td>\n",
       "      <td>Bionic A18 Pro, Hexa Core, 4.05 GHz Processor</td>\n",
       "      <td>8 GB RAM, 128 GB inbuilt</td>\n",
       "      <td>3582 mAh Battery with Fast Charging</td>\n",
       "      <td>6.3 inches, 1206 x 2622 px, 120 Hz Display wit...</td>\n",
       "      <td>48 MP + 48 MP + 12 MP Triple Rear &amp; 12 MP Fron...</td>\n",
       "      <td>apple</td>\n",
       "    </tr>\n",
       "    <tr>\n",
       "      <th>7</th>\n",
       "      <td>Apple iPhone 16e</td>\n",
       "      <td>₹53,600</td>\n",
       "      <td>4.55</td>\n",
       "      <td>Dual Sim, 3G, 4G, 5G, VoLTE, Wi-Fi, NFC</td>\n",
       "      <td>Bionic A18, Hexa Core, 4.04 GHz Processor</td>\n",
       "      <td>8 GB RAM, 128 GB inbuilt</td>\n",
       "      <td>4005 mAh Battery with Fast Charging</td>\n",
       "      <td>6.1 inches, 1170 x 2532 px Display with Small ...</td>\n",
       "      <td>48 MP Rear &amp; 12 MP Front Camera</td>\n",
       "      <td>apple</td>\n",
       "    </tr>\n",
       "    <tr>\n",
       "      <th>8</th>\n",
       "      <td>Apple iPhone 17 Pro Max</td>\n",
       "      <td>₹1,69,990</td>\n",
       "      <td>4.25</td>\n",
       "      <td>Dual Sim, 3G, 4G, 5G, VoLTE, Wi-Fi, NFC</td>\n",
       "      <td>Apple A19 Pro</td>\n",
       "      <td>256 GB inbuilt</td>\n",
       "      <td>6.9 inches, 1320 x 2868 px, 120 Hz Display wit...</td>\n",
       "      <td>48 MP + 48 MP + 48 MP Triple Rear &amp; 24 MP Fron...</td>\n",
       "      <td>Memory Card Not Supported</td>\n",
       "      <td>apple</td>\n",
       "    </tr>\n",
       "    <tr>\n",
       "      <th>9</th>\n",
       "      <td>Apple iPhone 17 Pro</td>\n",
       "      <td>₹1,49,990</td>\n",
       "      <td>4.10</td>\n",
       "      <td>Dual Sim, 3G, 4G, 5G, VoLTE, Wi-Fi, NFC</td>\n",
       "      <td>Apple A19 Pro</td>\n",
       "      <td>128 GB inbuilt</td>\n",
       "      <td>6.3 inches, 1206 x 2622 px, 120 Hz Display wit...</td>\n",
       "      <td>48 MP + 48 MP + 48 MP Triple Rear &amp; 24 MP Fron...</td>\n",
       "      <td>Memory Card Not Supported</td>\n",
       "      <td>apple</td>\n",
       "    </tr>\n",
       "  </tbody>\n",
       "</table>\n",
       "</div>"
      ],
      "text/plain": [
       "                      Name      Price  Rating  \\\n",
       "0          Apple iPhone 16    ₹72,400    4.75   \n",
       "1      Apple iPhone 17 Air    ₹79,990    4.00   \n",
       "2          Apple iPhone 15    ₹61,400    4.65   \n",
       "3  Apple iPhone 16 Pro Max  ₹1,33,900    4.20   \n",
       "4          Apple iPhone 13    ₹43,900    4.35   \n",
       "5          Apple iPhone 17    ₹89,990    4.60   \n",
       "6      Apple iPhone 16 Pro  ₹1,10,900    4.25   \n",
       "7         Apple iPhone 16e    ₹53,600    4.55   \n",
       "8  Apple iPhone 17 Pro Max  ₹1,69,990    4.25   \n",
       "9      Apple iPhone 17 Pro  ₹1,49,990    4.10   \n",
       "\n",
       "                                     Spec1  \\\n",
       "0  Dual Sim, 3G, 4G, 5G, VoLTE, Wi-Fi, NFC   \n",
       "1  Dual Sim, 3G, 4G, 5G, VoLTE, Wi-Fi, NFC   \n",
       "2  Dual Sim, 3G, 4G, 5G, VoLTE, Wi-Fi, NFC   \n",
       "3  Dual Sim, 3G, 4G, 5G, VoLTE, Wi-Fi, NFC   \n",
       "4  Dual Sim, 3G, 4G, 5G, VoLTE, Wi-Fi, NFC   \n",
       "5  Dual Sim, 3G, 4G, 5G, VoLTE, Wi-Fi, NFC   \n",
       "6  Dual Sim, 3G, 4G, 5G, VoLTE, Wi-Fi, NFC   \n",
       "7  Dual Sim, 3G, 4G, 5G, VoLTE, Wi-Fi, NFC   \n",
       "8  Dual Sim, 3G, 4G, 5G, VoLTE, Wi-Fi, NFC   \n",
       "9  Dual Sim, 3G, 4G, 5G, VoLTE, Wi-Fi, NFC   \n",
       "\n",
       "                                           Spec2                      Spec3  \\\n",
       "0      Bionic A18, Hexa Core, 4.04 GHz Processor   8 GB RAM, 128 GB inbuilt   \n",
       "1                     Apple, Octa Core Processor   8 GB RAM, 128 GB inbuilt   \n",
       "2      Bionic A16, Hexa Core, 3.46 GHz Processor   6 GB RAM, 128 GB inbuilt   \n",
       "3  Bionic A18 Pro, Hexa Core, 4.05 GHz Processor   8 GB RAM, 256 GB inbuilt   \n",
       "4      Bionic A15, Hexa Core, 3.22 GHz Processor   4 GB RAM, 128 GB inbuilt   \n",
       "5                Bionic A19, Octa Core Processor  12 GB RAM, 128 GB inbuilt   \n",
       "6  Bionic A18 Pro, Hexa Core, 4.05 GHz Processor   8 GB RAM, 128 GB inbuilt   \n",
       "7      Bionic A18, Hexa Core, 4.04 GHz Processor   8 GB RAM, 128 GB inbuilt   \n",
       "8                                  Apple A19 Pro             256 GB inbuilt   \n",
       "9                                  Apple A19 Pro             128 GB inbuilt   \n",
       "\n",
       "                                               Spec4  \\\n",
       "0                3561 mAh Battery with Fast Charging   \n",
       "1                3000 mAh Battery with Fast Charging   \n",
       "2                3349 mAh Battery with Fast Charging   \n",
       "3                4685 mAh Battery with Fast Charging   \n",
       "4                3240 mAh Battery with Fast Charging   \n",
       "5                4190 mAh Battery with Fast Charging   \n",
       "6                3582 mAh Battery with Fast Charging   \n",
       "7                4005 mAh Battery with Fast Charging   \n",
       "8  6.9 inches, 1320 x 2868 px, 120 Hz Display wit...   \n",
       "9  6.3 inches, 1206 x 2622 px, 120 Hz Display wit...   \n",
       "\n",
       "                                               Spec5  \\\n",
       "0  6.1 inches, 1179 x 2556 px Display with Dynami...   \n",
       "1  6.1 inches, 1200 x 2600 px Display with Small ...   \n",
       "2  6.1 inches, 1179 x 2556 px Display with Dynami...   \n",
       "3  6.9 inches, 1320 x 2868 px, 120 Hz Display wit...   \n",
       "4  6.1 inches, 1170 x 2532 px Display with Small ...   \n",
       "5  6.3 inches, 1200 x 2600 px, 120 Hz Display wit...   \n",
       "6  6.3 inches, 1206 x 2622 px, 120 Hz Display wit...   \n",
       "7  6.1 inches, 1170 x 2532 px Display with Small ...   \n",
       "8  48 MP + 48 MP + 48 MP Triple Rear & 24 MP Fron...   \n",
       "9  48 MP + 48 MP + 48 MP Triple Rear & 24 MP Fron...   \n",
       "\n",
       "                                               Spec6  Brand  \n",
       "0       48 MP + 12 MP Dual Rear & 12 MP Front Camera  apple  \n",
       "1       12 MP + 12 MP Dual Rear & 24 MP Front Camera  apple  \n",
       "2       48 MP + 12 MP Dual Rear & 12 MP Front Camera  apple  \n",
       "3  48 MP + 48 MP + 12 MP Triple Rear & 12 MP Fron...  apple  \n",
       "4       12 MP + 12 MP Dual Rear & 12 MP Front Camera  apple  \n",
       "5       50 MP + 12 MP Dual Rear & 24 MP Front Camera  apple  \n",
       "6  48 MP + 48 MP + 12 MP Triple Rear & 12 MP Fron...  apple  \n",
       "7                    48 MP Rear & 12 MP Front Camera  apple  \n",
       "8                          Memory Card Not Supported  apple  \n",
       "9                          Memory Card Not Supported  apple  "
      ]
     },
     "execution_count": 4,
     "metadata": {},
     "output_type": "execute_result"
    }
   ],
   "source": [
    "data.head(10)"
   ]
  },
  {
   "cell_type": "code",
   "execution_count": 5,
   "id": "d408d719",
   "metadata": {
    "execution": {
     "iopub.execute_input": "2023-09-13T18:55:37.146324Z",
     "iopub.status.busy": "2023-09-13T18:55:37.144933Z",
     "iopub.status.idle": "2023-09-13T18:55:37.452307Z",
     "shell.execute_reply": "2023-09-13T18:55:37.450632Z"
    },
    "papermill": {
     "duration": 0.367369,
     "end_time": "2023-09-13T18:55:37.454997",
     "exception": false,
     "start_time": "2023-09-13T18:55:37.087628",
     "status": "completed"
    },
    "tags": []
   },
   "outputs": [
    {
     "name": "stdout",
     "output_type": "stream",
     "text": [
      "<class 'pandas.core.frame.DataFrame'>\n",
      "RangeIndex: 1132 entries, 0 to 1131\n",
      "Data columns (total 10 columns):\n",
      " #   Column  Non-Null Count  Dtype  \n",
      "---  ------  --------------  -----  \n",
      " 0   Name    1132 non-null   object \n",
      " 1   Price   1132 non-null   object \n",
      " 2   Rating  1090 non-null   float64\n",
      " 3   Spec1   1090 non-null   object \n",
      " 4   Spec2   1090 non-null   object \n",
      " 5   Spec3   1090 non-null   object \n",
      " 6   Spec4   1090 non-null   object \n",
      " 7   Spec5   1090 non-null   object \n",
      " 8   Spec6   1090 non-null   object \n",
      " 9   Brand   1132 non-null   object \n",
      "dtypes: float64(1), object(9)\n",
      "memory usage: 88.6+ KB\n"
     ]
    }
   ],
   "source": [
    "data.info()"
   ]
  },
  {
   "cell_type": "code",
   "execution_count": 6,
   "id": "87b4016a",
   "metadata": {},
   "outputs": [
    {
     "name": "stdout",
     "output_type": "stream",
     "text": [
      "<class 'pandas.core.frame.DataFrame'>\n",
      "RangeIndex: 1132 entries, 0 to 1131\n",
      "Data columns (total 10 columns):\n",
      " #   Column                Non-Null Count  Dtype  \n",
      "---  ------                --------------  -----  \n",
      " 0   Name                  1132 non-null   object \n",
      " 1   Price_INR             1132 non-null   object \n",
      " 2   Rating                1090 non-null   float64\n",
      " 3   network_type          1090 non-null   object \n",
      " 4   Processor             1090 non-null   object \n",
      " 5   RAM                   1090 non-null   object \n",
      " 6   battery_capicity_MAH  1090 non-null   object \n",
      " 7   display_size_INCH     1090 non-null   object \n",
      " 8   camera_MP             1090 non-null   object \n",
      " 9   Brand                 1132 non-null   object \n",
      "dtypes: float64(1), object(9)\n",
      "memory usage: 88.6+ KB\n"
     ]
    }
   ],
   "source": [
    "#Giving appropriate names to features\n",
    "data = data.rename(columns={'Price': 'Price_INR', 'Spec1': 'network_type', 'Spec2': 'Processor', 'Spec3': 'RAM', 'Spec4': 'battery_capicity_MAH', 'Spec5': 'display_size_INCH', 'Spec6' : 'camera_MP'})\n",
    "data.info()"
   ]
  },
  {
   "cell_type": "markdown",
   "id": "6f2947d7",
   "metadata": {
    "papermill": {
     "duration": 0.056558,
     "end_time": "2023-09-13T18:55:37.566435",
     "exception": false,
     "start_time": "2023-09-13T18:55:37.509877",
     "status": "completed"
    },
    "tags": []
   },
   "source": [
    "<div style=\"border-radius:10px; padding: 15px; background-color: #ffeacc; font-size:120%; text-align:left\">\n",
    "<h3 align=\"left\"><font color=#ff6200>Inferences:</font></h3>\n",
    "    \n",
    "The dataset consists of 541,909 entries and 8 columns. Here is a brief overview of each column:\n",
    "\n",
    "- __`Name`__: This is an object data type column that contains the Names of the smarthphones.\n",
    "   \n",
    "    \n",
    "- __`Price_INR`__: An object-type column that records the price of each smartphone in Indian Rupees. Although numeric in nature, it is stored as an object—this likely includes commas or symbols that need to be cleaned before numerical analysis. \n",
    "\n",
    "    \n",
    "- __`Rating`__: An object-type column that records the price of each smartphone in Indian Rupees. Although numeric in nature, it is stored as an object—this likely includes commas or symbols that need to be cleaned before numerical analysis.\n",
    "\n",
    "    \n",
    "- __`network_type`__:An object-type column indicating the network compatibility (e.g., 4G, 5G). Similar to the Rating column, it has 1,037 non-null entries, implying some missing values.\n",
    "    \n",
    "    \n",
    "    \n",
    "- __`Processor`__: This object column lists the processor used in each smartphone. Again, some entries are missing, as indicated by 1,037 non-null records.\n",
    "   \n",
    "\n",
    "- __`RAM`__: An object column specifying the amount of RAM and storage capacity in each phone. Stored as text (e.g., \"8 GB,128 GB\"), this will need transformation into numerical form and into two different columns  for effective analysis..\n",
    "\n",
    "    \n",
    "- __`battery_capacity_MAH`__: Another object column that states the battery capacity in milliamp hours (mAh). Like RAM, it will need cleaning and type conversion.\n",
    "\n",
    "    \n",
    "- __`display_size_INCH`__: Also stored as an object, this column represents the screen size in inches. Numeric conversion will be required for visualizations and clustering.\n",
    "\n",
    "    \n",
    "- __`Brand`__: An object column that specifies the brand of each smartphone. All entries are non-null, which is helpful for brand-based grouping or analysis.\n",
    "    \n",
    "\n",
    "- __`camera_MP`__:An int column that specifies how many MP camera smartphone have.\n",
    "\n",
    "From this initial inspection, we observe:\n",
    "\n",
    "Multiple columns are stored as object despite being numeric in nature (Price_INR, RAM, battery_capicity_MAH, display_size_INCH,camera_MP) and will require string-to-number conversion.\n",
    "\n",
    "The Rating, network_type, and Processor columns contain some missing values that must be handled.\n",
    "\n",
    "Brand and Name are complete and can help in identification and aggregation.\n",
    "\n",
    "The next step will focus on data cleaning, including handling missing values, converting object types to appropriate numeric formats, and preparing the dataset for clustering and other machine learning tasks."
   ]
  },
  {
   "cell_type": "markdown",
   "id": "5606eacb",
   "metadata": {
    "papermill": {
     "duration": 0.057565,
     "end_time": "2023-09-13T18:55:37.681334",
     "exception": false,
     "start_time": "2023-09-13T18:55:37.623769",
     "status": "completed"
    },
    "tags": []
   },
   "source": [
    "<a id=\"statistics\"></a>\n",
    "# <b><span style='color:#fcc36d'>Step 2.2 |</span><span style='color:#ff6200'> Summary Statistics</span></b>\n",
    "⬆️ [Tabel of Contents](#contents_tabel)"
   ]
  },
  {
   "cell_type": "markdown",
   "id": "a4b3d6d9",
   "metadata": {
    "papermill": {
     "duration": 0.056226,
     "end_time": "2023-09-13T18:55:37.795485",
     "exception": false,
     "start_time": "2023-09-13T18:55:37.739259",
     "status": "completed"
    },
    "tags": []
   },
   "source": [
    "<div style=\"border-radius:10px; padding: 15px; background-color: #ffeacc; font-size:120%; text-align:left\">\n",
    "    \n",
    "Now, we are going to generate summary statistics to gain initial insights into the data distribution:"
   ]
  },
  {
   "cell_type": "code",
   "execution_count": 7,
   "id": "a944b192",
   "metadata": {},
   "outputs": [
    {
     "data": {
      "text/html": [
       "<div>\n",
       "<style scoped>\n",
       "    .dataframe tbody tr th:only-of-type {\n",
       "        vertical-align: middle;\n",
       "    }\n",
       "\n",
       "    .dataframe tbody tr th {\n",
       "        vertical-align: top;\n",
       "    }\n",
       "\n",
       "    .dataframe thead th {\n",
       "        text-align: right;\n",
       "    }\n",
       "</style>\n",
       "<table border=\"1\" class=\"dataframe\">\n",
       "  <thead>\n",
       "    <tr style=\"text-align: right;\">\n",
       "      <th></th>\n",
       "      <th>count</th>\n",
       "      <th>mean</th>\n",
       "      <th>std</th>\n",
       "      <th>min</th>\n",
       "      <th>25%</th>\n",
       "      <th>50%</th>\n",
       "      <th>75%</th>\n",
       "      <th>max</th>\n",
       "    </tr>\n",
       "  </thead>\n",
       "  <tbody>\n",
       "    <tr>\n",
       "      <th>Rating</th>\n",
       "      <td>1090.0</td>\n",
       "      <td>4.372706</td>\n",
       "      <td>0.231705</td>\n",
       "      <td>3.45</td>\n",
       "      <td>4.15</td>\n",
       "      <td>4.35</td>\n",
       "      <td>4.55</td>\n",
       "      <td>4.75</td>\n",
       "    </tr>\n",
       "  </tbody>\n",
       "</table>\n",
       "</div>"
      ],
      "text/plain": [
       "         count      mean       std   min   25%   50%   75%   max\n",
       "Rating  1090.0  4.372706  0.231705  3.45  4.15  4.35  4.55  4.75"
      ]
     },
     "execution_count": 7,
     "metadata": {},
     "output_type": "execute_result"
    }
   ],
   "source": [
    "# Summary statistics for categorical variables\n",
    "data.describe().T"
   ]
  },
  {
   "cell_type": "code",
   "execution_count": 8,
   "id": "38d8e05d",
   "metadata": {
    "execution": {
     "iopub.execute_input": "2023-09-13T18:55:38.146804Z",
     "iopub.status.busy": "2023-09-13T18:55:38.145535Z",
     "iopub.status.idle": "2023-09-13T18:55:38.926847Z",
     "shell.execute_reply": "2023-09-13T18:55:38.925304Z"
    },
    "papermill": {
     "duration": 0.843701,
     "end_time": "2023-09-13T18:55:38.930130",
     "exception": false,
     "start_time": "2023-09-13T18:55:38.086429",
     "status": "completed"
    },
    "scrolled": true,
    "tags": []
   },
   "outputs": [
    {
     "data": {
      "text/html": [
       "<div>\n",
       "<style scoped>\n",
       "    .dataframe tbody tr th:only-of-type {\n",
       "        vertical-align: middle;\n",
       "    }\n",
       "\n",
       "    .dataframe tbody tr th {\n",
       "        vertical-align: top;\n",
       "    }\n",
       "\n",
       "    .dataframe thead th {\n",
       "        text-align: right;\n",
       "    }\n",
       "</style>\n",
       "<table border=\"1\" class=\"dataframe\">\n",
       "  <thead>\n",
       "    <tr style=\"text-align: right;\">\n",
       "      <th></th>\n",
       "      <th>count</th>\n",
       "      <th>unique</th>\n",
       "      <th>top</th>\n",
       "      <th>freq</th>\n",
       "    </tr>\n",
       "  </thead>\n",
       "  <tbody>\n",
       "    <tr>\n",
       "      <th>Name</th>\n",
       "      <td>1132</td>\n",
       "      <td>1094</td>\n",
       "      <td>iQOO Z10R</td>\n",
       "      <td>5</td>\n",
       "    </tr>\n",
       "    <tr>\n",
       "      <th>Price_INR</th>\n",
       "      <td>1132</td>\n",
       "      <td>503</td>\n",
       "      <td>₹34,990</td>\n",
       "      <td>15</td>\n",
       "    </tr>\n",
       "    <tr>\n",
       "      <th>network_type</th>\n",
       "      <td>1090</td>\n",
       "      <td>25</td>\n",
       "      <td>Dual Sim, 3G, 4G, 5G, VoLTE, Wi-Fi</td>\n",
       "      <td>290</td>\n",
       "    </tr>\n",
       "    <tr>\n",
       "      <th>Processor</th>\n",
       "      <td>1090</td>\n",
       "      <td>225</td>\n",
       "      <td>Dimensity 6300, Octa Core, 2.4 GHz Processor</td>\n",
       "      <td>85</td>\n",
       "    </tr>\n",
       "    <tr>\n",
       "      <th>RAM</th>\n",
       "      <td>1090</td>\n",
       "      <td>43</td>\n",
       "      <td>8 GB RAM, 128 GB inbuilt</td>\n",
       "      <td>252</td>\n",
       "    </tr>\n",
       "    <tr>\n",
       "      <th>battery_capicity_MAH</th>\n",
       "      <td>1090</td>\n",
       "      <td>277</td>\n",
       "      <td>5000 mAh Battery with 45W Fast Charging</td>\n",
       "      <td>54</td>\n",
       "    </tr>\n",
       "    <tr>\n",
       "      <th>display_size_INCH</th>\n",
       "      <td>1090</td>\n",
       "      <td>306</td>\n",
       "      <td>6.67 inches, 1080 x 2400 px, 120 Hz Display wi...</td>\n",
       "      <td>68</td>\n",
       "    </tr>\n",
       "    <tr>\n",
       "      <th>camera_MP</th>\n",
       "      <td>1090</td>\n",
       "      <td>207</td>\n",
       "      <td>50 MP + 2 MP Dual Rear &amp; 8 MP Front Camera</td>\n",
       "      <td>80</td>\n",
       "    </tr>\n",
       "    <tr>\n",
       "      <th>Brand</th>\n",
       "      <td>1132</td>\n",
       "      <td>9</td>\n",
       "      <td>realme</td>\n",
       "      <td>145</td>\n",
       "    </tr>\n",
       "  </tbody>\n",
       "</table>\n",
       "</div>"
      ],
      "text/plain": [
       "                     count unique  \\\n",
       "Name                  1132   1094   \n",
       "Price_INR             1132    503   \n",
       "network_type          1090     25   \n",
       "Processor             1090    225   \n",
       "RAM                   1090     43   \n",
       "battery_capicity_MAH  1090    277   \n",
       "display_size_INCH     1090    306   \n",
       "camera_MP             1090    207   \n",
       "Brand                 1132      9   \n",
       "\n",
       "                                                                    top freq  \n",
       "Name                                                          iQOO Z10R    5  \n",
       "Price_INR                                                       ₹34,990   15  \n",
       "network_type                         Dual Sim, 3G, 4G, 5G, VoLTE, Wi-Fi  290  \n",
       "Processor                  Dimensity 6300, Octa Core, 2.4 GHz Processor   85  \n",
       "RAM                                            8 GB RAM, 128 GB inbuilt  252  \n",
       "battery_capicity_MAH            5000 mAh Battery with 45W Fast Charging   54  \n",
       "display_size_INCH     6.67 inches, 1080 x 2400 px, 120 Hz Display wi...   68  \n",
       "camera_MP                    50 MP + 2 MP Dual Rear & 8 MP Front Camera   80  \n",
       "Brand                                                            realme  145  "
      ]
     },
     "execution_count": 8,
     "metadata": {},
     "output_type": "execute_result"
    }
   ],
   "source": [
    "# Summary statistics for categorical variables\n",
    "data.describe(include='object').T"
   ]
  },
  {
   "cell_type": "markdown",
   "id": "c5e67213",
   "metadata": {
    "papermill": {
     "duration": 0.060269,
     "end_time": "2023-09-13T18:55:39.048706",
     "exception": false,
     "start_time": "2023-09-13T18:55:38.988437",
     "status": "completed"
    },
    "tags": []
   },
   "source": [
    "<div style=\"border-radius:10px; padding: 15px; background-color: #ffeacc; font-size:120%; text-align:left\">\n",
    "<h3 align=\"left\"><font color=#ff6200>Inferences:</font></h3>\n",
    "\n",
    "The dataset comprises <b>1,079 smartphone entries</b> with <b>9 key attributes</b>. Here is a detailed overview:\n",
    "\n",
    "- <b>Name</b>: An object-type column containing smartphone names. There are 1,040 unique models, with the most common being <i>Motorola Edge 60 Fusion</i>, which appears 7 times, indicating either multiple variants or duplicate listings.\n",
    "\n",
    "    \n",
    "- <b>Price_INR</b>: This column, also of object type, represents the smartphone prices. Although all entries are filled, prices are in string format (with the ₹ symbol) and require conversion to numeric for analysis. There are 474 unique price values, with ₹29,990 appearing most frequently.\n",
    "\n",
    "    \n",
    "- <b>Rating</b>: A float column indicating user ratings. 42 entries are missing. The presence of ratings helps evaluate customer satisfaction but needs imputation or removal for missing values.\n",
    "\n",
    "    \n",
    "- <b>network_type</b>: Object-type column showing the network configuration. It has 22 unique combinations, with <i>“Dual Sim, 3G, 4G, 5G, VoLTE, Wi-Fi”</i> being the most common setup (281 instances). This may reflect modern standard connectivity features.\n",
    "\n",
    "    \n",
    "- <b>Processor</b>: This object column has 220 unique processor configurations. <i>“Dimensity 6300, Octa Core, 2.4 GHz Processor”</i> is the most frequent (80 times). The processor column is key for performance segmentation.\n",
    "\n",
    "    \n",
    "- <b>RAM</b>: Object column with 38 unique combinations of RAM and internal storage. The most common value is <i>“8 GB RAM, 128 GB inbuilt”</i>, seen in 243 entries, suggesting a popular mid-range configuration.\n",
    "\n",
    "    \n",
    "- <b>battery_capicity_MAH</b>: This column contains battery details and charging info (object type, 261 unique values). The most common configuration is <i>“5000 mAh Battery with 45W Fast Charging”</i>, indicating current industry standards.\n",
    "\n",
    "    \n",
    "- <b>display_size_INCH</b>: Object column with display size and resolution, totaling 296 unique entries. The most frequent entry describes a <i>“6.67 inches, 1080 x 2400 px, 120 Hz Display”</i>, typical of mid-range smartphones.\n",
    "\n",
    "    \n",
    "- <b>Brand</b>: Object-type column listing the manufacturer. There are 9 unique brands, with <b>Xiaomi</b> dominating (127 entries), followed by other major players like Samsung, Realme, and Motorola.\n",
    "\n",
    "  \n",
    "- <b>camera_MP</b>: This is an object-type column that lists the megapixel values of rear cameras in smartphones. It contains 207 unique values.\n",
    "\n",
    "  \n",
    "<br>\n",
    "From a data quality perspective:\n",
    "- All columns are filled except for minor missing values in <code>Rating</code>, <code>network_type</code>, <code>Processor</code>, <code>RAM</code>, <code>battery_capicity_MAH</code>, and <code>display_size_INCH</code> (each with 42 missing entries).\n",
    "- <code>Price_INR</code> needs to be cleaned and converted to numeric for quantitative analysis.\n",
    "- Text-heavy columns (like processor, battery, and display) might benefit from parsing or extracting key specs for clustering and modeling.\n",
    "<br><br>\n",
    "\n",
    "These insights serve as the foundation for further data cleaning, feature engineering, and clustering tasks in your smartphone segmentation project.\n",
    "</div>\n"
   ]
  },
  {
   "cell_type": "markdown",
   "id": "e987c3f4",
   "metadata": {
    "papermill": {
     "duration": 0.058377,
     "end_time": "2023-09-13T18:55:39.164241",
     "exception": false,
     "start_time": "2023-09-13T18:55:39.105864",
     "status": "completed"
    },
    "tags": []
   },
   "source": [
    "<a id=\"data_cleaning\"></a>\n",
    "# <p style=\"background-color: #ff6200; font-family:calibri; color:white; font-size:140%; font-family:Verdana; text-align:center; border-radius:15px 50px;\">Step 3 |  Data Cleaning & Transformation</p>\n",
    "⬆️ [Tabel of Contents](#contents_tabel)"
   ]
  },
  {
   "cell_type": "markdown",
   "id": "c3c78453",
   "metadata": {
    "papermill": {
     "duration": 0.057457,
     "end_time": "2023-09-13T18:55:39.281958",
     "exception": false,
     "start_time": "2023-09-13T18:55:39.224501",
     "status": "completed"
    },
    "tags": []
   },
   "source": [
    "<div style=\"border-radius:10px; padding: 15px; background-color: #ffeacc; font-size:120%; text-align:left\">\n",
    "\n",
    "This step encompasses a comprehensive cleaning and transformation process to refine the dataset. It includes addressing missing values, eliminating duplicate entries, correcting anomalies in product codes and descriptions, and other necessary adjustments to prepare the data for in-depth analysis and modeling."
   ]
  },
  {
   "cell_type": "markdown",
   "id": "5352c8a4",
   "metadata": {
    "papermill": {
     "duration": 0.05663,
     "end_time": "2023-09-13T18:55:39.395575",
     "exception": false,
     "start_time": "2023-09-13T18:55:39.338945",
     "status": "completed"
    },
    "tags": []
   },
   "source": [
    "<a id=\"missing_values\"></a>\n",
    "# <b><span style='color:#fcc36d'>Step 3.1 |</span><span style='color:#ff6200'> Handling Missing Values</span></b>\n",
    "⬆️ [Tabel of Contents](#contents_tabel)"
   ]
  },
  {
   "cell_type": "markdown",
   "id": "44be9a3d",
   "metadata": {
    "papermill": {
     "duration": 0.056136,
     "end_time": "2023-09-13T18:55:39.509898",
     "exception": false,
     "start_time": "2023-09-13T18:55:39.453762",
     "status": "completed"
    },
    "tags": []
   },
   "source": [
    "<div style=\"border-radius:10px; padding: 15px; background-color: #ffeacc; font-size:120%; text-align:left\">\n",
    "    \n",
    "Initially, we will determine the percentage of missing values present in each column, followed by selecting the most effective strategy to address them:"
   ]
  },
  {
   "cell_type": "code",
   "execution_count": 9,
   "id": "099e3a43",
   "metadata": {
    "execution": {
     "iopub.execute_input": "2023-09-13T18:55:39.631822Z",
     "iopub.status.busy": "2023-09-13T18:55:39.631324Z",
     "iopub.status.idle": "2023-09-13T18:55:40.550431Z",
     "shell.execute_reply": "2023-09-13T18:55:40.548527Z"
    },
    "papermill": {
     "duration": 0.983847,
     "end_time": "2023-09-13T18:55:40.553710",
     "exception": false,
     "start_time": "2023-09-13T18:55:39.569863",
     "status": "completed"
    },
    "tags": []
   },
   "outputs": [
    {
     "data": {
      "text/plain": [
       "Name                     0\n",
       "Price_INR                0\n",
       "Rating                  42\n",
       "network_type            42\n",
       "Processor               42\n",
       "RAM                     42\n",
       "battery_capicity_MAH    42\n",
       "display_size_INCH       42\n",
       "camera_MP               42\n",
       "Brand                    0\n",
       "dtype: int64"
      ]
     },
     "execution_count": 9,
     "metadata": {},
     "output_type": "execute_result"
    }
   ],
   "source": [
    "data.isna().sum()"
   ]
  },
  {
   "cell_type": "code",
   "execution_count": 10,
   "id": "666e55a8",
   "metadata": {},
   "outputs": [
    {
     "data": {
      "text/plain": [
       "Name                    0\n",
       "Price_INR               0\n",
       "Rating                  0\n",
       "network_type            0\n",
       "Processor               0\n",
       "RAM                     0\n",
       "battery_capicity_MAH    0\n",
       "display_size_INCH       0\n",
       "camera_MP               0\n",
       "Brand                   0\n",
       "dtype: int64"
      ]
     },
     "execution_count": 10,
     "metadata": {},
     "output_type": "execute_result"
    }
   ],
   "source": [
    "data = data.dropna().reset_index(drop=True)\n",
    "data.isna().sum()"
   ]
  },
  {
   "cell_type": "markdown",
   "id": "30afd646",
   "metadata": {
    "papermill": {
     "duration": 0.07041,
     "end_time": "2023-09-13T18:55:43.749148",
     "exception": false,
     "start_time": "2023-09-13T18:55:43.678738",
     "status": "completed"
    },
    "tags": []
   },
   "source": [
    "<a id=\"duplicates\"></a>\n",
    "# <b><span style='color:#fcc36d'>Step 3.2 |</span><span style='color:#ff6200'> Removing Duplicates</span></b>\n",
    "⬆️ [Tabel of Contents](#contents_tabel)"
   ]
  },
  {
   "cell_type": "code",
   "execution_count": 11,
   "id": "19e11e75",
   "metadata": {
    "execution": {
     "iopub.execute_input": "2023-09-13T18:55:43.869398Z",
     "iopub.status.busy": "2023-09-13T18:55:43.868914Z",
     "iopub.status.idle": "2023-09-13T18:55:44.291247Z",
     "shell.execute_reply": "2023-09-13T18:55:44.289685Z"
    },
    "papermill": {
     "duration": 0.486159,
     "end_time": "2023-09-13T18:55:44.294362",
     "exception": false,
     "start_time": "2023-09-13T18:55:43.808203",
     "status": "completed"
    },
    "tags": []
   },
   "outputs": [
    {
     "data": {
      "text/plain": [
       "0"
      ]
     },
     "execution_count": 11,
     "metadata": {},
     "output_type": "execute_result"
    }
   ],
   "source": [
    "data.duplicated().sum()"
   ]
  },
  {
   "cell_type": "markdown",
   "id": "44637a42",
   "metadata": {
    "execution": {
     "iopub.execute_input": "2023-09-13T18:55:44.660637Z",
     "iopub.status.busy": "2023-09-13T18:55:44.660152Z",
     "iopub.status.idle": "2023-09-13T18:55:44.668369Z",
     "shell.execute_reply": "2023-09-13T18:55:44.666624Z"
    },
    "papermill": {
     "duration": 0.073523,
     "end_time": "2023-09-13T18:55:44.671722",
     "exception": false,
     "start_time": "2023-09-13T18:55:44.598199",
     "status": "completed"
    },
    "tags": []
   },
   "source": [
    "Dataset didn't have any duplicate entry"
   ]
  },
  {
   "cell_type": "markdown",
   "id": "b00cc10e",
   "metadata": {
    "papermill": {
     "duration": 0.060775,
     "end_time": "2023-09-13T18:55:44.793574",
     "exception": false,
     "start_time": "2023-09-13T18:55:44.732799",
     "status": "completed"
    },
    "tags": []
   },
   "source": [
    "<a id=\"price_cleaning\"></a>\n",
    "# <b><span style='color:#fcc36d'>Step 3.3 |</span><span style='color:#ff6200'>  Cleaning Price Column</span></b>\n",
    "⬆️ [Tabel of Contents](#contents_tabel)"
   ]
  },
  {
   "cell_type": "code",
   "execution_count": 12,
   "id": "3c8eb6d4",
   "metadata": {
    "execution": {
     "iopub.execute_input": "2023-09-13T18:55:45.046871Z",
     "iopub.status.busy": "2023-09-13T18:55:45.046415Z",
     "iopub.status.idle": "2023-09-13T18:55:45.092406Z",
     "shell.execute_reply": "2023-09-13T18:55:45.091082Z"
    },
    "papermill": {
     "duration": 0.116377,
     "end_time": "2023-09-13T18:55:45.095198",
     "exception": false,
     "start_time": "2023-09-13T18:55:44.978821",
     "status": "completed"
    },
    "tags": []
   },
   "outputs": [
    {
     "data": {
      "text/plain": [
       "0        72400\n",
       "1        79990\n",
       "2        61400\n",
       "3       133900\n",
       "4        43900\n",
       "         ...  \n",
       "1085     15999\n",
       "1086      9990\n",
       "1087      9999\n",
       "1088     10999\n",
       "1089      9480\n",
       "Name: Price_INR, Length: 1090, dtype: int32"
      ]
     },
     "execution_count": 12,
     "metadata": {},
     "output_type": "execute_result"
    }
   ],
   "source": [
    "data['Price_INR'] = data['Price_INR'].str.replace(r'\\D','',regex=True).astype(int)\n",
    "data['Price_INR']"
   ]
  },
  {
   "cell_type": "markdown",
   "id": "19596838",
   "metadata": {
    "execution": {
     "iopub.execute_input": "2023-09-13T18:55:45.219484Z",
     "iopub.status.busy": "2023-09-13T18:55:45.219021Z",
     "iopub.status.idle": "2023-09-13T18:55:45.778153Z",
     "shell.execute_reply": "2023-09-13T18:55:45.777153Z"
    },
    "papermill": {
     "duration": 0.623504,
     "end_time": "2023-09-13T18:55:45.780969",
     "exception": false,
     "start_time": "2023-09-13T18:55:45.157465",
     "status": "completed"
    },
    "tags": []
   },
   "source": [
    "<div style=\"border-radius:10px; padding: 15px; background-color: #ffeacc; font-size:120%; text-align:left\">\n",
    "column is converted from object to numeric data type"
   ]
  },
  {
   "cell_type": "markdown",
   "id": "0cbd21e6",
   "metadata": {
    "papermill": {
     "duration": 0.060155,
     "end_time": "2023-09-13T18:55:47.737908",
     "exception": false,
     "start_time": "2023-09-13T18:55:47.677753",
     "status": "completed"
    },
    "tags": []
   },
   "source": [
    "<a id=\"ntype\"></a>\n",
    "# <b><span style='color:#fcc36d'>Step 3.4 |</span><span style='color:#ff6200'> Extracting network type supported</span></b>\n",
    "⬆️ [Table of Contents](#contents_table)\n"
   ]
  },
  {
   "cell_type": "code",
   "execution_count": 13,
   "id": "ebd4eebb",
   "metadata": {
    "execution": {
     "iopub.execute_input": "2023-09-13T18:55:47.862360Z",
     "iopub.status.busy": "2023-09-13T18:55:47.861325Z",
     "iopub.status.idle": "2023-09-13T18:55:48.700021Z",
     "shell.execute_reply": "2023-09-13T18:55:48.699049Z"
    },
    "papermill": {
     "duration": 0.906535,
     "end_time": "2023-09-13T18:55:48.705153",
     "exception": false,
     "start_time": "2023-09-13T18:55:47.798618",
     "status": "completed"
    },
    "tags": []
   },
   "outputs": [],
   "source": [
    "ntype = data['network_type']\n",
    "cleaned_ntype=[]\n",
    "for t in ntype:\n",
    "    if '6G' in t:\n",
    "        cleaned_ntype.append('6G')\n",
    "    elif '5G' in t:\n",
    "        cleaned_ntype.append('5G')\n",
    "    else:\n",
    "        cleaned_ntype.append('4G')\n",
    "\n",
    "data['network_type'] = cleaned_ntype"
   ]
  },
  {
   "cell_type": "code",
   "execution_count": 14,
   "id": "ed65705d",
   "metadata": {},
   "outputs": [
    {
     "data": {
      "text/plain": [
       "0       5G\n",
       "1       5G\n",
       "2       5G\n",
       "3       5G\n",
       "4       5G\n",
       "        ..\n",
       "1085    4G\n",
       "1086    4G\n",
       "1087    4G\n",
       "1088    4G\n",
       "1089    4G\n",
       "Name: network_type, Length: 1090, dtype: object"
      ]
     },
     "execution_count": 14,
     "metadata": {},
     "output_type": "execute_result"
    }
   ],
   "source": [
    "data['network_type']"
   ]
  },
  {
   "cell_type": "markdown",
   "id": "23357ef7",
   "metadata": {
    "papermill": {
     "duration": 0.06267,
     "end_time": "2023-09-13T18:55:48.831715",
     "exception": false,
     "start_time": "2023-09-13T18:55:48.769045",
     "status": "completed"
    },
    "tags": []
   },
   "source": [
    "<div style=\"border-radius:10px; padding: 15px; background-color: #ffeacc; font-size:120%; text-align:left\">\n",
    "Succssfully extracted supported network type of every smartphone"
   ]
  },
  {
   "cell_type": "markdown",
   "id": "464073aa",
   "metadata": {
    "papermill": {
     "duration": 0.064272,
     "end_time": "2023-09-13T18:55:50.169305",
     "exception": false,
     "start_time": "2023-09-13T18:55:50.105033",
     "status": "completed"
    },
    "tags": []
   },
   "source": [
    "<a id=\"parse_specs\"></a>\n",
    "# <b><span style='color:#fcc36d'>Step 3.5 |</span><span style='color:#ff6200'> Parsing Specifications</span></b>\n",
    "⬆️ [Tabel of Contents](#contents_tabel)"
   ]
  },
  {
   "cell_type": "code",
   "execution_count": 15,
   "id": "81d5299a",
   "metadata": {
    "execution": {
     "iopub.execute_input": "2023-09-13T18:55:50.425829Z",
     "iopub.status.busy": "2023-09-13T18:55:50.425336Z",
     "iopub.status.idle": "2023-09-13T18:55:50.454505Z",
     "shell.execute_reply": "2023-09-13T18:55:50.453561Z"
    },
    "papermill": {
     "duration": 0.097583,
     "end_time": "2023-09-13T18:55:50.456794",
     "exception": false,
     "start_time": "2023-09-13T18:55:50.359211",
     "status": "completed"
    },
    "scrolled": true,
    "tags": []
   },
   "outputs": [
    {
     "data": {
      "text/plain": [
       "0            Bionic A18\n",
       "1                 Apple\n",
       "2            Bionic A16\n",
       "3        Bionic A18 Pro\n",
       "4            Bionic A15\n",
       "             ...       \n",
       "1085    Snapdragon 720G\n",
       "1086     Snapdragon 678\n",
       "1087          Helio G85\n",
       "1088         Helio G90T\n",
       "1089     Snapdragon 665\n",
       "Name: Processor, Length: 1090, dtype: object"
      ]
     },
     "execution_count": 15,
     "metadata": {},
     "output_type": "execute_result"
    }
   ],
   "source": [
    "data['Processor'] = data['Processor'].str.extract(r'(.*?),')\n",
    "data['Processor']"
   ]
  },
  {
   "cell_type": "markdown",
   "id": "db86de21",
   "metadata": {
    "papermill": {
     "duration": 0.065281,
     "end_time": "2023-09-13T18:55:50.587969",
     "exception": false,
     "start_time": "2023-09-13T18:55:50.522688",
     "status": "completed"
    },
    "tags": []
   },
   "source": [
    "<div style=\"border-radius:10px; padding: 15px; background-color: #ffeacc; font-size:120%; text-align:left\">\n",
    "After Extracting only processor name from text it gives NaN entry at some rows beacause no matching pattern found at that row."
   ]
  },
  {
   "cell_type": "code",
   "execution_count": 16,
   "id": "c08c5b8b",
   "metadata": {
    "execution": {
     "iopub.execute_input": "2023-09-13T18:55:50.724232Z",
     "iopub.status.busy": "2023-09-13T18:55:50.722914Z",
     "iopub.status.idle": "2023-09-13T18:55:50.746301Z",
     "shell.execute_reply": "2023-09-13T18:55:50.745254Z"
    },
    "papermill": {
     "duration": 0.09384,
     "end_time": "2023-09-13T18:55:50.748583",
     "exception": false,
     "start_time": "2023-09-13T18:55:50.654743",
     "status": "completed"
    },
    "tags": []
   },
   "outputs": [
    {
     "data": {
      "text/plain": [
       "Name                    0\n",
       "Price_INR               0\n",
       "Rating                  0\n",
       "network_type            0\n",
       "Processor               0\n",
       "RAM                     0\n",
       "battery_capicity_MAH    0\n",
       "display_size_INCH       0\n",
       "camera_MP               0\n",
       "Brand                   0\n",
       "dtype: int64"
      ]
     },
     "execution_count": 16,
     "metadata": {},
     "output_type": "execute_result"
    }
   ],
   "source": [
    "data = data.dropna().reset_index(drop=True)\n",
    "data.isna().sum()"
   ]
  },
  {
   "cell_type": "markdown",
   "id": "19dc3b3b",
   "metadata": {
    "papermill": {
     "duration": 0.06281,
     "end_time": "2023-09-13T18:55:50.295256",
     "exception": false,
     "start_time": "2023-09-13T18:55:50.232446",
     "status": "completed"
    },
    "tags": []
   },
   "source": [
    "<div style=\"border-radius:10px; padding: 15px; background-color: #ffeacc; font-size:120%; text-align:left\">\n",
    "    \n",
    "Removed all null values."
   ]
  },
  {
   "cell_type": "markdown",
   "id": "369a973f",
   "metadata": {},
   "source": [
    "<div style=\"border-radius:10px; padding: 15px; background-color: #ffeacc; font-size:120%; text-align:left\">\n",
    "    \n",
    "As we want to use processor colum in further analysis and  we can not campare its name as it is .So we are going to rank them based on ther performance(sournce-Google)"
   ]
  },
  {
   "cell_type": "code",
   "execution_count": 17,
   "id": "a8fd2d24",
   "metadata": {
    "execution": {
     "iopub.execute_input": "2023-09-13T18:55:51.144317Z",
     "iopub.status.busy": "2023-09-13T18:55:51.143876Z",
     "iopub.status.idle": "2023-09-13T18:55:51.197763Z",
     "shell.execute_reply": "2023-09-13T18:55:51.196171Z"
    },
    "papermill": {
     "duration": 0.125633,
     "end_time": "2023-09-13T18:55:51.201038",
     "exception": false,
     "start_time": "2023-09-13T18:55:51.075405",
     "status": "completed"
    },
    "tags": []
   },
   "outputs": [
    {
     "name": "stdout",
     "output_type": "stream",
     "text": [
      "['Bionic A18' 'Apple' 'Bionic A16' 'Bionic A18 Pro' 'Bionic A15'\n",
      " 'Bionic A19' 'Bionic A14' 'A13 Bionic' 'Apple A11' 'Bionic A17'\n",
      " 'Fusion APL1024' 'Bionic A17 Pro' 'Apple A12' 'Fusion A10'\n",
      " 'Dimensity 7400' 'Snapdragon 8s Gen4' 'Snapdragon 7s Gen3'\n",
      " 'Snapdragon 8s Gen3' 'Dimensity 7300' 'Snapdragon 8 Elite'\n",
      " 'Dimensity 6300' 'Dimensity 8400' 'Dimensity 8250' 'Snapdragon 8 Elite 2'\n",
      " 'Dimensity 9400 Plus' 'Dimensity 9400' 'Snapdragon 6 Gen1'\n",
      " 'Snapdragon 8 Gen3' 'Dimensity 7200' 'Snapdragon 7 Gen3'\n",
      " 'Snapdragon 8 Gen4' 'Snapdragon 8 Gen2' 'Snapdragon 888+'\n",
      " 'Snapdragon 8+ Gen1' 'Snapdragon 870' 'Dimensity 9300 Plus'\n",
      " 'Snapdragon 4 Gen 1' 'Dimensity 8200' 'Snapdragon 8 Gen1'\n",
      " 'Snapdragon 695' 'Snapdragon 782G' 'Snapdragon 7+ Gen2' 'Dimensity 920'\n",
      " 'Snapdragon 888' 'Snapdragon 778G' 'Snapdragon 888 ' 'Snapdragon 6 Gen 1'\n",
      " 'Snapdragon 685' 'Dimensity 9000 Plus' 'Dimensity 1300' 'Snapdragon 680'\n",
      " 'Snapdragon 695 ' 'Snapdragon 768G' 'Snapdragon 865' 'Snapdragon 7s Gen2'\n",
      " 'Dimensity 8350 Extreme' 'Snapdragon 6s Gen3' 'Dimensity 7025'\n",
      " 'Dimensity 7060' 'Unisoc T760' 'Helio G37' 'Snapdragon 6 Gen4'\n",
      " 'Helio G81 Ultra' 'Snapdragon 7 Gen1 AE' 'Dimensity 7400x'\n",
      " 'Snapdragon 6 Gen3' '56\\u2009MB RAM' 'Dimensity 7020' 'Unisoc T606'\n",
      " 'Dimensity 7400X' 'Snapdragon 732G' 'Helio G91' 'Dimensity 7030'\n",
      " 'Snapdragon 7 Gen2' 'Dimensity 8020' 'Snapdragon 6s Gen 3'\n",
      " 'Dimensity 1080' 'Dimensity 7300X' 'Helio G85' '4\\u2009MB RAM'\n",
      " 'Dimensity 930' 'Tiger T606' 'Helio G99' 'Snapdragon 480+'\n",
      " 'Dimensity 7050' 'Exynos 9609' 'Snapdragon 8s Elite' 'Dimesity 7300x'\n",
      " 'Snapdragon 4 Gen1' 'Snapdragon 7 Gen1' 'Dimensity 8350 Apex'\n",
      " 'Snapdragon 7+ Gen3' 'Dimensity 9000' 'Snapdragon 695 5G'\n",
      " 'Dimensity 8100 Max' 'Dimensity 9300' 'Snapdragon 460 ' 'Snapdragon 855+'\n",
      " 'Dimensity 9400e' 'Dimensity 9350' 'Dimensity 6020' 'Snapdragon 750G '\n",
      " 'Dimensity 900' 'Dimensity 1200 AI' 'Snapdragon 765G' 'Helio G35'\n",
      " 'Dimensity 810 5G' 'Dimensity 8450' 'Dimensity 8350'\n",
      " 'Dimensity 7300 Energy' 'Dimensity 700 5G' 'Snapdragon 6s Gen1 4G'\n",
      " 'Dimensity 9500' 'Snapdragon 8Elite' 'Snapdragon 6s Gen 1'\n",
      " 'Snapdragon 6s 4G Gen1' 'Dimensity 8100-Max' 'Dimensity 800U '\n",
      " 'Snapdragon 665' 'Snapdragon' 'Snapdragon 7 Gen4' 'Dimensity 7300 Plus'\n",
      " 'Dimensity 8350 Ultra' 'Dimensity 6400' 'Dimensity 7300 E' 'Unisoc T7250'\n",
      " 'Dimensity 8400-MAX' 'Unisoc UMS9230E' 'Dimensity 1000+'\n",
      " 'Snapdragon 7s Gen 2' 'Helio P22 ' 'Helio G92 Max' 'Unisoc T612'\n",
      " 'Dimensity 6100 Plus' 'Dimensity 8100' 'Dimensity 1200' 'Tiger T612'\n",
      " 'Helio G95' 'Dimensity 8400 Max' 'Helio G88' 'Exynos 1380' 'Exynos 2400e'\n",
      " 'Exynos 2400' 'Helio G80' 'Exynos 850' 'Exynos 1480'\n",
      " 'Snapdragon 8 Elite for Galaxy' 'Exynos 1580' 'Exynos'\n",
      " 'Snapdragon 8 Gen 2' 'Exynos 2200' 'Snapdragon 8 Gen 3' 'Exynos 2100'\n",
      " 'Exynos 2500' 'Snapdragon 778G+' 'Exynos 1330' 'Dimensity 9200 Plus'\n",
      " 'Snapdragon 4 Gen2' 'Unisoc T7225' 'Helio G70' 'Snapdragon 7s Gen 3'\n",
      " 'Dimensity 7025 Ultra' 'Snapdragon 4 Gen 2 AE' 'Snapdragon 4s Gen2'\n",
      " 'Snapdragon 4 Gen3' 'Dimensity 6080' 'Dimensity 7200 Ultra'\n",
      " 'Dimensity 8400 Ultra' 'Dimensity 8500 Ultra' 'Xring O1'\n",
      " 'Dimensity 7300 Ultra' 'Helio G99 Ultra' 'Dimensity 7350 Pro' 'Helio G81'\n",
      " 'Snapdragon 855' 'Helio A22' 'Dimensity 700 ' 'Helio G25'\n",
      " 'Helio G91 Ultra' 'Unisoc T603' 'Dimensity 8300 Ultra' 'Snapdragon 662 '\n",
      " 'Snapdragon 720G' 'Snapdragon 678' 'Helio G90T']\n"
     ]
    }
   ],
   "source": [
    "processor_list = data['Processor'].unique()\n",
    "print(processor_list)"
   ]
  },
  {
   "cell_type": "code",
   "execution_count": 18,
   "id": "3ad3befa",
   "metadata": {},
   "outputs": [],
   "source": [
    "processor_tier_ranks = {\n",
    "    # Tier 1: Best Performance\n",
    "    'Bionic A18 Pro': 1,\n",
    "    'Snapdragon 8 Elite': 1,\n",
    "    'Snapdragon 8s Gen4': 1,\n",
    "    'Dimensity 9400': 1,\n",
    "    'Dimensity 9400 Plus': 1, # Assuming this is a top variant\n",
    "    'Dimensity 9400e': 1, # Assuming this is a top variant\n",
    "\n",
    "    # Tier 2: Excellent Performance\n",
    "    'Bionic A18': 2,\n",
    "    'Bionic A17 Pro': 2,\n",
    "    'Dimensity 9300 Plus': 2,\n",
    "    'Dimensity 9300': 2,\n",
    "    'Snapdragon 8 Gen3': 2,\n",
    "    'Exynos 2500': 2,\n",
    "    'Exynos 2400': 2,\n",
    "    'Exynos 2400e': 2, # Assuming this is a variant of Exynos 2400\n",
    "    'Dimensity 9200 Plus': 2,\n",
    "    'Dimensity 9200': 2,\n",
    "    'Snapdragon 8 Elite 2': 1, # Assuming this is a top-tier variant of 8 Elite\n",
    "    'Xring O1': 2, # Given its newness and high-end positioning\n",
    "\n",
    "    # Tier 3: Very Good Performance\n",
    "    'Snapdragon 8 Gen2': 3,\n",
    "    'Snapdragon 7+ Gen3': 3,\n",
    "    'Dimensity 8250': 3,\n",
    "    'Dimensity 8400': 3,\n",
    "    'Dimensity 8350': 3,\n",
    "    'Dimensity 8300 Ultra': 3,\n",
    "    'Bionic A16': 3, # Placing it higher as it often performs better than other chips in this tier\n",
    "    'Snapdragon 8s Gen3': 3,\n",
    "    'Snapdragon 8 Elite for Galaxy': 3, # Assuming it's a slightly optimized 8 Gen 2 or similar tier\n",
    "\n",
    "    # Tier 4: Strong Performance\n",
    "    'Bionic A15': 4,\n",
    "    'Snapdragon 8+ Gen1': 4,\n",
    "    'Snapdragon 8 Gen1': 4,\n",
    "    'Snapdragon 870': 4,\n",
    "    'Dimensity 8200': 4,\n",
    "    'Dimensity 7400': 4,\n",
    "    'Dimensity 7400x': 4,\n",
    "    'Dimensity 7400X': 4, # Duplicate, keeping as is\n",
    "    'Dimensity 7300': 4,\n",
    "    'Dimensity 7300 Plus': 4,\n",
    "    'Dimensity 7300 Energy': 4,\n",
    "    'Dimensity 7300X': 4,\n",
    "    'Dimesity 7300x': 4, # Misspelling, keeping as is\n",
    "    'Snapdragon 7 Gen3': 4,\n",
    "    'Dimensity 8400 Ultra': 4,\n",
    "    'Dimensity 8500 Ultra': 4, # Speculative placement\n",
    "    'Dimensity 9500': 4, # Speculative placement\n",
    "    'Dimensity 9350': 4, # Speculative placement\n",
    "\n",
    "    # Tier 5: Good Performance\n",
    "    'Snapdragon 7+ Gen2': 5,\n",
    "    'Snapdragon 782G': 5,\n",
    "    'Snapdragon 778G+': 5,\n",
    "    'Snapdragon 778G': 5,\n",
    "    'Dimensity 7200': 5,\n",
    "    'Dimensity 7200 Ultra': 5,\n",
    "    'Snapdragon 7s Gen3': 5,\n",
    "    'Snapdragon 7s Gen2': 5,\n",
    "    'Snapdragon 7 Gen2': 5,\n",
    "    'Exynos 1480': 5,\n",
    "    'Dimensity 8100': 5,\n",
    "    'Dimensity 8100 Max': 5,\n",
    "    'Dimensity 8100-Max': 5,\n",
    "\n",
    "    # Tier 6: Mainstream Performance\n",
    "    'Snapdragon 6 Gen4': 6,\n",
    "    'Snapdragon 6 Gen3': 6,\n",
    "    'Snapdragon 6s Gen3': 6,\n",
    "    'Snapdragon 6s Gen 3': 6,\n",
    "    'Dimensity 7060': 6,\n",
    "    'Dimensity 7050': 6,\n",
    "    'Exynos 1380': 6,\n",
    "    'Dimensity 1080': 6,\n",
    "    'Dimensity 6400': 6,\n",
    "    'Snapdragon 4 Gen3': 6,\n",
    "    'Snapdragon 7 Gen1 AE': 6,\n",
    "    'Snapdragon 7 Gen1': 6,\n",
    "    'Dimensity 1300': 6,\n",
    "    'Dimensity 1200 AI': 6,\n",
    "    'Snapdragon 888': 6,\n",
    "    'Snapdragon 888 ': 6, # Duplicate, keeping as is\n",
    "    'Snapdragon 888+': 6,\n",
    "    'Snapdragon 765G': 6,\n",
    "    'Dimensity 900': 6,\n",
    "    'Snapdragon 6 Gen1': 6,\n",
    "    'Snapdragon 6 Gen 1': 6, # Duplicate, keeping as is\n",
    "    'Snapdragon 695': 6,\n",
    "    'Snapdragon 695 ': 6, # Duplicate, keeping as is\n",
    "    'Dimensity 7030': 6,\n",
    "    'Dimensity 7025': 6,\n",
    "    'Dimensity 7025 Ultra': 6,\n",
    "    'Dimensity 7020': 6,\n",
    "    'Snapdragon 4 Gen 2 AE': 6,\n",
    "    'Snapdragon 4s Gen2': 6,\n",
    "    'Snapdragon 4 Gen2': 6,\n",
    "    'Snapdragon 4 Gen 2': 6, # Duplicate, keeping as is\n",
    "    'Unisoc T760': 6,\n",
    "    'Unisoc T7225': 6,\n",
    "    'Dimensity 6300': 6,\n",
    "    'Dimensity 6080': 6,\n",
    "    'Dimensity 6020': 6,\n",
    "\n",
    "    # Tier 7: Decent Performance\n",
    "    'Snapdragon 720G': 7,\n",
    "    'Snapdragon 4 Gen 1': 7,\n",
    "    'Snapdragon 460': 7,\n",
    "    'Snapdragon 480+': 7,\n",
    "    'Snapdragon 480 ': 7,\n",
    "    'Helio G99': 7,\n",
    "    'Snapdragon 732G': 7,\n",
    "    'Helio G95': 7,\n",
    "    'Helio G91': 7,\n",
    "    'Helio G91 Ultra': 7,\n",
    "    'Helio G90T': 7,\n",
    "    'Dimensity 700 5G': 7,\n",
    "    'Dimensity 700 ': 7,\n",
    "    'Dimensity 800U': 7,\n",
    "    'Dimensity 800U ': 7, # Duplicate, keeping as is\n",
    "    'Snapdragon 6s Gen1 4G': 7,\n",
    "    'Snapdragon 6s 4G Gen1': 7,\n",
    "    'Snapdragon 6s Gen 1': 7,\n",
    "    'Snapdragon 685': 7,\n",
    "    'Snapdragon 680': 7,\n",
    "    'Snapdragon 768G': 7,\n",
    "    'Qualcomm Snapdragon 675': 7,\n",
    "\n",
    "    # Tier 8: Basic Performance\n",
    "    'A13 Bionic': 8,\n",
    "    'Dimensity 920': 8,\n",
    "    'Snapdragon 865': 8,\n",
    "    'Snapdragon 855+': 8,\n",
    "    'Snapdragon 855': 8,\n",
    "    'Snapdragon 750G ': 8,\n",
    "    'Exynos 1330': 8,\n",
    "    'Exynos 1280': 8,\n",
    "    'Exynos 850': 8,\n",
    "    'Helio G88': 8,\n",
    "    'Helio G85': 8,\n",
    "    'Helio G81': 8,\n",
    "    'Helio G81 Ultra': 8,\n",
    "    'Helio G80': 8,\n",
    "    'Unisoc T606': 8,\n",
    "    'Tiger T606': 8,\n",
    "    'Unisoc T603': 8,\n",
    "    'Unisoc T612': 8,\n",
    "    'Snapdragon 665': 8,\n",
    "    'Snapdragon 662 ': 8,\n",
    "    'MediaTek Helio P60': 8,\n",
    "    'Unisoc T7250': 8,\n",
    "    'Unisoc UMS9230E': 8,\n",
    "    'Dimensity 6100 Plus': 8,\n",
    "    'Exynos 9609': 8,\n",
    "\n",
    "    # Tier 9: Entry-Level Performance\n",
    "    'Helio G37': 9,\n",
    "    'Helio G35': 9,\n",
    "    'Helio G25': 9,\n",
    "    'Helio A22': 9,\n",
    "    'MediaTek Helio G100': 9,\n",
    "    'Helio P22 ': 9, # As per your list\n",
    "\n",
    "    # Tier 10: Legacy Performance\n",
    "    'Apple A11': 10,\n",
    "    'Fusion APL1024': 10,\n",
    "}"
   ]
  },
  {
   "cell_type": "code",
   "execution_count": 19,
   "id": "ed65f587",
   "metadata": {},
   "outputs": [
    {
     "data": {
      "text/html": [
       "<div>\n",
       "<style scoped>\n",
       "    .dataframe tbody tr th:only-of-type {\n",
       "        vertical-align: middle;\n",
       "    }\n",
       "\n",
       "    .dataframe tbody tr th {\n",
       "        vertical-align: top;\n",
       "    }\n",
       "\n",
       "    .dataframe thead th {\n",
       "        text-align: right;\n",
       "    }\n",
       "</style>\n",
       "<table border=\"1\" class=\"dataframe\">\n",
       "  <thead>\n",
       "    <tr style=\"text-align: right;\">\n",
       "      <th></th>\n",
       "      <th>Name</th>\n",
       "      <th>Price_INR</th>\n",
       "      <th>Rating</th>\n",
       "      <th>network_type</th>\n",
       "      <th>Processor</th>\n",
       "      <th>RAM</th>\n",
       "      <th>battery_capicity_MAH</th>\n",
       "      <th>display_size_INCH</th>\n",
       "      <th>camera_MP</th>\n",
       "      <th>Brand</th>\n",
       "    </tr>\n",
       "  </thead>\n",
       "  <tbody>\n",
       "    <tr>\n",
       "      <th>0</th>\n",
       "      <td>Apple iPhone 16</td>\n",
       "      <td>72400</td>\n",
       "      <td>4.75</td>\n",
       "      <td>5G</td>\n",
       "      <td>Bionic A18</td>\n",
       "      <td>8 GB RAM, 128 GB inbuilt</td>\n",
       "      <td>3561 mAh Battery with Fast Charging</td>\n",
       "      <td>6.1 inches, 1179 x 2556 px Display with Dynami...</td>\n",
       "      <td>48 MP + 12 MP Dual Rear &amp; 12 MP Front Camera</td>\n",
       "      <td>apple</td>\n",
       "    </tr>\n",
       "    <tr>\n",
       "      <th>1</th>\n",
       "      <td>Apple iPhone 15</td>\n",
       "      <td>61400</td>\n",
       "      <td>4.65</td>\n",
       "      <td>5G</td>\n",
       "      <td>Bionic A16</td>\n",
       "      <td>6 GB RAM, 128 GB inbuilt</td>\n",
       "      <td>3349 mAh Battery with Fast Charging</td>\n",
       "      <td>6.1 inches, 1179 x 2556 px Display with Dynami...</td>\n",
       "      <td>48 MP + 12 MP Dual Rear &amp; 12 MP Front Camera</td>\n",
       "      <td>apple</td>\n",
       "    </tr>\n",
       "    <tr>\n",
       "      <th>2</th>\n",
       "      <td>Apple iPhone 16 Pro Max</td>\n",
       "      <td>133900</td>\n",
       "      <td>4.20</td>\n",
       "      <td>5G</td>\n",
       "      <td>Bionic A18 Pro</td>\n",
       "      <td>8 GB RAM, 256 GB inbuilt</td>\n",
       "      <td>4685 mAh Battery with Fast Charging</td>\n",
       "      <td>6.9 inches, 1320 x 2868 px, 120 Hz Display wit...</td>\n",
       "      <td>48 MP + 48 MP + 12 MP Triple Rear &amp; 12 MP Fron...</td>\n",
       "      <td>apple</td>\n",
       "    </tr>\n",
       "    <tr>\n",
       "      <th>3</th>\n",
       "      <td>Apple iPhone 13</td>\n",
       "      <td>43900</td>\n",
       "      <td>4.35</td>\n",
       "      <td>5G</td>\n",
       "      <td>Bionic A15</td>\n",
       "      <td>4 GB RAM, 128 GB inbuilt</td>\n",
       "      <td>3240 mAh Battery with Fast Charging</td>\n",
       "      <td>6.1 inches, 1170 x 2532 px Display with Small ...</td>\n",
       "      <td>12 MP + 12 MP Dual Rear &amp; 12 MP Front Camera</td>\n",
       "      <td>apple</td>\n",
       "    </tr>\n",
       "    <tr>\n",
       "      <th>4</th>\n",
       "      <td>Apple iPhone 16 Pro</td>\n",
       "      <td>110900</td>\n",
       "      <td>4.25</td>\n",
       "      <td>5G</td>\n",
       "      <td>Bionic A18 Pro</td>\n",
       "      <td>8 GB RAM, 128 GB inbuilt</td>\n",
       "      <td>3582 mAh Battery with Fast Charging</td>\n",
       "      <td>6.3 inches, 1206 x 2622 px, 120 Hz Display wit...</td>\n",
       "      <td>48 MP + 48 MP + 12 MP Triple Rear &amp; 12 MP Fron...</td>\n",
       "      <td>apple</td>\n",
       "    </tr>\n",
       "    <tr>\n",
       "      <th>...</th>\n",
       "      <td>...</td>\n",
       "      <td>...</td>\n",
       "      <td>...</td>\n",
       "      <td>...</td>\n",
       "      <td>...</td>\n",
       "      <td>...</td>\n",
       "      <td>...</td>\n",
       "      <td>...</td>\n",
       "      <td>...</td>\n",
       "      <td>...</td>\n",
       "    </tr>\n",
       "    <tr>\n",
       "      <th>897</th>\n",
       "      <td>Xiaomi Redmi 9 Power</td>\n",
       "      <td>8399</td>\n",
       "      <td>4.40</td>\n",
       "      <td>4G</td>\n",
       "      <td>Snapdragon 662</td>\n",
       "      <td>4 GB RAM, 64 GB inbuilt</td>\n",
       "      <td>6000 mAh Battery with 18W Fast Charging</td>\n",
       "      <td>6.53 inches, 1080 x 2340 px Display with Water...</td>\n",
       "      <td>48 MP Quad Rear &amp; 8 MP Front Camera</td>\n",
       "      <td>xiaomi</td>\n",
       "    </tr>\n",
       "    <tr>\n",
       "      <th>898</th>\n",
       "      <td>Xiaomi Redmi Note 9 Pro (4GB RAM + 128GB)</td>\n",
       "      <td>15999</td>\n",
       "      <td>4.10</td>\n",
       "      <td>4G</td>\n",
       "      <td>Snapdragon 720G</td>\n",
       "      <td>4 GB RAM, 128 GB inbuilt</td>\n",
       "      <td>5020 mAh Battery with 18W Fast Charging</td>\n",
       "      <td>6.67 inches, 1080 x 2400 px Display with Punch...</td>\n",
       "      <td>48 MP Quad Rear &amp; 16 MP Front Camera</td>\n",
       "      <td>xiaomi</td>\n",
       "    </tr>\n",
       "    <tr>\n",
       "      <th>899</th>\n",
       "      <td>Xiaomi Redmi Note 9</td>\n",
       "      <td>9999</td>\n",
       "      <td>4.05</td>\n",
       "      <td>4G</td>\n",
       "      <td>Helio G85</td>\n",
       "      <td>4 GB RAM, 64 GB inbuilt</td>\n",
       "      <td>5020 mAh Battery with 22.5W Fast Charging</td>\n",
       "      <td>6.53 inches, 1080 x 2340 px Display with Punch...</td>\n",
       "      <td>48 MP Quad Rear &amp; 13 MP Front Camera</td>\n",
       "      <td>xiaomi</td>\n",
       "    </tr>\n",
       "    <tr>\n",
       "      <th>900</th>\n",
       "      <td>Xiaomi Redmi Note 8 Pro</td>\n",
       "      <td>10999</td>\n",
       "      <td>4.20</td>\n",
       "      <td>4G</td>\n",
       "      <td>Helio G90T</td>\n",
       "      <td>6 GB RAM, 64 GB inbuilt</td>\n",
       "      <td>4500 mAh Battery with 18W Fast Charging</td>\n",
       "      <td>6.53 inches, 1080 x 2340 px Display with Water...</td>\n",
       "      <td>64 MP Quad Rear &amp; 20 MP Front Camera</td>\n",
       "      <td>xiaomi</td>\n",
       "    </tr>\n",
       "    <tr>\n",
       "      <th>901</th>\n",
       "      <td>Xiaomi Mi A3</td>\n",
       "      <td>9480</td>\n",
       "      <td>4.30</td>\n",
       "      <td>4G</td>\n",
       "      <td>Snapdragon 665</td>\n",
       "      <td>4 GB RAM, 64 GB inbuilt</td>\n",
       "      <td>4030 mAh Battery with 18W Fast Charging</td>\n",
       "      <td>6.08 inches, 720 x 1560 px Display with Water ...</td>\n",
       "      <td>48 MP + 8 MP + 2 MP Triple Rear &amp; 32 MP Front ...</td>\n",
       "      <td>xiaomi</td>\n",
       "    </tr>\n",
       "  </tbody>\n",
       "</table>\n",
       "<p>902 rows × 10 columns</p>\n",
       "</div>"
      ],
      "text/plain": [
       "                                          Name  Price_INR  Rating  \\\n",
       "0                              Apple iPhone 16      72400    4.75   \n",
       "1                              Apple iPhone 15      61400    4.65   \n",
       "2                      Apple iPhone 16 Pro Max     133900    4.20   \n",
       "3                              Apple iPhone 13      43900    4.35   \n",
       "4                          Apple iPhone 16 Pro     110900    4.25   \n",
       "..                                         ...        ...     ...   \n",
       "897                       Xiaomi Redmi 9 Power       8399    4.40   \n",
       "898  Xiaomi Redmi Note 9 Pro (4GB RAM + 128GB)      15999    4.10   \n",
       "899                        Xiaomi Redmi Note 9       9999    4.05   \n",
       "900                    Xiaomi Redmi Note 8 Pro      10999    4.20   \n",
       "901                               Xiaomi Mi A3       9480    4.30   \n",
       "\n",
       "    network_type        Processor                       RAM  \\\n",
       "0             5G       Bionic A18  8 GB RAM, 128 GB inbuilt   \n",
       "1             5G       Bionic A16  6 GB RAM, 128 GB inbuilt   \n",
       "2             5G   Bionic A18 Pro  8 GB RAM, 256 GB inbuilt   \n",
       "3             5G       Bionic A15  4 GB RAM, 128 GB inbuilt   \n",
       "4             5G   Bionic A18 Pro  8 GB RAM, 128 GB inbuilt   \n",
       "..           ...              ...                       ...   \n",
       "897           4G  Snapdragon 662    4 GB RAM, 64 GB inbuilt   \n",
       "898           4G  Snapdragon 720G  4 GB RAM, 128 GB inbuilt   \n",
       "899           4G        Helio G85   4 GB RAM, 64 GB inbuilt   \n",
       "900           4G       Helio G90T   6 GB RAM, 64 GB inbuilt   \n",
       "901           4G   Snapdragon 665   4 GB RAM, 64 GB inbuilt   \n",
       "\n",
       "                          battery_capicity_MAH  \\\n",
       "0          3561 mAh Battery with Fast Charging   \n",
       "1          3349 mAh Battery with Fast Charging   \n",
       "2          4685 mAh Battery with Fast Charging   \n",
       "3          3240 mAh Battery with Fast Charging   \n",
       "4          3582 mAh Battery with Fast Charging   \n",
       "..                                         ...   \n",
       "897    6000 mAh Battery with 18W Fast Charging   \n",
       "898    5020 mAh Battery with 18W Fast Charging   \n",
       "899  5020 mAh Battery with 22.5W Fast Charging   \n",
       "900    4500 mAh Battery with 18W Fast Charging   \n",
       "901    4030 mAh Battery with 18W Fast Charging   \n",
       "\n",
       "                                     display_size_INCH  \\\n",
       "0    6.1 inches, 1179 x 2556 px Display with Dynami...   \n",
       "1    6.1 inches, 1179 x 2556 px Display with Dynami...   \n",
       "2    6.9 inches, 1320 x 2868 px, 120 Hz Display wit...   \n",
       "3    6.1 inches, 1170 x 2532 px Display with Small ...   \n",
       "4    6.3 inches, 1206 x 2622 px, 120 Hz Display wit...   \n",
       "..                                                 ...   \n",
       "897  6.53 inches, 1080 x 2340 px Display with Water...   \n",
       "898  6.67 inches, 1080 x 2400 px Display with Punch...   \n",
       "899  6.53 inches, 1080 x 2340 px Display with Punch...   \n",
       "900  6.53 inches, 1080 x 2340 px Display with Water...   \n",
       "901  6.08 inches, 720 x 1560 px Display with Water ...   \n",
       "\n",
       "                                             camera_MP   Brand  \n",
       "0         48 MP + 12 MP Dual Rear & 12 MP Front Camera   apple  \n",
       "1         48 MP + 12 MP Dual Rear & 12 MP Front Camera   apple  \n",
       "2    48 MP + 48 MP + 12 MP Triple Rear & 12 MP Fron...   apple  \n",
       "3         12 MP + 12 MP Dual Rear & 12 MP Front Camera   apple  \n",
       "4    48 MP + 48 MP + 12 MP Triple Rear & 12 MP Fron...   apple  \n",
       "..                                                 ...     ...  \n",
       "897                48 MP Quad Rear & 8 MP Front Camera  xiaomi  \n",
       "898               48 MP Quad Rear & 16 MP Front Camera  xiaomi  \n",
       "899               48 MP Quad Rear & 13 MP Front Camera  xiaomi  \n",
       "900               64 MP Quad Rear & 20 MP Front Camera  xiaomi  \n",
       "901  48 MP + 8 MP + 2 MP Triple Rear & 32 MP Front ...  xiaomi  \n",
       "\n",
       "[902 rows x 10 columns]"
      ]
     },
     "execution_count": 19,
     "metadata": {},
     "output_type": "execute_result"
    }
   ],
   "source": [
    "#as I got only few processor data we are going to extract only those phones data with known Processor to make our analysis correct\n",
    "filtered_data=data[data['Processor'].isin(processor_tier_ranks.keys())].reset_index(drop=True)\n",
    "filtered_data"
   ]
  },
  {
   "cell_type": "code",
   "execution_count": 20,
   "id": "48bedc2b",
   "metadata": {},
   "outputs": [
    {
     "data": {
      "text/html": [
       "<div>\n",
       "<style scoped>\n",
       "    .dataframe tbody tr th:only-of-type {\n",
       "        vertical-align: middle;\n",
       "    }\n",
       "\n",
       "    .dataframe tbody tr th {\n",
       "        vertical-align: top;\n",
       "    }\n",
       "\n",
       "    .dataframe thead th {\n",
       "        text-align: right;\n",
       "    }\n",
       "</style>\n",
       "<table border=\"1\" class=\"dataframe\">\n",
       "  <thead>\n",
       "    <tr style=\"text-align: right;\">\n",
       "      <th></th>\n",
       "      <th>Name</th>\n",
       "      <th>Price_INR</th>\n",
       "      <th>Rating</th>\n",
       "      <th>network_type</th>\n",
       "      <th>Processor</th>\n",
       "      <th>RAM</th>\n",
       "      <th>battery_capicity_MAH</th>\n",
       "      <th>display_size_INCH</th>\n",
       "      <th>camera_MP</th>\n",
       "      <th>Brand</th>\n",
       "    </tr>\n",
       "  </thead>\n",
       "  <tbody>\n",
       "    <tr>\n",
       "      <th>0</th>\n",
       "      <td>Apple iPhone 16</td>\n",
       "      <td>72400</td>\n",
       "      <td>4.75</td>\n",
       "      <td>5G</td>\n",
       "      <td>2</td>\n",
       "      <td>8 GB RAM, 128 GB inbuilt</td>\n",
       "      <td>3561 mAh Battery with Fast Charging</td>\n",
       "      <td>6.1 inches, 1179 x 2556 px Display with Dynami...</td>\n",
       "      <td>48 MP + 12 MP Dual Rear &amp; 12 MP Front Camera</td>\n",
       "      <td>apple</td>\n",
       "    </tr>\n",
       "    <tr>\n",
       "      <th>1</th>\n",
       "      <td>Apple iPhone 15</td>\n",
       "      <td>61400</td>\n",
       "      <td>4.65</td>\n",
       "      <td>5G</td>\n",
       "      <td>3</td>\n",
       "      <td>6 GB RAM, 128 GB inbuilt</td>\n",
       "      <td>3349 mAh Battery with Fast Charging</td>\n",
       "      <td>6.1 inches, 1179 x 2556 px Display with Dynami...</td>\n",
       "      <td>48 MP + 12 MP Dual Rear &amp; 12 MP Front Camera</td>\n",
       "      <td>apple</td>\n",
       "    </tr>\n",
       "    <tr>\n",
       "      <th>2</th>\n",
       "      <td>Apple iPhone 16 Pro Max</td>\n",
       "      <td>133900</td>\n",
       "      <td>4.20</td>\n",
       "      <td>5G</td>\n",
       "      <td>1</td>\n",
       "      <td>8 GB RAM, 256 GB inbuilt</td>\n",
       "      <td>4685 mAh Battery with Fast Charging</td>\n",
       "      <td>6.9 inches, 1320 x 2868 px, 120 Hz Display wit...</td>\n",
       "      <td>48 MP + 48 MP + 12 MP Triple Rear &amp; 12 MP Fron...</td>\n",
       "      <td>apple</td>\n",
       "    </tr>\n",
       "    <tr>\n",
       "      <th>3</th>\n",
       "      <td>Apple iPhone 13</td>\n",
       "      <td>43900</td>\n",
       "      <td>4.35</td>\n",
       "      <td>5G</td>\n",
       "      <td>4</td>\n",
       "      <td>4 GB RAM, 128 GB inbuilt</td>\n",
       "      <td>3240 mAh Battery with Fast Charging</td>\n",
       "      <td>6.1 inches, 1170 x 2532 px Display with Small ...</td>\n",
       "      <td>12 MP + 12 MP Dual Rear &amp; 12 MP Front Camera</td>\n",
       "      <td>apple</td>\n",
       "    </tr>\n",
       "    <tr>\n",
       "      <th>4</th>\n",
       "      <td>Apple iPhone 16 Pro</td>\n",
       "      <td>110900</td>\n",
       "      <td>4.25</td>\n",
       "      <td>5G</td>\n",
       "      <td>1</td>\n",
       "      <td>8 GB RAM, 128 GB inbuilt</td>\n",
       "      <td>3582 mAh Battery with Fast Charging</td>\n",
       "      <td>6.3 inches, 1206 x 2622 px, 120 Hz Display wit...</td>\n",
       "      <td>48 MP + 48 MP + 12 MP Triple Rear &amp; 12 MP Fron...</td>\n",
       "      <td>apple</td>\n",
       "    </tr>\n",
       "    <tr>\n",
       "      <th>...</th>\n",
       "      <td>...</td>\n",
       "      <td>...</td>\n",
       "      <td>...</td>\n",
       "      <td>...</td>\n",
       "      <td>...</td>\n",
       "      <td>...</td>\n",
       "      <td>...</td>\n",
       "      <td>...</td>\n",
       "      <td>...</td>\n",
       "      <td>...</td>\n",
       "    </tr>\n",
       "    <tr>\n",
       "      <th>897</th>\n",
       "      <td>Xiaomi Redmi 9 Power</td>\n",
       "      <td>8399</td>\n",
       "      <td>4.40</td>\n",
       "      <td>4G</td>\n",
       "      <td>8</td>\n",
       "      <td>4 GB RAM, 64 GB inbuilt</td>\n",
       "      <td>6000 mAh Battery with 18W Fast Charging</td>\n",
       "      <td>6.53 inches, 1080 x 2340 px Display with Water...</td>\n",
       "      <td>48 MP Quad Rear &amp; 8 MP Front Camera</td>\n",
       "      <td>xiaomi</td>\n",
       "    </tr>\n",
       "    <tr>\n",
       "      <th>898</th>\n",
       "      <td>Xiaomi Redmi Note 9 Pro (4GB RAM + 128GB)</td>\n",
       "      <td>15999</td>\n",
       "      <td>4.10</td>\n",
       "      <td>4G</td>\n",
       "      <td>7</td>\n",
       "      <td>4 GB RAM, 128 GB inbuilt</td>\n",
       "      <td>5020 mAh Battery with 18W Fast Charging</td>\n",
       "      <td>6.67 inches, 1080 x 2400 px Display with Punch...</td>\n",
       "      <td>48 MP Quad Rear &amp; 16 MP Front Camera</td>\n",
       "      <td>xiaomi</td>\n",
       "    </tr>\n",
       "    <tr>\n",
       "      <th>899</th>\n",
       "      <td>Xiaomi Redmi Note 9</td>\n",
       "      <td>9999</td>\n",
       "      <td>4.05</td>\n",
       "      <td>4G</td>\n",
       "      <td>8</td>\n",
       "      <td>4 GB RAM, 64 GB inbuilt</td>\n",
       "      <td>5020 mAh Battery with 22.5W Fast Charging</td>\n",
       "      <td>6.53 inches, 1080 x 2340 px Display with Punch...</td>\n",
       "      <td>48 MP Quad Rear &amp; 13 MP Front Camera</td>\n",
       "      <td>xiaomi</td>\n",
       "    </tr>\n",
       "    <tr>\n",
       "      <th>900</th>\n",
       "      <td>Xiaomi Redmi Note 8 Pro</td>\n",
       "      <td>10999</td>\n",
       "      <td>4.20</td>\n",
       "      <td>4G</td>\n",
       "      <td>7</td>\n",
       "      <td>6 GB RAM, 64 GB inbuilt</td>\n",
       "      <td>4500 mAh Battery with 18W Fast Charging</td>\n",
       "      <td>6.53 inches, 1080 x 2340 px Display with Water...</td>\n",
       "      <td>64 MP Quad Rear &amp; 20 MP Front Camera</td>\n",
       "      <td>xiaomi</td>\n",
       "    </tr>\n",
       "    <tr>\n",
       "      <th>901</th>\n",
       "      <td>Xiaomi Mi A3</td>\n",
       "      <td>9480</td>\n",
       "      <td>4.30</td>\n",
       "      <td>4G</td>\n",
       "      <td>8</td>\n",
       "      <td>4 GB RAM, 64 GB inbuilt</td>\n",
       "      <td>4030 mAh Battery with 18W Fast Charging</td>\n",
       "      <td>6.08 inches, 720 x 1560 px Display with Water ...</td>\n",
       "      <td>48 MP + 8 MP + 2 MP Triple Rear &amp; 32 MP Front ...</td>\n",
       "      <td>xiaomi</td>\n",
       "    </tr>\n",
       "  </tbody>\n",
       "</table>\n",
       "<p>902 rows × 10 columns</p>\n",
       "</div>"
      ],
      "text/plain": [
       "                                          Name  Price_INR  Rating  \\\n",
       "0                              Apple iPhone 16      72400    4.75   \n",
       "1                              Apple iPhone 15      61400    4.65   \n",
       "2                      Apple iPhone 16 Pro Max     133900    4.20   \n",
       "3                              Apple iPhone 13      43900    4.35   \n",
       "4                          Apple iPhone 16 Pro     110900    4.25   \n",
       "..                                         ...        ...     ...   \n",
       "897                       Xiaomi Redmi 9 Power       8399    4.40   \n",
       "898  Xiaomi Redmi Note 9 Pro (4GB RAM + 128GB)      15999    4.10   \n",
       "899                        Xiaomi Redmi Note 9       9999    4.05   \n",
       "900                    Xiaomi Redmi Note 8 Pro      10999    4.20   \n",
       "901                               Xiaomi Mi A3       9480    4.30   \n",
       "\n",
       "    network_type  Processor                       RAM  \\\n",
       "0             5G          2  8 GB RAM, 128 GB inbuilt   \n",
       "1             5G          3  6 GB RAM, 128 GB inbuilt   \n",
       "2             5G          1  8 GB RAM, 256 GB inbuilt   \n",
       "3             5G          4  4 GB RAM, 128 GB inbuilt   \n",
       "4             5G          1  8 GB RAM, 128 GB inbuilt   \n",
       "..           ...        ...                       ...   \n",
       "897           4G          8   4 GB RAM, 64 GB inbuilt   \n",
       "898           4G          7  4 GB RAM, 128 GB inbuilt   \n",
       "899           4G          8   4 GB RAM, 64 GB inbuilt   \n",
       "900           4G          7   6 GB RAM, 64 GB inbuilt   \n",
       "901           4G          8   4 GB RAM, 64 GB inbuilt   \n",
       "\n",
       "                          battery_capicity_MAH  \\\n",
       "0          3561 mAh Battery with Fast Charging   \n",
       "1          3349 mAh Battery with Fast Charging   \n",
       "2          4685 mAh Battery with Fast Charging   \n",
       "3          3240 mAh Battery with Fast Charging   \n",
       "4          3582 mAh Battery with Fast Charging   \n",
       "..                                         ...   \n",
       "897    6000 mAh Battery with 18W Fast Charging   \n",
       "898    5020 mAh Battery with 18W Fast Charging   \n",
       "899  5020 mAh Battery with 22.5W Fast Charging   \n",
       "900    4500 mAh Battery with 18W Fast Charging   \n",
       "901    4030 mAh Battery with 18W Fast Charging   \n",
       "\n",
       "                                     display_size_INCH  \\\n",
       "0    6.1 inches, 1179 x 2556 px Display with Dynami...   \n",
       "1    6.1 inches, 1179 x 2556 px Display with Dynami...   \n",
       "2    6.9 inches, 1320 x 2868 px, 120 Hz Display wit...   \n",
       "3    6.1 inches, 1170 x 2532 px Display with Small ...   \n",
       "4    6.3 inches, 1206 x 2622 px, 120 Hz Display wit...   \n",
       "..                                                 ...   \n",
       "897  6.53 inches, 1080 x 2340 px Display with Water...   \n",
       "898  6.67 inches, 1080 x 2400 px Display with Punch...   \n",
       "899  6.53 inches, 1080 x 2340 px Display with Punch...   \n",
       "900  6.53 inches, 1080 x 2340 px Display with Water...   \n",
       "901  6.08 inches, 720 x 1560 px Display with Water ...   \n",
       "\n",
       "                                             camera_MP   Brand  \n",
       "0         48 MP + 12 MP Dual Rear & 12 MP Front Camera   apple  \n",
       "1         48 MP + 12 MP Dual Rear & 12 MP Front Camera   apple  \n",
       "2    48 MP + 48 MP + 12 MP Triple Rear & 12 MP Fron...   apple  \n",
       "3         12 MP + 12 MP Dual Rear & 12 MP Front Camera   apple  \n",
       "4    48 MP + 48 MP + 12 MP Triple Rear & 12 MP Fron...   apple  \n",
       "..                                                 ...     ...  \n",
       "897                48 MP Quad Rear & 8 MP Front Camera  xiaomi  \n",
       "898               48 MP Quad Rear & 16 MP Front Camera  xiaomi  \n",
       "899               48 MP Quad Rear & 13 MP Front Camera  xiaomi  \n",
       "900               64 MP Quad Rear & 20 MP Front Camera  xiaomi  \n",
       "901  48 MP + 8 MP + 2 MP Triple Rear & 32 MP Front ...  xiaomi  \n",
       "\n",
       "[902 rows x 10 columns]"
      ]
     },
     "execution_count": 20,
     "metadata": {},
     "output_type": "execute_result"
    }
   ],
   "source": [
    "filtered_data['Processor'] = filtered_data['Processor'].str.strip()\n",
    "cleaned_ranks = {k.strip(): v for k, v in processor_tier_ranks.items()}\n",
    "filtered_data['Processor'] = filtered_data['Processor'].map(cleaned_ranks)\n",
    "data = filtered_data\n",
    "data"
   ]
  },
  {
   "cell_type": "markdown",
   "id": "1c4d3071",
   "metadata": {
    "papermill": {
     "duration": 0.064292,
     "end_time": "2023-09-13T18:55:51.330774",
     "exception": false,
     "start_time": "2023-09-13T18:55:51.266482",
     "status": "completed"
    },
    "tags": []
   },
   "source": [
    "<a id=\"extract_features\"></a>\n",
    "# <b><span style='color:#fcc36d'>Step 3.6 |</span><span style='color:#ff6200'> Extracting Key Features (RAM, Battery, etc.)</span></b>\n",
    "⬆️ [Tabel of Contents](#contents_tabel)"
   ]
  },
  {
   "cell_type": "code",
   "execution_count": 21,
   "id": "8af206b2",
   "metadata": {},
   "outputs": [
    {
     "data": {
      "text/plain": [
       "0      8\n",
       "1      6\n",
       "2      8\n",
       "3      4\n",
       "4      8\n",
       "      ..\n",
       "891    4\n",
       "892    4\n",
       "893    4\n",
       "894    6\n",
       "895    4\n",
       "Name: RAM_GB, Length: 896, dtype: int32"
      ]
     },
     "execution_count": 21,
     "metadata": {},
     "output_type": "execute_result"
    }
   ],
   "source": [
    "data['RAM_GB'] = data['RAM'].str.extract(r'(\\d+)\\s+GB\\s+RAM')\n",
    "data = data.dropna().reset_index(drop=True)\n",
    "data['RAM_GB'] =data['RAM_GB'].astype(int)\n",
    "data['RAM_GB']"
   ]
  },
  {
   "cell_type": "code",
   "execution_count": 22,
   "id": "59ab5a15",
   "metadata": {},
   "outputs": [
    {
     "data": {
      "text/plain": [
       "0      8\n",
       "1      6\n",
       "2      8\n",
       "3      4\n",
       "4      8\n",
       "      ..\n",
       "891    4\n",
       "892    4\n",
       "893    4\n",
       "894    6\n",
       "895    4\n",
       "Name: RAM_GB, Length: 896, dtype: int32"
      ]
     },
     "execution_count": 22,
     "metadata": {},
     "output_type": "execute_result"
    }
   ],
   "source": [
    "data['RAM_GB'] = data['RAM'].str.extract(r'(\\d+)\\s+GB\\s+RAM')\n",
    "data = data.dropna().reset_index(drop=True)\n",
    "data['RAM_GB'] =data['RAM_GB'].astype(int)\n",
    "data['RAM_GB']"
   ]
  },
  {
   "cell_type": "code",
   "execution_count": 23,
   "id": "f398cf97",
   "metadata": {},
   "outputs": [
    {
     "data": {
      "text/plain": [
       "0      128\n",
       "1      128\n",
       "2      256\n",
       "3      128\n",
       "4      128\n",
       "      ... \n",
       "891     64\n",
       "892    128\n",
       "893     64\n",
       "894     64\n",
       "895     64\n",
       "Name: storage_capacity_gb, Length: 896, dtype: int32"
      ]
     },
     "execution_count": 23,
     "metadata": {},
     "output_type": "execute_result"
    }
   ],
   "source": [
    "data['storage_capacity'] = data['RAM'].str.extract(r',\\s+(\\d+\\s+.+)\\s+inbuilt')\n",
    "def convert_storage(value):\n",
    "    value = value.upper().strip()\n",
    "    if 'TB' in value:\n",
    "        return float(value.replace('TB', '').strip()) * 1024\n",
    "    elif 'GB' in value:\n",
    "        return float(value.replace('GB', '').strip())\n",
    "    else:\n",
    "        return None\n",
    "\n",
    "data['storage_capacity_gb'] = data['storage_capacity'].apply(convert_storage).astype(int)\n",
    "data['storage_capacity_gb']"
   ]
  },
  {
   "cell_type": "code",
   "execution_count": 24,
   "id": "679100c7",
   "metadata": {},
   "outputs": [
    {
     "data": {
      "text/plain": [
       "0      3561\n",
       "1      3349\n",
       "2      4685\n",
       "3      3240\n",
       "4      3582\n",
       "       ... \n",
       "891    6000\n",
       "892    5020\n",
       "893    5020\n",
       "894    4500\n",
       "895    4030\n",
       "Name: battery_capicity_MAH, Length: 896, dtype: object"
      ]
     },
     "execution_count": 24,
     "metadata": {},
     "output_type": "execute_result"
    }
   ],
   "source": [
    "data['battery_capicity_MAH'] = data['battery_capicity_MAH'].str.extract(r'(\\d+)\\s+mAh')\n",
    "data['battery_capicity_MAH']"
   ]
  },
  {
   "cell_type": "code",
   "execution_count": 25,
   "id": "f2c3f522",
   "metadata": {},
   "outputs": [
    {
     "data": {
      "text/plain": [
       "0       6.1\n",
       "1       6.1\n",
       "2       6.9\n",
       "3       6.1\n",
       "4       6.3\n",
       "       ... \n",
       "891    6.53\n",
       "892    6.67\n",
       "893    6.53\n",
       "894    6.53\n",
       "895    6.08\n",
       "Name: display_size_INCH, Length: 896, dtype: object"
      ]
     },
     "execution_count": 25,
     "metadata": {},
     "output_type": "execute_result"
    }
   ],
   "source": [
    "data['display_size_INCH'] = data['display_size_INCH'].str.extract(r'(.*?)\\s+inches')\n",
    "data['display_size_INCH']"
   ]
  },
  {
   "cell_type": "code",
   "execution_count": 26,
   "id": "e5414d7c",
   "metadata": {},
   "outputs": [
    {
     "data": {
      "text/plain": [
       "0       60\n",
       "1       60\n",
       "2      108\n",
       "3       24\n",
       "4      108\n",
       "      ... \n",
       "891     48\n",
       "892     48\n",
       "893     48\n",
       "894     64\n",
       "895     58\n",
       "Name: camera_MP, Length: 872, dtype: int64"
      ]
     },
     "execution_count": 26,
     "metadata": {},
     "output_type": "execute_result"
    }
   ],
   "source": [
    "data['camera_MP'] = data['camera_MP'].str.extract(r'(.*?)\\s+Rear')\n",
    "data = data.dropna()\n",
    "x = []\n",
    "\n",
    "for i in data['camera_MP']:\n",
    "    cleaned = re.sub(r'\\s+', ' ', i)  # normalize whitespace\n",
    "    \n",
    "    numbers = re.findall(r'(\\d+)\\s*MP', cleaned)\n",
    "    sum=0\n",
    "    for j in numbers:\n",
    "        sum = sum+int(j)\n",
    "    x.append(sum)\n",
    "        \n",
    "data['camera_MP']=x\n",
    "data['camera_MP']"
   ]
  },
  {
   "cell_type": "markdown",
   "id": "921f8e84",
   "metadata": {
    "papermill": {
     "duration": 0.064205,
     "end_time": "2023-09-13T18:55:51.460106",
     "exception": false,
     "start_time": "2023-09-13T18:55:51.395901",
     "status": "completed"
    },
    "tags": []
   },
   "source": [
    "<a id=\"final_overview\"></a>\n",
    "# <b><span style='color:#fcc36d'>Step 3.7 |</span><span style='color:#ff6200'>Final Dataset Overview</span></b>\n",
    "⬆️ [Tabel of Contents](#contents_tabel)"
   ]
  },
  {
   "cell_type": "code",
   "execution_count": 27,
   "id": "a41beb50",
   "metadata": {},
   "outputs": [
    {
     "name": "stdout",
     "output_type": "stream",
     "text": [
      "<class 'pandas.core.frame.DataFrame'>\n",
      "Index: 872 entries, 0 to 895\n",
      "Data columns (total 13 columns):\n",
      " #   Column                Non-Null Count  Dtype  \n",
      "---  ------                --------------  -----  \n",
      " 0   Name                  872 non-null    object \n",
      " 1   Price_INR             872 non-null    int32  \n",
      " 2   Rating                872 non-null    float64\n",
      " 3   network_type          872 non-null    object \n",
      " 4   Processor             872 non-null    int64  \n",
      " 5   RAM                   872 non-null    object \n",
      " 6   battery_capicity_MAH  872 non-null    object \n",
      " 7   display_size_INCH     872 non-null    object \n",
      " 8   camera_MP             872 non-null    int64  \n",
      " 9   Brand                 872 non-null    object \n",
      " 10  RAM_GB                872 non-null    int32  \n",
      " 11  storage_capacity      872 non-null    object \n",
      " 12  storage_capacity_gb   872 non-null    int32  \n",
      "dtypes: float64(1), int32(3), int64(2), object(7)\n",
      "memory usage: 85.2+ KB\n"
     ]
    }
   ],
   "source": [
    "data.info()"
   ]
  },
  {
   "cell_type": "markdown",
   "id": "c3b53330",
   "metadata": {},
   "source": [
    "<div style=\"border-radius:10px; padding: 15px; background-color: #ffeacc; font-size:120%; text-align:left\">\n",
    "    \n",
    "- As we can see columns like storage_capacity_gb, display_size_INCH etc need to be in numeric data type to make furthre analysis easier.\n",
    "\n",
    "- Also there are some extra columns like RAM, storage_capacity."
   ]
  },
  {
   "cell_type": "code",
   "execution_count": 28,
   "id": "8fb2e314",
   "metadata": {
    "execution": {
     "iopub.execute_input": "2023-09-13T18:55:51.591901Z",
     "iopub.status.busy": "2023-09-13T18:55:51.591415Z",
     "iopub.status.idle": "2023-09-13T18:55:51.597960Z",
     "shell.execute_reply": "2023-09-13T18:55:51.596352Z"
    },
    "papermill": {
     "duration": 0.075851,
     "end_time": "2023-09-13T18:55:51.600414",
     "exception": false,
     "start_time": "2023-09-13T18:55:51.524563",
     "status": "completed"
    },
    "tags": []
   },
   "outputs": [],
   "source": [
    "# need to change storage_GB, battery_capacity_MAH and display_size_INCH from object to int,intand float for consistency in data type and makeing analysis easier\n",
    "data['battery_capicity_MAH'] = data['battery_capicity_MAH'].astype(int)\n",
    "data['display_size_INCH'] = data['display_size_INCH'].astype(float)\n",
    "data['storage_capacity_gb'] = data['storage_capacity_gb'].astype(int)\n",
    "\n",
    "#droping usless columns\n",
    "data = data.drop(['RAM','storage_capacity'], axis=1)"
   ]
  },
  {
   "cell_type": "code",
   "execution_count": 29,
   "id": "e53a70e2",
   "metadata": {
    "execution": {
     "iopub.execute_input": "2023-09-13T18:55:51.734440Z",
     "iopub.status.busy": "2023-09-13T18:55:51.733622Z",
     "iopub.status.idle": "2023-09-13T18:55:51.740743Z",
     "shell.execute_reply": "2023-09-13T18:55:51.739481Z"
    },
    "papermill": {
     "duration": 0.077309,
     "end_time": "2023-09-13T18:55:51.743412",
     "exception": false,
     "start_time": "2023-09-13T18:55:51.666103",
     "status": "completed"
    },
    "tags": []
   },
   "outputs": [
    {
     "name": "stdout",
     "output_type": "stream",
     "text": [
      "<class 'pandas.core.frame.DataFrame'>\n",
      "Index: 872 entries, 0 to 895\n",
      "Data columns (total 11 columns):\n",
      " #   Column                Non-Null Count  Dtype  \n",
      "---  ------                --------------  -----  \n",
      " 0   Name                  872 non-null    object \n",
      " 1   Price_INR             872 non-null    int32  \n",
      " 2   Rating                872 non-null    float64\n",
      " 3   network_type          872 non-null    object \n",
      " 4   Processor             872 non-null    int64  \n",
      " 5   battery_capicity_MAH  872 non-null    int32  \n",
      " 6   display_size_INCH     872 non-null    float64\n",
      " 7   camera_MP             872 non-null    int64  \n",
      " 8   Brand                 872 non-null    object \n",
      " 9   RAM_GB                872 non-null    int32  \n",
      " 10  storage_capacity_gb   872 non-null    int32  \n",
      "dtypes: float64(2), int32(4), int64(2), object(3)\n",
      "memory usage: 68.1+ KB\n"
     ]
    }
   ],
   "source": [
    "data.info()"
   ]
  },
  {
   "cell_type": "markdown",
   "id": "c0423204",
   "metadata": {
    "papermill": {
     "duration": 0.065855,
     "end_time": "2023-09-13T18:55:51.875480",
     "exception": false,
     "start_time": "2023-09-13T18:55:51.809625",
     "status": "completed"
    },
    "tags": []
   },
   "source": [
    "<a id=\"eda\"></a>\n",
    "# <p style=\"background-color: #ff6200; font-family:calibri; color:white; font-size:140%; font-family:Verdana; text-align:center; border-radius:15px 50px;\" >Step 4 | Exploratory Data Analysis (EDA)\n",
    "⬆️ [Tabel of Contents](#contents_tabel)"
   ]
  },
  {
   "cell_type": "markdown",
   "id": "996035e6",
   "metadata": {
    "papermill": {
     "duration": 0.068241,
     "end_time": "2023-09-13T18:55:52.142187",
     "exception": false,
     "start_time": "2023-09-13T18:55:52.073946",
     "status": "completed"
    },
    "tags": []
   },
   "source": [
    "<a id=\"eda_summary\"></a>\n",
    "# <b><span style='color:#fcc36d'>Step 4.1 |</span><span style='color:#ff6200'> Dataset Shape and Summary</span></b>\n",
    "⬆️ [Tabel of Contents](#contents_tabel)"
   ]
  },
  {
   "cell_type": "code",
   "execution_count": 30,
   "id": "2c94ccfa",
   "metadata": {},
   "outputs": [
    {
     "name": "stdout",
     "output_type": "stream",
     "text": [
      "<class 'pandas.core.frame.DataFrame'>\n",
      "Index: 872 entries, 0 to 895\n",
      "Data columns (total 11 columns):\n",
      " #   Column                Non-Null Count  Dtype  \n",
      "---  ------                --------------  -----  \n",
      " 0   Name                  872 non-null    object \n",
      " 1   Price_INR             872 non-null    int32  \n",
      " 2   Rating                872 non-null    float64\n",
      " 3   network_type          872 non-null    object \n",
      " 4   Processor             872 non-null    int64  \n",
      " 5   battery_capicity_MAH  872 non-null    int32  \n",
      " 6   display_size_INCH     872 non-null    float64\n",
      " 7   camera_MP             872 non-null    int64  \n",
      " 8   Brand                 872 non-null    object \n",
      " 9   RAM_GB                872 non-null    int32  \n",
      " 10  storage_capacity_gb   872 non-null    int32  \n",
      "dtypes: float64(2), int32(4), int64(2), object(3)\n",
      "memory usage: 68.1+ KB\n"
     ]
    }
   ],
   "source": [
    "smartphones = data\n",
    "smartphones.info()"
   ]
  },
  {
   "cell_type": "markdown",
   "id": "49247c5e",
   "metadata": {
    "papermill": {
     "duration": 0.065054,
     "end_time": "2023-09-13T18:55:52.406366",
     "exception": false,
     "start_time": "2023-09-13T18:55:52.341312",
     "status": "completed"
    },
    "tags": []
   },
   "source": [
    "<a id=\"top_brands\"></a>\n",
    "# <b><span style='color:#fcc36d'>Step 4.2 |</span><span style='color:#ff6200'> Top Smartphone Brands</span></b>\n",
    "⬆️ [Table of Contents](#contents_table)\n"
   ]
  },
  {
   "cell_type": "code",
   "execution_count": 31,
   "id": "12e426e9",
   "metadata": {
    "execution": {
     "iopub.execute_input": "2023-09-13T18:55:52.674223Z",
     "iopub.status.busy": "2023-09-13T18:55:52.673743Z",
     "iopub.status.idle": "2023-09-13T18:55:53.775752Z",
     "shell.execute_reply": "2023-09-13T18:55:53.774679Z"
    },
    "papermill": {
     "duration": 1.173973,
     "end_time": "2023-09-13T18:55:53.778716",
     "exception": false,
     "start_time": "2023-09-13T18:55:52.604743",
     "status": "completed"
    },
    "tags": []
   },
   "outputs": [
    {
     "name": "stdout",
     "output_type": "stream",
     "text": [
      "apple\n",
      "iqoo\n",
      "motorola\n",
      "oneplus\n",
      "oppo\n",
      "realme\n",
      "samsung\n",
      "vivo\n",
      "xiaomi\n"
     ]
    }
   ],
   "source": [
    "for name in smartphones['Brand'].unique():\n",
    "    print(name)"
   ]
  },
  {
   "cell_type": "markdown",
   "id": "e78228ab",
   "metadata": {
    "papermill": {
     "duration": 0.065306,
     "end_time": "2023-09-13T18:55:52.536954",
     "exception": false,
     "start_time": "2023-09-13T18:55:52.471648",
     "status": "completed"
    },
    "tags": []
   },
   "source": [
    "<div style=\"border-radius:10px; padding: 15px; background-color: #ffeacc; font-size:120%; text-align:left\">\n",
    "<b>Top Smartphone Brands Identified:</b><br><br>\n",
    "We’ve identified some of the most popular and widely trusted smartphone brands in the current market. These include: \n",
    "<b>Apple</b>, <b>Samsung</b>, <b>Xiaomi</b>, <b>OnePlus</b>, <b>Realme</b>, <b>Vivo</b>, <b>Oppo</b>, <b>iQOO</b>, and <b>Motorola</b>.\n",
    "<br><br>\n",
    "These brands collectively cover a wide range of consumer needs — from premium flagship models to budget-friendly options — and are known for delivering innovative features, reliable performance, and strong market presence across different price segments.\n",
    "\n",
    "</div>\n"
   ]
  },
  {
   "cell_type": "markdown",
   "id": "9a675db6",
   "metadata": {
    "papermill": {
     "duration": 0.065204,
     "end_time": "2023-09-13T18:55:54.189503",
     "exception": false,
     "start_time": "2023-09-13T18:55:54.124299",
     "status": "completed"
    },
    "tags": []
   },
   "source": [
    "<div style=\"border-radius:10px; padding: 15px; background-color: #ffeacc; font-size:120%; text-align:left\">\n",
    "<h3 align=\"left\"><font color=#ff6200>Note: </font></h3>\n",
    "    \n",
    "- We've named the customer-centric dataframe as __customer_data__, which will eventually contain all the customer-based features we plan to create."
   ]
  },
  {
   "cell_type": "markdown",
   "id": "d3b5ec72",
   "metadata": {
    "papermill": {
     "duration": 0.063722,
     "end_time": "2023-09-13T18:55:54.318090",
     "exception": false,
     "start_time": "2023-09-13T18:55:54.254368",
     "status": "completed"
    },
    "tags": []
   },
   "source": [
    "<a id=\"price_dist\"></a>\n",
    "# <b><span style='color:#fcc36d'>Step 4.3 |</span><span style='color:#ff6200'> Price Distribution</span></b>\n",
    "⬆️ [Table of Contents](#contents_table)\n"
   ]
  },
  {
   "cell_type": "code",
   "execution_count": 32,
   "id": "54728428",
   "metadata": {},
   "outputs": [
    {
     "data": {
      "image/png": "[encoded data removed]",
      "text/plain": [
       "<Figure size 720x432 with 1 Axes>"
      ]
     },
     "metadata": {},
     "output_type": "display_data"
    }
   ],
   "source": [
    "plt.figure(figsize=(10, 6))\n",
    "sns.histplot(smartphones['Price_INR'], bins=40, kde=True, color='#ff6200')\n",
    "plt.title('Price Distribution of Smartphones', fontsize=16, fontweight='bold', color='#333333')\n",
    "plt.xlabel('Price (INR)', fontsize=12)\n",
    "plt.ylabel('Number of Smartphones', fontsize=12)\n",
    "plt.grid(axis='y', linestyle='--', alpha=0.7)\n",
    "plt.tight_layout()\n",
    "plt.show()"
   ]
  },
  {
   "cell_type": "markdown",
   "id": "a5b9dce3",
   "metadata": {
    "papermill": {
     "duration": 0.065174,
     "end_time": "2023-09-13T18:55:54.450537",
     "exception": false,
     "start_time": "2023-09-13T18:55:54.385363",
     "status": "completed"
    },
    "tags": []
   },
   "source": [
    "<div style=\"border-radius:10px; padding: 15px; background-color: #ffeacc; font-size:120%; text-align:left\">\n",
    "From the distribution plot above, we can clearly see that the majority of smartphones are priced under ₹30,000. There's a steep decline in the number of phones as the price increases, indicating that budget and mid-range smartphones dominate the market. Very few models are priced beyond ₹60,000, highlighting that premium smartphones cater to a smaller segment. This suggests that most brands focus on affordability and value-for-money options to appeal to a wider customer base.\n",
    "</div>\n"
   ]
  },
  {
   "cell_type": "markdown",
   "id": "48c28443",
   "metadata": {
    "papermill": {
     "duration": 0.067521,
     "end_time": "2023-09-13T18:55:55.315371",
     "exception": false,
     "start_time": "2023-09-13T18:55:55.247850",
     "status": "completed"
    },
    "tags": []
   },
   "source": [
    "<a id=\"ram_storage\"></a>\n",
    "# <b><span style='color:#fcc36d'>Step 4.4 |</span><span style='color:#ff6200'> RAM & Storage Variants</span></b>\n",
    "⬆️ [Table of Contents](#contents_table)\n"
   ]
  },
  {
   "cell_type": "code",
   "execution_count": 33,
   "id": "055ab01f",
   "metadata": {
    "execution": {
     "iopub.execute_input": "2023-09-13T18:55:55.585725Z",
     "iopub.status.busy": "2023-09-13T18:55:55.585227Z",
     "iopub.status.idle": "2023-09-13T18:55:55.764592Z",
     "shell.execute_reply": "2023-09-13T18:55:55.763336Z"
    },
    "papermill": {
     "duration": 0.251802,
     "end_time": "2023-09-13T18:55:55.767945",
     "exception": false,
     "start_time": "2023-09-13T18:55:55.516143",
     "status": "completed"
    },
    "scrolled": true,
    "tags": []
   },
   "outputs": [
    {
     "name": "stdout",
     "output_type": "stream",
     "text": [
      "Avaliable variants of RAM in GB :\n",
      "8\n",
      "6\n",
      "4\n",
      "3\n",
      "2\n",
      "12\n",
      "16\n",
      "24\n",
      "18\n"
     ]
    }
   ],
   "source": [
    "print('Avaliable variants of RAM in GB :')\n",
    "for ram in smartphones['RAM_GB'].unique():\n",
    "    print(ram)"
   ]
  },
  {
   "cell_type": "code",
   "execution_count": 34,
   "id": "875fa23d",
   "metadata": {},
   "outputs": [
    {
     "name": "stdout",
     "output_type": "stream",
     "text": [
      "Avaliable variation in Storage capacity of smartphones \n",
      "128\n",
      "256\n",
      "1024\n",
      "512\n",
      "64\n",
      "32\n"
     ]
    }
   ],
   "source": [
    "print('Avaliable variation in Storage capacity of smartphones ')\n",
    "for storage in smartphones['storage_capacity_gb'].unique():\n",
    "    print(storage)"
   ]
  },
  {
   "cell_type": "markdown",
   "id": "e062ecf4",
   "metadata": {
    "papermill": {
     "duration": 0.066321,
     "end_time": "2023-09-13T18:55:55.449792",
     "exception": false,
     "start_time": "2023-09-13T18:55:55.383471",
     "status": "completed"
    },
    "tags": []
   },
   "source": [
    "<div style=\"border-radius:10px; padding: 15px; background-color: #ffeacc; font-size:120%; text-align:left\">\n",
    "    \n",
    "- The smartphone dataset includes a diverse range of memory configurations. On the RAM side, we observe popular capacities like __4GB__, __6GB__, and __8GB__—indicating strong representation of mid-range and budget devices. Higher RAM options like __12GB__, __16GB__, and even __24GB__ show that some high-performance and flagship models are also part of the mix.\n",
    "\n",
    "    \n",
    "- For internal storage, the most common capacities are __64GB__, __128GB__, and __256GB__—aligning with typical offerings in both budget and mid-tier smartphones. Interestingly, the presence of __512GB__ and even __1TB__ (1024GB) storage options highlights that premium users who demand more space for media, apps, and games are also catered to.\n",
    "\n",
    "Overall, the memory configuration variety reflects a balanced market approach—serving everyday users as well as tech-savvy customers seeking high-end specifications.\n",
    "</div>\n"
   ]
  },
  {
   "cell_type": "markdown",
   "id": "382a5ecb",
   "metadata": {},
   "source": [
    "<a id=\"problem_statements\"></a>\n",
    "# <p style=\"background-color: #ff6200; font-family:calibri; color:white; font-size:140%; font-family:Verdana; text-align:center; border-radius:15px 50px;\">Step 5 | Business Problem Statements</p>\n",
    "⬆️ [Tabel of Contents](#contents_tabel)"
   ]
  },
  {
   "cell_type": "markdown",
   "id": "acb99b98",
   "metadata": {},
   "source": [
    "<a id=\"brand_price\"></a>\n",
    "# <b><span style='color:#fcc36d'>Step 5.1 |</span><span style='color:#ff6200'> Brand vs Price Trends</span></b>\n",
    "⬆️ [Table of Contents](#contents_table)\n"
   ]
  },
  {
   "cell_type": "code",
   "execution_count": 65,
   "id": "5f8ae6d2",
   "metadata": {},
   "outputs": [
    {
     "data": {
      "text/plain": [
       "Brand\n",
       "apple       93598.44\n",
       "oneplus     37056.95\n",
       "xiaomi      34553.27\n",
       "samsung     31069.81\n",
       "vivo        28925.88\n",
       "iqoo        28865.54\n",
       "oppo        27650.92\n",
       "motorola    22231.70\n",
       "realme      20723.00\n",
       "Name: Price_INR, dtype: float64"
      ]
     },
     "execution_count": 65,
     "metadata": {},
     "output_type": "execute_result"
    }
   ],
   "source": [
    "brandwise_average_price = smartphones.groupby('Brand')['Price_INR'].mean().round(2)\n",
    "sorted_price = brandwise_average_price.sort_values(ascending=False)\n",
    "sorted_price"
   ]
  },
  {
   "cell_type": "code",
   "execution_count": 36,
   "id": "b4d7457c",
   "metadata": {},
   "outputs": [
    {
     "data": {
      "image/png": "[encoded data removed]",
      "text/plain": [
       "<Figure size 720x360 with 1 Axes>"
      ]
     },
     "metadata": {},
     "output_type": "display_data"
    }
   ],
   "source": [
    "plt.figure(figsize=(10, 5))\n",
    "sns.barplot(brandwise_average_price)\n",
    "plt.title(\"BRANDWISE AVERAGE PRICE OF SMARTPHONES\", color='red',pad=20)\n",
    "plt.xlabel('BRAND',color='red',labelpad=20)\n",
    "plt.ylabel('PRICE_INR',color='red',labelpad=20)\n",
    "plt.show()"
   ]
  },
  {
   "cell_type": "markdown",
   "id": "17a72148",
   "metadata": {},
   "source": [
    "<div style=\"border-radius:10px; padding: 15px; background-color: #ffeacc; font-size:120%; text-align:left\">\n",
    "    \n",
    "### **`Inference :`**\n",
    "\n",
    "- Apple has the highest average price among all smartphone brands, with an average price of around ₹95,276 per phone.\n",
    "\n",
    "- Samsung has the second-highest average price, approximately ₹44,539 per phone.\n",
    "\n",
    "- Realme has the lowest average price among all brands, around ₹22,159 per phone."
   ]
  },
  {
   "cell_type": "markdown",
   "id": "8981d895",
   "metadata": {},
   "source": [
    "<div style=\"border-radius:10px; padding: 15px; background-color: #ffeacc; font-size:120%; text-align:left\">\n",
    "\n",
    "Let's uderstand it by dividing smartphones in 4 category :\n",
    "\n",
    "- Low budget smartphones(price belowe 15000)\n",
    "\n",
    "- Mid budget smartphones(price between 15000 and 50000)\n",
    "\n",
    "- High budget smartphones(price between 50000 and 80000)\n",
    "\n",
    "- Luxury smartphones(price above 80000 )"
   ]
  },
  {
   "cell_type": "code",
   "execution_count": 37,
   "id": "0126fb3b",
   "metadata": {},
   "outputs": [
    {
     "name": "stdout",
     "output_type": "stream",
     "text": [
      "   Price_INR         Budget_Category\n",
      "0      72400  High budget smartphone\n",
      "1      61400  High budget smartphone\n",
      "2     133900       Luxury smartphone\n",
      "3      43900   Mid budget smartphone\n",
      "4     110900       Luxury smartphone\n"
     ]
    }
   ],
   "source": [
    "conditions = [\n",
    "    (smartphones['Price_INR'] < 15000),\n",
    "    (smartphones['Price_INR'] >= 15000) & (smartphones['Price_INR'] <= 50000),\n",
    "    (smartphones['Price_INR'] > 50000) & (smartphones['Price_INR'] <= 80000),\n",
    "    (smartphones['Price_INR'] > 80000)\n",
    "]\n",
    "\n",
    "labels = [\n",
    "    'Low budget smartphone',\n",
    "    'Mid budget smartphone',\n",
    "    'High budget smartphone',\n",
    "    'Luxury smartphone'\n",
    "]\n",
    "\n",
    "smartphones['Budget_Category'] = np.select(conditions, labels)\n",
    "\n",
    "print(smartphones[['Price_INR', 'Budget_Category']].head())\n"
   ]
  },
  {
   "cell_type": "markdown",
   "id": "aa8ecab5",
   "metadata": {},
   "source": [
    "### Low budget"
   ]
  },
  {
   "cell_type": "code",
   "execution_count": 38,
   "id": "b6e50a54",
   "metadata": {},
   "outputs": [
    {
     "data": {
      "image/png": "[encoded data removed]",
      "text/plain": [
       "<Figure size 720x360 with 1 Axes>"
      ]
     },
     "metadata": {},
     "output_type": "display_data"
    }
   ],
   "source": [
    "low_budget_phones=smartphones[smartphones['Budget_Category']=='Low budget smartphone']\n",
    "low_budget_chart =  low_budget_phones.groupby('Brand')['Name'].count()\n",
    "\n",
    "plt.figure(figsize=(10,5))\n",
    "sns.barplot(low_budget_chart)\n",
    "plt.title('Number of Low-Budget Smartphones (≤ ₹15,000) per Brand', fontsize=14)\n",
    "plt.xlabel('Brand')\n",
    "plt.ylabel('Number of Smartphones')\n",
    "plt.xticks(rotation=45)\n",
    "plt.tight_layout()\n",
    "plt.show()"
   ]
  },
  {
   "cell_type": "markdown",
   "id": "0bffac7a",
   "metadata": {},
   "source": [
    "<div style=\"border-radius:10px; padding: 15px; background-color: #ffeacc; font-size:120%; text-align:left\">\n",
    "    \n",
    "### **`Inference :`**\n",
    "\n",
    "**from above chart we can say that :**\n",
    "  - __xiaomi__, __motorola__ and __realme__ brands have  more smartphones in low budget segment.\n",
    "  - __iqoo__ and oppp brands heve lowet number smartphoens n low budget .\n",
    "  - __Apple__ did not have even single smartphone \n",
    "\n"
   ]
  },
  {
   "cell_type": "markdown",
   "id": "cd7580e0",
   "metadata": {},
   "source": [
    "### Mid budget"
   ]
  },
  {
   "cell_type": "code",
   "execution_count": 39,
   "id": "30d1aaf3",
   "metadata": {},
   "outputs": [
    {
     "data": {
      "image/png": "[encoded data removed]",
      "text/plain": [
       "<Figure size 720x360 with 1 Axes>"
      ]
     },
     "metadata": {},
     "output_type": "display_data"
    }
   ],
   "source": [
    "mid_budget_phones=smartphones[smartphones['Budget_Category']=='Mid budget smartphone']\n",
    "mid_budget_chart =  mid_budget_phones.groupby('Brand')['Name'].count()\n",
    "\n",
    "plt.figure(figsize=(10,5))\n",
    "sns.barplot(mid_budget_chart)\n",
    "plt.title('Number of Mid-Budget Smartphones (₹15,000-₹50,000) per Brand', fontsize=14)\n",
    "plt.xlabel('Brand')\n",
    "plt.ylabel('Number of Smartphones')\n",
    "plt.xticks(rotation=45)\n",
    "plt.tight_layout()\n",
    "plt.show()"
   ]
  },
  {
   "cell_type": "markdown",
   "id": "d2bb870f",
   "metadata": {},
   "source": [
    "<div style=\"border-radius:10px; padding: 15px; background-color: #ffeacc; font-size:120%; text-align:left\">\n",
    "    \n",
    "### **`Inference :`**\n",
    "\n",
    "**from above chart we can say that :**\n",
    "  - __iqoo__, __OnePlus__ and __oppo__ brands have  more smartphones in mid budget segment.\n",
    "  - __Apple__ and oppp brands heve lowet number smartphoens n low budget . \n",
    "\n"
   ]
  },
  {
   "cell_type": "markdown",
   "id": "8e0d845c",
   "metadata": {},
   "source": [
    "### High Budget"
   ]
  },
  {
   "cell_type": "code",
   "execution_count": 68,
   "id": "b135e0d6",
   "metadata": {
    "scrolled": true
   },
   "outputs": [
    {
     "data": {
      "image/png": "[encoded data removed]",
      "text/plain": [
       "<Figure size 720x360 with 1 Axes>"
      ]
     },
     "metadata": {},
     "output_type": "display_data"
    }
   ],
   "source": [
    "high_budget_phones=smartphones[smartphones['Budget_Category']=='High budget smartphone']\n",
    "high_budget_chart =  high_budget_phones.groupby('Brand')['Name'].count()\n",
    "\n",
    "plt.figure(figsize=(10,5))\n",
    "sns.barplot(high_budget_chart)\n",
    "plt.title('Number of High-Budget Smartphones (₹50,000 - ₹80,000) per Brand', fontsize=14)\n",
    "plt.xlabel('Brand')\n",
    "plt.ylabel('Number of Smartphones')\n",
    "plt.yticks(range(0, 21, 5)) \n",
    "plt.xticks(rotation=45)\n",
    "plt.tight_layout()\n",
    "plt.show()"
   ]
  },
  {
   "cell_type": "markdown",
   "id": "78170965",
   "metadata": {},
   "source": [
    "<div style=\"border-radius:10px; padding: 15px; background-color: #ffeacc; font-size:120%; text-align:left\">\n",
    "    \n",
    "### **`Inference :`**\n",
    "\n",
    "**from above chart we can say that :**\n",
    "- __Apple__ have highest number of smartphones in High budget segment\n",
    "- __oneplus__, __vivio__ and __iqoo__ brands have  more smartphones in high budget segment\n",
    "- __motorola__ and __realme__ brands have lowest number of smartphoens in high budget segment \n",
    "\n",
    "\n"
   ]
  },
  {
   "cell_type": "markdown",
   "id": "42cf7654",
   "metadata": {},
   "source": [
    "### Luxury Smartphone"
   ]
  },
  {
   "cell_type": "code",
   "execution_count": 41,
   "id": "e52a5807",
   "metadata": {
    "scrolled": true
   },
   "outputs": [
    {
     "data": {
      "image/png": "[encoded data removed]",
      "text/plain": [
       "<Figure size 720x360 with 1 Axes>"
      ]
     },
     "metadata": {},
     "output_type": "display_data"
    }
   ],
   "source": [
    "luxury_phones=smartphones[smartphones['Budget_Category']=='Luxury smartphone']\n",
    "luxury_phones_chart =  luxury_phones.groupby('Brand')['Name'].count()\n",
    "\n",
    "plt.figure(figsize=(10,5))\n",
    "sns.barplot(luxury_phones_chart)\n",
    "plt.title('Number of High-Budget Smartphones (>₹80,000) per Brand', fontsize=14)\n",
    "plt.xlabel('Brand')\n",
    "plt.ylabel('Number of Smartphones')\n",
    "plt.xticks(rotation=45)\n",
    "plt.tight_layout()\n",
    "plt.show()"
   ]
  },
  {
   "cell_type": "markdown",
   "id": "0badca19",
   "metadata": {},
   "source": [
    "<div style=\"border-radius:10px; padding: 15px; background-color: #ffeacc; font-size:120%; text-align:left\">\n",
    "    \n",
    "### **`Inference :`**\n",
    "\n",
    "**from above chart we can say that :**\n",
    "- __Apple__ have highest number of smartphones in Luxury smartphones segment\n",
    "- There is not even single brand in luxury semgment to compete Apple.\n",
    "\n",
    "\n"
   ]
  },
  {
   "cell_type": "markdown",
   "id": "745d993a",
   "metadata": {},
   "source": [
    "<a id=\"feature_price\"></a>\n",
    "# <b><span style='color:#fcc36d'>Step 5.2 |</span><span style='color:#ff6200'> Feature-rich Value vs Price</span></b>\n",
    "⬆️ [Table of Contents](#contents_table)\n"
   ]
  },
  {
   "cell_type": "markdown",
   "id": "a1611c50",
   "metadata": {},
   "source": [
    "<div style=\"border-radius:10px; padding: 15px; background-color: #ffeacc; font-size:120%; text-align:left\">\n",
    "\n",
    "`Let's first define the fetures to consider phone having them as feature rich`\n",
    "  - Processor\n",
    "  - Camera\n",
    "  - RAM size\n",
    "  - Storage Capacity\n",
    "  - battery capacity\n",
    "  - Display size"
   ]
  },
  {
   "cell_type": "code",
   "execution_count": 42,
   "id": "4e0c22e0",
   "metadata": {},
   "outputs": [
    {
     "data": {
      "image/png": "[encoded data removed]",
      "text/plain": [
       "<Figure size 1296x1440 with 6 Axes>"
      ]
     },
     "metadata": {},
     "output_type": "display_data"
    }
   ],
   "source": [
    "features=['Processor','camera_MP','RAM_GB','storage_capacity_gb','battery_capicity_MAH','display_size_INCH']\n",
    "plt.figure(figsize=(18, 20))\n",
    "\n",
    "for i, feature in enumerate(features, 1):\n",
    "    plt.subplot(4, 2, i)\n",
    "    sns.scatterplot(data=smartphones, x=feature, y='Price_INR', alpha=0.6)\n",
    "    plt.title(f'Price vs {feature}')\n",
    "    plt.xlabel(feature)\n",
    "    plt.ylabel('Price (INR)')\n",
    "    plt.ylim(0,250000)\n",
    "\n",
    "plt.tight_layout()\n",
    "plt.show()\n"
   ]
  },
  {
   "cell_type": "markdown",
   "id": "913a3da6",
   "metadata": {},
   "source": [
    "<div style=\"border-radius:10px; padding: 15px; background-color: #ffeacc; font-size:120%; text-align:left\">\n",
    "    \n",
    "### **`Inference :`**\n",
    "\n",
    "**from above chart we can say that :**\n",
    "- __display_size_INCH__ and __battery_capicity_MAH__ features are not showing any dirrect releationship between price and feature value.\n",
    "- So now we gone consider only those features which are showing direct relationship with price.\n",
    "\n",
    "\n"
   ]
  },
  {
   "cell_type": "code",
   "execution_count": 115,
   "id": "3d71f239",
   "metadata": {},
   "outputs": [],
   "source": [
    "def normalize_data(features,dataset):\n",
    "    scaler = MinMaxScaler()\n",
    "    normalized = scaler.fit_transform(dataset[features])\n",
    "    normalized_df = pd.DataFrame(normalized,columns=features)\n",
    "    return normalized_df\n",
    "\n",
    "def cal_val(feature_scores,dataset):\n",
    "    value = []\n",
    "    for i in range(len(feature_scores)):\n",
    "        fea_val = 0\n",
    "        row = feature_scores.iloc[i,:]\n",
    "        for j in row :\n",
    "            fea_val = fea_val +j\n",
    "        val = fea_val/dataset['Price_INR']\n",
    "        value.append(val)\n",
    "    return value\n",
    "        \n",
    "\n",
    "def val_score_cal(dataset,features,feature):\n",
    "    p_normalized = normalize_data(features,dataset)\n",
    "    features.remove(feature)\n",
    "    a_normalized = normalize_data(features, dataset)\n",
    "    p_val = cal_val(p_normalized,dataset)\n",
    "    a_val = cal_val(a_normalized,dataset)\n",
    "    return a_val, p_val"
   ]
  },
  {
   "cell_type": "code",
   "execution_count": null,
   "id": "a251a427",
   "metadata": {},
   "outputs": [],
   "source": []
  },
  {
   "cell_type": "markdown",
   "id": "616ac42e",
   "metadata": {},
   "source": [
    "### With camera"
   ]
  },
  {
   "cell_type": "code",
   "execution_count": 116,
   "id": "ff7ac757",
   "metadata": {},
   "outputs": [
    {
     "data": {
      "text/html": [
       "<div>\n",
       "<style scoped>\n",
       "    .dataframe tbody tr th:only-of-type {\n",
       "        vertical-align: middle;\n",
       "    }\n",
       "\n",
       "    .dataframe tbody tr th {\n",
       "        vertical-align: top;\n",
       "    }\n",
       "\n",
       "    .dataframe thead th {\n",
       "        text-align: right;\n",
       "    }\n",
       "</style>\n",
       "<table border=\"1\" class=\"dataframe\">\n",
       "  <thead>\n",
       "    <tr style=\"text-align: right;\">\n",
       "      <th></th>\n",
       "      <th>Name</th>\n",
       "      <th>Price_INR</th>\n",
       "      <th>Rating</th>\n",
       "      <th>network_type</th>\n",
       "      <th>Processor</th>\n",
       "      <th>battery_capicity_MAH</th>\n",
       "      <th>display_size_INCH</th>\n",
       "      <th>camera_MP</th>\n",
       "      <th>Brand</th>\n",
       "      <th>RAM_GB</th>\n",
       "      <th>...</th>\n",
       "      <th>noc_value_score</th>\n",
       "      <th>Value_Category</th>\n",
       "      <th>feature_rounded</th>\n",
       "      <th>noc_feature_rounded</th>\n",
       "      <th>p_feature_score</th>\n",
       "      <th>nop_feature_score</th>\n",
       "      <th>p_value_score</th>\n",
       "      <th>nop_value_score</th>\n",
       "      <th>pa_value_score</th>\n",
       "      <th>pp_valu_score</th>\n",
       "    </tr>\n",
       "  </thead>\n",
       "  <tbody>\n",
       "    <tr>\n",
       "      <th>0</th>\n",
       "      <td>Apple iPhone 16</td>\n",
       "      <td>72400</td>\n",
       "      <td>4.75</td>\n",
       "      <td>5G</td>\n",
       "      <td>2</td>\n",
       "      <td>3561</td>\n",
       "      <td>6.10</td>\n",
       "      <td>60</td>\n",
       "      <td>apple</td>\n",
       "      <td>8</td>\n",
       "      <td>...</td>\n",
       "      <td>2.144957e-06</td>\n",
       "      <td>Low Value for Money</td>\n",
       "      <td>0.00000</td>\n",
       "      <td>0.2</td>\n",
       "      <td>0.226528</td>\n",
       "      <td>0.182083</td>\n",
       "      <td>0.000003</td>\n",
       "      <td>0.000003</td>\n",
       "      <td>0      0.000008\n",
       "1      0.000009\n",
       "2      0.00000...</td>\n",
       "      <td>0      0.000009\n",
       "1      0.000011\n",
       "2      0.00000...</td>\n",
       "    </tr>\n",
       "    <tr>\n",
       "      <th>1</th>\n",
       "      <td>Apple iPhone 15</td>\n",
       "      <td>61400</td>\n",
       "      <td>4.65</td>\n",
       "      <td>5G</td>\n",
       "      <td>3</td>\n",
       "      <td>3349</td>\n",
       "      <td>6.10</td>\n",
       "      <td>60</td>\n",
       "      <td>apple</td>\n",
       "      <td>6</td>\n",
       "      <td>...</td>\n",
       "      <td>2.808902e-06</td>\n",
       "      <td>Low Value for Money</td>\n",
       "      <td>0.00000</td>\n",
       "      <td>0.2</td>\n",
       "      <td>0.243699</td>\n",
       "      <td>0.154811</td>\n",
       "      <td>0.000004</td>\n",
       "      <td>0.000003</td>\n",
       "      <td>0      0.000006\n",
       "1      0.000007\n",
       "2      0.00000...</td>\n",
       "      <td>0      0.000009\n",
       "1      0.000011\n",
       "2      0.00000...</td>\n",
       "    </tr>\n",
       "    <tr>\n",
       "      <th>2</th>\n",
       "      <td>Apple iPhone 16 Pro Max</td>\n",
       "      <td>133900</td>\n",
       "      <td>4.20</td>\n",
       "      <td>5G</td>\n",
       "      <td>1</td>\n",
       "      <td>4685</td>\n",
       "      <td>6.90</td>\n",
       "      <td>108</td>\n",
       "      <td>apple</td>\n",
       "      <td>8</td>\n",
       "      <td>...</td>\n",
       "      <td>1.116954e-06</td>\n",
       "      <td>Low Value for Money</td>\n",
       "      <td>0.00000</td>\n",
       "      <td>0.1</td>\n",
       "      <td>0.286546</td>\n",
       "      <td>0.286546</td>\n",
       "      <td>0.000002</td>\n",
       "      <td>0.000002</td>\n",
       "      <td>0      0.000012\n",
       "1      0.000014\n",
       "2      0.00000...</td>\n",
       "      <td>0      0.000012\n",
       "1      0.000014\n",
       "2      0.00000...</td>\n",
       "    </tr>\n",
       "    <tr>\n",
       "      <th>3</th>\n",
       "      <td>Apple iPhone 13</td>\n",
       "      <td>43900</td>\n",
       "      <td>4.35</td>\n",
       "      <td>5G</td>\n",
       "      <td>4</td>\n",
       "      <td>3240</td>\n",
       "      <td>6.10</td>\n",
       "      <td>24</td>\n",
       "      <td>apple</td>\n",
       "      <td>4</td>\n",
       "      <td>...</td>\n",
       "      <td>4.319779e-06</td>\n",
       "      <td>Low Value for Money</td>\n",
       "      <td>0.00000</td>\n",
       "      <td>0.2</td>\n",
       "      <td>0.211556</td>\n",
       "      <td>0.078223</td>\n",
       "      <td>0.000005</td>\n",
       "      <td>0.000002</td>\n",
       "      <td>0      0.000003\n",
       "1      0.000004\n",
       "2      0.00000...</td>\n",
       "      <td>0      0.000008\n",
       "1      0.000009\n",
       "2      0.00000...</td>\n",
       "    </tr>\n",
       "    <tr>\n",
       "      <th>4</th>\n",
       "      <td>Apple iPhone 16 Pro</td>\n",
       "      <td>110900</td>\n",
       "      <td>4.25</td>\n",
       "      <td>5G</td>\n",
       "      <td>1</td>\n",
       "      <td>3582</td>\n",
       "      <td>6.30</td>\n",
       "      <td>108</td>\n",
       "      <td>apple</td>\n",
       "      <td>8</td>\n",
       "      <td>...</td>\n",
       "      <td>9.995531e-07</td>\n",
       "      <td>Low Value for Money</td>\n",
       "      <td>0.00000</td>\n",
       "      <td>0.1</td>\n",
       "      <td>0.247837</td>\n",
       "      <td>0.247837</td>\n",
       "      <td>0.000002</td>\n",
       "      <td>0.000002</td>\n",
       "      <td>0      0.000010\n",
       "1      0.000012\n",
       "2      0.00000...</td>\n",
       "      <td>0      0.000010\n",
       "1      0.000012\n",
       "2      0.00000...</td>\n",
       "    </tr>\n",
       "    <tr>\n",
       "      <th>...</th>\n",
       "      <td>...</td>\n",
       "      <td>...</td>\n",
       "      <td>...</td>\n",
       "      <td>...</td>\n",
       "      <td>...</td>\n",
       "      <td>...</td>\n",
       "      <td>...</td>\n",
       "      <td>...</td>\n",
       "      <td>...</td>\n",
       "      <td>...</td>\n",
       "      <td>...</td>\n",
       "      <td>...</td>\n",
       "      <td>...</td>\n",
       "      <td>...</td>\n",
       "      <td>...</td>\n",
       "      <td>...</td>\n",
       "      <td>...</td>\n",
       "      <td>...</td>\n",
       "      <td>...</td>\n",
       "      <td>...</td>\n",
       "      <td>...</td>\n",
       "    </tr>\n",
       "    <tr>\n",
       "      <th>843</th>\n",
       "      <td>Xiaomi Redmi K80 Pro</td>\n",
       "      <td>44990</td>\n",
       "      <td>4.10</td>\n",
       "      <td>5G</td>\n",
       "      <td>1</td>\n",
       "      <td>6000</td>\n",
       "      <td>6.67</td>\n",
       "      <td>132</td>\n",
       "      <td>xiaomi</td>\n",
       "      <td>12</td>\n",
       "      <td>...</td>\n",
       "      <td>7.736414e-06</td>\n",
       "      <td>Low Value for Money</td>\n",
       "      <td>0.00001</td>\n",
       "      <td>0.3</td>\n",
       "      <td>0.373969</td>\n",
       "      <td>0.373969</td>\n",
       "      <td>0.000008</td>\n",
       "      <td>0.000008</td>\n",
       "      <td>0      0.000015\n",
       "1      0.000018\n",
       "2      0.00000...</td>\n",
       "      <td>0      0.000015\n",
       "1      0.000018\n",
       "2      0.00000...</td>\n",
       "    </tr>\n",
       "    <tr>\n",
       "      <th>844</th>\n",
       "      <td>Xiaomi Redmi Note 12 (6GB RAM + 128GB)</td>\n",
       "      <td>12239</td>\n",
       "      <td>4.40</td>\n",
       "      <td>5G</td>\n",
       "      <td>7</td>\n",
       "      <td>5000</td>\n",
       "      <td>6.67</td>\n",
       "      <td>58</td>\n",
       "      <td>xiaomi</td>\n",
       "      <td>6</td>\n",
       "      <td>...</td>\n",
       "      <td>2.638873e-05</td>\n",
       "      <td>High Value for Money</td>\n",
       "      <td>0.00003</td>\n",
       "      <td>0.3</td>\n",
       "      <td>0.418738</td>\n",
       "      <td>0.152071</td>\n",
       "      <td>0.000034</td>\n",
       "      <td>0.000012</td>\n",
       "      <td>0      0.000006\n",
       "1      0.000007\n",
       "2      0.00000...</td>\n",
       "      <td>0      0.000015\n",
       "1      0.000018\n",
       "2      0.00000...</td>\n",
       "    </tr>\n",
       "    <tr>\n",
       "      <th>845</th>\n",
       "      <td>Xiaomi Redmi Note 12 Pro (8GB RAM + 256GB)</td>\n",
       "      <td>20694</td>\n",
       "      <td>4.50</td>\n",
       "      <td>5G</td>\n",
       "      <td>6</td>\n",
       "      <td>5000</td>\n",
       "      <td>6.67</td>\n",
       "      <td>60</td>\n",
       "      <td>xiaomi</td>\n",
       "      <td>8</td>\n",
       "      <td>...</td>\n",
       "      <td>1.681943e-05</td>\n",
       "      <td>Mid Value for Money</td>\n",
       "      <td>0.00002</td>\n",
       "      <td>0.3</td>\n",
       "      <td>0.443015</td>\n",
       "      <td>0.220793</td>\n",
       "      <td>0.000021</td>\n",
       "      <td>0.000011</td>\n",
       "      <td>0      0.000009\n",
       "1      0.000011\n",
       "2      0.00000...</td>\n",
       "      <td>0      0.000017\n",
       "1      0.000020\n",
       "2      0.00000...</td>\n",
       "    </tr>\n",
       "    <tr>\n",
       "      <th>846</th>\n",
       "      <td>Xiaomi Redmi Note 11R</td>\n",
       "      <td>12990</td>\n",
       "      <td>4.05</td>\n",
       "      <td>5G</td>\n",
       "      <td>7</td>\n",
       "      <td>5000</td>\n",
       "      <td>6.58</td>\n",
       "      <td>15</td>\n",
       "      <td>xiaomi</td>\n",
       "      <td>4</td>\n",
       "      <td>...</td>\n",
       "      <td>2.547264e-05</td>\n",
       "      <td>High Value for Money</td>\n",
       "      <td>0.00003</td>\n",
       "      <td>0.3</td>\n",
       "      <td>0.332561</td>\n",
       "      <td>0.065894</td>\n",
       "      <td>0.000026</td>\n",
       "      <td>0.000005</td>\n",
       "      <td>0      0.000003\n",
       "1      0.000003\n",
       "2      0.00000...</td>\n",
       "      <td>0      0.000012\n",
       "1      0.000014\n",
       "2      0.00000...</td>\n",
       "    </tr>\n",
       "    <tr>\n",
       "      <th>847</th>\n",
       "      <td>Xiaomi Redmi 13 Prime 5G</td>\n",
       "      <td>17990</td>\n",
       "      <td>4.20</td>\n",
       "      <td>5G</td>\n",
       "      <td>6</td>\n",
       "      <td>5100</td>\n",
       "      <td>6.73</td>\n",
       "      <td>66</td>\n",
       "      <td>xiaomi</td>\n",
       "      <td>6</td>\n",
       "      <td>...</td>\n",
       "      <td>1.934749e-05</td>\n",
       "      <td>Mid Value for Money</td>\n",
       "      <td>0.00002</td>\n",
       "      <td>0.3</td>\n",
       "      <td>0.385252</td>\n",
       "      <td>0.163030</td>\n",
       "      <td>0.000021</td>\n",
       "      <td>0.000009</td>\n",
       "      <td>0      0.000007\n",
       "1      0.000008\n",
       "2      0.00000...</td>\n",
       "      <td>0      0.000014\n",
       "1      0.000017\n",
       "2      0.00000...</td>\n",
       "    </tr>\n",
       "  </tbody>\n",
       "</table>\n",
       "<p>848 rows × 25 columns</p>\n",
       "</div>"
      ],
      "text/plain": [
       "                                           Name  Price_INR  Rating  \\\n",
       "0                               Apple iPhone 16      72400    4.75   \n",
       "1                               Apple iPhone 15      61400    4.65   \n",
       "2                       Apple iPhone 16 Pro Max     133900    4.20   \n",
       "3                               Apple iPhone 13      43900    4.35   \n",
       "4                           Apple iPhone 16 Pro     110900    4.25   \n",
       "..                                          ...        ...     ...   \n",
       "843                        Xiaomi Redmi K80 Pro      44990    4.10   \n",
       "844      Xiaomi Redmi Note 12 (6GB RAM + 128GB)      12239    4.40   \n",
       "845  Xiaomi Redmi Note 12 Pro (8GB RAM + 256GB)      20694    4.50   \n",
       "846                       Xiaomi Redmi Note 11R      12990    4.05   \n",
       "847                    Xiaomi Redmi 13 Prime 5G      17990    4.20   \n",
       "\n",
       "    network_type  Processor  battery_capicity_MAH  display_size_INCH  \\\n",
       "0             5G          2                  3561               6.10   \n",
       "1             5G          3                  3349               6.10   \n",
       "2             5G          1                  4685               6.90   \n",
       "3             5G          4                  3240               6.10   \n",
       "4             5G          1                  3582               6.30   \n",
       "..           ...        ...                   ...                ...   \n",
       "843           5G          1                  6000               6.67   \n",
       "844           5G          7                  5000               6.67   \n",
       "845           5G          6                  5000               6.67   \n",
       "846           5G          7                  5000               6.58   \n",
       "847           5G          6                  5100               6.73   \n",
       "\n",
       "     camera_MP   Brand  RAM_GB  ...  noc_value_score        Value_Category  \\\n",
       "0           60   apple       8  ...     2.144957e-06   Low Value for Money   \n",
       "1           60   apple       6  ...     2.808902e-06   Low Value for Money   \n",
       "2          108   apple       8  ...     1.116954e-06   Low Value for Money   \n",
       "3           24   apple       4  ...     4.319779e-06   Low Value for Money   \n",
       "4          108   apple       8  ...     9.995531e-07   Low Value for Money   \n",
       "..         ...     ...     ...  ...              ...                   ...   \n",
       "843        132  xiaomi      12  ...     7.736414e-06   Low Value for Money   \n",
       "844         58  xiaomi       6  ...     2.638873e-05  High Value for Money   \n",
       "845         60  xiaomi       8  ...     1.681943e-05   Mid Value for Money   \n",
       "846         15  xiaomi       4  ...     2.547264e-05  High Value for Money   \n",
       "847         66  xiaomi       6  ...     1.934749e-05   Mid Value for Money   \n",
       "\n",
       "     feature_rounded  noc_feature_rounded  p_feature_score  nop_feature_score  \\\n",
       "0            0.00000                  0.2         0.226528           0.182083   \n",
       "1            0.00000                  0.2         0.243699           0.154811   \n",
       "2            0.00000                  0.1         0.286546           0.286546   \n",
       "3            0.00000                  0.2         0.211556           0.078223   \n",
       "4            0.00000                  0.1         0.247837           0.247837   \n",
       "..               ...                  ...              ...                ...   \n",
       "843          0.00001                  0.3         0.373969           0.373969   \n",
       "844          0.00003                  0.3         0.418738           0.152071   \n",
       "845          0.00002                  0.3         0.443015           0.220793   \n",
       "846          0.00003                  0.3         0.332561           0.065894   \n",
       "847          0.00002                  0.3         0.385252           0.163030   \n",
       "\n",
       "    p_value_score  nop_value_score  \\\n",
       "0        0.000003         0.000003   \n",
       "1        0.000004         0.000003   \n",
       "2        0.000002         0.000002   \n",
       "3        0.000005         0.000002   \n",
       "4        0.000002         0.000002   \n",
       "..            ...              ...   \n",
       "843      0.000008         0.000008   \n",
       "844      0.000034         0.000012   \n",
       "845      0.000021         0.000011   \n",
       "846      0.000026         0.000005   \n",
       "847      0.000021         0.000009   \n",
       "\n",
       "                                        pa_value_score  \\\n",
       "0    0      0.000008\n",
       "1      0.000009\n",
       "2      0.00000...   \n",
       "1    0      0.000006\n",
       "1      0.000007\n",
       "2      0.00000...   \n",
       "2    0      0.000012\n",
       "1      0.000014\n",
       "2      0.00000...   \n",
       "3    0      0.000003\n",
       "1      0.000004\n",
       "2      0.00000...   \n",
       "4    0      0.000010\n",
       "1      0.000012\n",
       "2      0.00000...   \n",
       "..                                                 ...   \n",
       "843  0      0.000015\n",
       "1      0.000018\n",
       "2      0.00000...   \n",
       "844  0      0.000006\n",
       "1      0.000007\n",
       "2      0.00000...   \n",
       "845  0      0.000009\n",
       "1      0.000011\n",
       "2      0.00000...   \n",
       "846  0      0.000003\n",
       "1      0.000003\n",
       "2      0.00000...   \n",
       "847  0      0.000007\n",
       "1      0.000008\n",
       "2      0.00000...   \n",
       "\n",
       "                                         pp_valu_score  \n",
       "0    0      0.000009\n",
       "1      0.000011\n",
       "2      0.00000...  \n",
       "1    0      0.000009\n",
       "1      0.000011\n",
       "2      0.00000...  \n",
       "2    0      0.000012\n",
       "1      0.000014\n",
       "2      0.00000...  \n",
       "3    0      0.000008\n",
       "1      0.000009\n",
       "2      0.00000...  \n",
       "4    0      0.000010\n",
       "1      0.000012\n",
       "2      0.00000...  \n",
       "..                                                 ...  \n",
       "843  0      0.000015\n",
       "1      0.000018\n",
       "2      0.00000...  \n",
       "844  0      0.000015\n",
       "1      0.000018\n",
       "2      0.00000...  \n",
       "845  0      0.000017\n",
       "1      0.000020\n",
       "2      0.00000...  \n",
       "846  0      0.000012\n",
       "1      0.000014\n",
       "2      0.00000...  \n",
       "847  0      0.000014\n",
       "1      0.000017\n",
       "2      0.00000...  \n",
       "\n",
       "[848 rows x 25 columns]"
      ]
     },
     "execution_count": 116,
     "metadata": {},
     "output_type": "execute_result"
    }
   ],
   "source": [
    "## As all features have thier values in differnet scales, we have to normalize them.\n",
    "\n",
    "features = ['RAM_GB', 'storage_capacity_gb', 'battery_capicity_MAH','Processor','camera_MP']\n",
    "normalized_df = normalize_data(features,smartphones)\n",
    "## now we can give weights to the fatures based on there importance and find feature score for every smartphone\n",
    "normalized_df['feature_score'] = (\n",
    "    0.5 * normalized_df['camera_MP']+\n",
    "    0.4 * normalized_df['Processor']+\n",
    "    0.3 * normalized_df['RAM_GB'] +\n",
    "    0.3 * normalized_df['storage_capacity_gb']\n",
    ")\n",
    "\n",
    "## now lets find feature to price ratio(more score means for more features got in less money)\n",
    "smartphones['feature_score'] = normalized_df['feature_score']\n",
    "smartphones['value_score'] = smartphones['feature_score'] / smartphones['Price_INR']\n",
    "smartphones"
   ]
  },
  {
   "cell_type": "markdown",
   "id": "68f24893",
   "metadata": {},
   "source": [
    "### without camera"
   ]
  },
  {
   "cell_type": "code",
   "execution_count": 44,
   "id": "6f56ce4f",
   "metadata": {},
   "outputs": [
    {
     "data": {
      "text/html": [
       "<div>\n",
       "<style scoped>\n",
       "    .dataframe tbody tr th:only-of-type {\n",
       "        vertical-align: middle;\n",
       "    }\n",
       "\n",
       "    .dataframe tbody tr th {\n",
       "        vertical-align: top;\n",
       "    }\n",
       "\n",
       "    .dataframe thead th {\n",
       "        text-align: right;\n",
       "    }\n",
       "</style>\n",
       "<table border=\"1\" class=\"dataframe\">\n",
       "  <thead>\n",
       "    <tr style=\"text-align: right;\">\n",
       "      <th></th>\n",
       "      <th>Name</th>\n",
       "      <th>Price_INR</th>\n",
       "      <th>Rating</th>\n",
       "      <th>network_type</th>\n",
       "      <th>Processor</th>\n",
       "      <th>battery_capicity_MAH</th>\n",
       "      <th>display_size_INCH</th>\n",
       "      <th>camera_MP</th>\n",
       "      <th>Brand</th>\n",
       "      <th>RAM_GB</th>\n",
       "      <th>storage_capacity_gb</th>\n",
       "      <th>Budget_Category</th>\n",
       "      <th>feature_score</th>\n",
       "      <th>value_score</th>\n",
       "      <th>noc_feature_score</th>\n",
       "      <th>noc_value_score</th>\n",
       "    </tr>\n",
       "  </thead>\n",
       "  <tbody>\n",
       "    <tr>\n",
       "      <th>0</th>\n",
       "      <td>Apple iPhone 16</td>\n",
       "      <td>72400</td>\n",
       "      <td>4.75</td>\n",
       "      <td>5G</td>\n",
       "      <td>2</td>\n",
       "      <td>3561</td>\n",
       "      <td>6.10</td>\n",
       "      <td>60</td>\n",
       "      <td>apple</td>\n",
       "      <td>8</td>\n",
       "      <td>128</td>\n",
       "      <td>High budget smartphone</td>\n",
       "      <td>0.244336</td>\n",
       "      <td>0.000003</td>\n",
       "      <td>0.155295</td>\n",
       "      <td>2.144957e-06</td>\n",
       "    </tr>\n",
       "    <tr>\n",
       "      <th>1</th>\n",
       "      <td>Apple iPhone 15</td>\n",
       "      <td>61400</td>\n",
       "      <td>4.65</td>\n",
       "      <td>5G</td>\n",
       "      <td>3</td>\n",
       "      <td>3349</td>\n",
       "      <td>6.10</td>\n",
       "      <td>60</td>\n",
       "      <td>apple</td>\n",
       "      <td>6</td>\n",
       "      <td>128</td>\n",
       "      <td>High budget smartphone</td>\n",
       "      <td>0.261508</td>\n",
       "      <td>0.000004</td>\n",
       "      <td>0.172467</td>\n",
       "      <td>2.808902e-06</td>\n",
       "    </tr>\n",
       "    <tr>\n",
       "      <th>2</th>\n",
       "      <td>Apple iPhone 16 Pro Max</td>\n",
       "      <td>133900</td>\n",
       "      <td>4.20</td>\n",
       "      <td>5G</td>\n",
       "      <td>1</td>\n",
       "      <td>4685</td>\n",
       "      <td>6.90</td>\n",
       "      <td>108</td>\n",
       "      <td>apple</td>\n",
       "      <td>8</td>\n",
       "      <td>256</td>\n",
       "      <td>Luxury smartphone</td>\n",
       "      <td>0.320793</td>\n",
       "      <td>0.000002</td>\n",
       "      <td>0.149560</td>\n",
       "      <td>1.116954e-06</td>\n",
       "    </tr>\n",
       "    <tr>\n",
       "      <th>3</th>\n",
       "      <td>Apple iPhone 13</td>\n",
       "      <td>43900</td>\n",
       "      <td>4.35</td>\n",
       "      <td>5G</td>\n",
       "      <td>4</td>\n",
       "      <td>3240</td>\n",
       "      <td>6.10</td>\n",
       "      <td>24</td>\n",
       "      <td>apple</td>\n",
       "      <td>4</td>\n",
       "      <td>128</td>\n",
       "      <td>Mid budget smartphone</td>\n",
       "      <td>0.217036</td>\n",
       "      <td>0.000005</td>\n",
       "      <td>0.189638</td>\n",
       "      <td>4.319779e-06</td>\n",
       "    </tr>\n",
       "    <tr>\n",
       "      <th>4</th>\n",
       "      <td>Apple iPhone 16 Pro</td>\n",
       "      <td>110900</td>\n",
       "      <td>4.25</td>\n",
       "      <td>5G</td>\n",
       "      <td>1</td>\n",
       "      <td>3582</td>\n",
       "      <td>6.30</td>\n",
       "      <td>108</td>\n",
       "      <td>apple</td>\n",
       "      <td>8</td>\n",
       "      <td>128</td>\n",
       "      <td>Luxury smartphone</td>\n",
       "      <td>0.282083</td>\n",
       "      <td>0.000003</td>\n",
       "      <td>0.110850</td>\n",
       "      <td>9.995531e-07</td>\n",
       "    </tr>\n",
       "    <tr>\n",
       "      <th>...</th>\n",
       "      <td>...</td>\n",
       "      <td>...</td>\n",
       "      <td>...</td>\n",
       "      <td>...</td>\n",
       "      <td>...</td>\n",
       "      <td>...</td>\n",
       "      <td>...</td>\n",
       "      <td>...</td>\n",
       "      <td>...</td>\n",
       "      <td>...</td>\n",
       "      <td>...</td>\n",
       "      <td>...</td>\n",
       "      <td>...</td>\n",
       "      <td>...</td>\n",
       "      <td>...</td>\n",
       "      <td>...</td>\n",
       "    </tr>\n",
       "    <tr>\n",
       "      <th>891</th>\n",
       "      <td>Xiaomi Redmi 9 Power</td>\n",
       "      <td>8399</td>\n",
       "      <td>4.40</td>\n",
       "      <td>4G</td>\n",
       "      <td>8</td>\n",
       "      <td>6000</td>\n",
       "      <td>6.53</td>\n",
       "      <td>48</td>\n",
       "      <td>xiaomi</td>\n",
       "      <td>4</td>\n",
       "      <td>64</td>\n",
       "      <td>Low budget smartphone</td>\n",
       "      <td>NaN</td>\n",
       "      <td>NaN</td>\n",
       "      <td>NaN</td>\n",
       "      <td>NaN</td>\n",
       "    </tr>\n",
       "    <tr>\n",
       "      <th>892</th>\n",
       "      <td>Xiaomi Redmi Note 9 Pro (4GB RAM + 128GB)</td>\n",
       "      <td>15999</td>\n",
       "      <td>4.10</td>\n",
       "      <td>4G</td>\n",
       "      <td>7</td>\n",
       "      <td>5020</td>\n",
       "      <td>6.67</td>\n",
       "      <td>48</td>\n",
       "      <td>xiaomi</td>\n",
       "      <td>4</td>\n",
       "      <td>128</td>\n",
       "      <td>Mid budget smartphone</td>\n",
       "      <td>NaN</td>\n",
       "      <td>NaN</td>\n",
       "      <td>NaN</td>\n",
       "      <td>NaN</td>\n",
       "    </tr>\n",
       "    <tr>\n",
       "      <th>893</th>\n",
       "      <td>Xiaomi Redmi Note 9</td>\n",
       "      <td>9999</td>\n",
       "      <td>4.05</td>\n",
       "      <td>4G</td>\n",
       "      <td>8</td>\n",
       "      <td>5020</td>\n",
       "      <td>6.53</td>\n",
       "      <td>48</td>\n",
       "      <td>xiaomi</td>\n",
       "      <td>4</td>\n",
       "      <td>64</td>\n",
       "      <td>Low budget smartphone</td>\n",
       "      <td>NaN</td>\n",
       "      <td>NaN</td>\n",
       "      <td>NaN</td>\n",
       "      <td>NaN</td>\n",
       "    </tr>\n",
       "    <tr>\n",
       "      <th>894</th>\n",
       "      <td>Xiaomi Redmi Note 8 Pro</td>\n",
       "      <td>10999</td>\n",
       "      <td>4.20</td>\n",
       "      <td>4G</td>\n",
       "      <td>7</td>\n",
       "      <td>4500</td>\n",
       "      <td>6.53</td>\n",
       "      <td>64</td>\n",
       "      <td>xiaomi</td>\n",
       "      <td>6</td>\n",
       "      <td>64</td>\n",
       "      <td>Low budget smartphone</td>\n",
       "      <td>NaN</td>\n",
       "      <td>NaN</td>\n",
       "      <td>NaN</td>\n",
       "      <td>NaN</td>\n",
       "    </tr>\n",
       "    <tr>\n",
       "      <th>895</th>\n",
       "      <td>Xiaomi Mi A3</td>\n",
       "      <td>9480</td>\n",
       "      <td>4.30</td>\n",
       "      <td>4G</td>\n",
       "      <td>8</td>\n",
       "      <td>4030</td>\n",
       "      <td>6.08</td>\n",
       "      <td>58</td>\n",
       "      <td>xiaomi</td>\n",
       "      <td>4</td>\n",
       "      <td>64</td>\n",
       "      <td>Low budget smartphone</td>\n",
       "      <td>NaN</td>\n",
       "      <td>NaN</td>\n",
       "      <td>NaN</td>\n",
       "      <td>NaN</td>\n",
       "    </tr>\n",
       "  </tbody>\n",
       "</table>\n",
       "<p>872 rows × 16 columns</p>\n",
       "</div>"
      ],
      "text/plain": [
       "                                          Name  Price_INR  Rating  \\\n",
       "0                              Apple iPhone 16      72400    4.75   \n",
       "1                              Apple iPhone 15      61400    4.65   \n",
       "2                      Apple iPhone 16 Pro Max     133900    4.20   \n",
       "3                              Apple iPhone 13      43900    4.35   \n",
       "4                          Apple iPhone 16 Pro     110900    4.25   \n",
       "..                                         ...        ...     ...   \n",
       "891                       Xiaomi Redmi 9 Power       8399    4.40   \n",
       "892  Xiaomi Redmi Note 9 Pro (4GB RAM + 128GB)      15999    4.10   \n",
       "893                        Xiaomi Redmi Note 9       9999    4.05   \n",
       "894                    Xiaomi Redmi Note 8 Pro      10999    4.20   \n",
       "895                               Xiaomi Mi A3       9480    4.30   \n",
       "\n",
       "    network_type  Processor  battery_capicity_MAH  display_size_INCH  \\\n",
       "0             5G          2                  3561               6.10   \n",
       "1             5G          3                  3349               6.10   \n",
       "2             5G          1                  4685               6.90   \n",
       "3             5G          4                  3240               6.10   \n",
       "4             5G          1                  3582               6.30   \n",
       "..           ...        ...                   ...                ...   \n",
       "891           4G          8                  6000               6.53   \n",
       "892           4G          7                  5020               6.67   \n",
       "893           4G          8                  5020               6.53   \n",
       "894           4G          7                  4500               6.53   \n",
       "895           4G          8                  4030               6.08   \n",
       "\n",
       "     camera_MP   Brand  RAM_GB  storage_capacity_gb         Budget_Category  \\\n",
       "0           60   apple       8                  128  High budget smartphone   \n",
       "1           60   apple       6                  128  High budget smartphone   \n",
       "2          108   apple       8                  256       Luxury smartphone   \n",
       "3           24   apple       4                  128   Mid budget smartphone   \n",
       "4          108   apple       8                  128       Luxury smartphone   \n",
       "..         ...     ...     ...                  ...                     ...   \n",
       "891         48  xiaomi       4                   64   Low budget smartphone   \n",
       "892         48  xiaomi       4                  128   Mid budget smartphone   \n",
       "893         48  xiaomi       4                   64   Low budget smartphone   \n",
       "894         64  xiaomi       6                   64   Low budget smartphone   \n",
       "895         58  xiaomi       4                   64   Low budget smartphone   \n",
       "\n",
       "     feature_score  value_score  noc_feature_score  noc_value_score  \n",
       "0         0.244336     0.000003           0.155295     2.144957e-06  \n",
       "1         0.261508     0.000004           0.172467     2.808902e-06  \n",
       "2         0.320793     0.000002           0.149560     1.116954e-06  \n",
       "3         0.217036     0.000005           0.189638     4.319779e-06  \n",
       "4         0.282083     0.000003           0.110850     9.995531e-07  \n",
       "..             ...          ...                ...              ...  \n",
       "891            NaN          NaN                NaN              NaN  \n",
       "892            NaN          NaN                NaN              NaN  \n",
       "893            NaN          NaN                NaN              NaN  \n",
       "894            NaN          NaN                NaN              NaN  \n",
       "895            NaN          NaN                NaN              NaN  \n",
       "\n",
       "[872 rows x 16 columns]"
      ]
     },
     "execution_count": 44,
     "metadata": {},
     "output_type": "execute_result"
    }
   ],
   "source": [
    "## As all features have thier values in differnet scales, we have to normalize them.\n",
    "features = ['RAM_GB', 'storage_capacity_gb', 'battery_capicity_MAH','Processor']\n",
    "noc_normalized = normalize_data(features,smartphones)\n",
    "\n",
    "## now we can give weights to the fatures based on there importance and find feature score for every smartphone\n",
    "normalized_df['noc_feature_score'] = (\n",
    "    0.4 * noc_normalized['Processor']+\n",
    "    0.3 * noc_normalized['RAM_GB'] +\n",
    "    0.3 * noc_normalized['storage_capacity_gb']\n",
    ")\n",
    "normalized_df['noc_feature_score']\n",
    "\n",
    "## now lets find feature to price ratio(more score means for more features got in less money)\n",
    "smartphones['noc_feature_score'] = normalized_df['noc_feature_score']\n",
    "smartphones['noc_value_score'] = smartphones['noc_feature_score'] / smartphones['Price_INR']\n",
    "smartphones"
   ]
  },
  {
   "cell_type": "code",
   "execution_count": 45,
   "id": "6cf934bf",
   "metadata": {},
   "outputs": [],
   "source": [
    "# Removing null entries.\n",
    "smartphones=smartphones.dropna().reset_index(drop=True)"
   ]
  },
  {
   "cell_type": "code",
   "execution_count": 46,
   "id": "65c65404",
   "metadata": {},
   "outputs": [],
   "source": [
    "bins = [0.0, 0.000012, 0.000025, 0.00018]\n",
    "labels = ['Low Value for Money', 'Mid Value for Money', 'High Value for Money']\n",
    "\n",
    "smartphones['Value_Category'] = pd.cut(smartphones['value_score'], bins=bins, labels=labels, include_lowest=True)\n"
   ]
  },
  {
   "cell_type": "code",
   "execution_count": 47,
   "id": "5447c80a",
   "metadata": {
    "scrolled": false
   },
   "outputs": [
    {
     "data": {
      "image/png": "[encoded data removed]",
      "text/plain": [
       "<Figure size 864x432 with 1 Axes>"
      ]
     },
     "metadata": {},
     "output_type": "display_data"
    }
   ],
   "source": [
    "plt.figure(figsize=(12,6))\n",
    "sns.scatterplot(data=smartphones, x=smartphones['value_score'] * 1e3, y='Price_INR', hue='Budget_Category', palette='Set2')\n",
    "plt.title(\"Value Score vs Price (INR) by Budget Category\")\n",
    "plt.xlabel(\"Value Score (×1e5)\")\n",
    "plt.ylabel(\"Price (INR)\")\n",
    "plt.ylim(0, 250000)\n",
    "plt.legend(title='Budget Category')\n",
    "plt.grid(True)\n",
    "plt.show()\n"
   ]
  },
  {
   "cell_type": "markdown",
   "id": "cc20c851",
   "metadata": {},
   "source": [
    "<div style=\"border-radius:10px; padding: 15px; background-color: #ffeacc; font-size:120%; text-align:left\">\n",
    "    \n",
    "### **`Inference :`**\n",
    "\n",
    "**from above chart we can say that :**\n",
    "    \n",
    "- As prices decrerses value score is increasing.\n",
    "- It states that customers are getting more features in less value.\n",
    "- low and mid budget smartphones are more value for money.\n",
    "- High and luxury budget smartphones are providing less features for more money."
   ]
  },
  {
   "cell_type": "code",
   "execution_count": 78,
   "id": "b1ba073a",
   "metadata": {},
   "outputs": [
    {
     "data": {
      "image/png": "[encoded data removed]",
      "text/plain": [
       "<Figure size 1008x432 with 1 Axes>"
      ]
     },
     "metadata": {},
     "output_type": "display_data"
    }
   ],
   "source": [
    "# Group by Brand and Value_Category, then count smartphones\n",
    "brand_value_counts = smartphones.groupby(['Brand', 'Value_Category']).size().reset_index(name='Count')\n",
    "\n",
    "# Plot grouped bar chart\n",
    "plt.figure(figsize=(14, 6))\n",
    "sns.barplot(data=brand_value_counts, x='Brand', y='Count', hue='Value_Category', palette='Set2')\n",
    "\n",
    "plt.title('Smartphone Value Category Distribution by Brand')\n",
    "plt.xlabel('Brand')\n",
    "plt.ylabel('Number of Smartphones')\n",
    "plt.xticks(rotation=45)\n",
    "plt.legend(title='Value Category')\n",
    "plt.tight_layout()\n",
    "plt.show()"
   ]
  },
  {
   "cell_type": "markdown",
   "id": "b43ea8b2",
   "metadata": {},
   "source": [
    "<div style=\"border-radius:10px; padding: 15px; background-color: #ffeacc; font-size:120%; text-align:left\">\n",
    "    \n",
    "### **`Inference :`**\n",
    "\n",
    "**from above chart we can say that :**\n",
    "    \n",
    "- __Apple__ is low value for money brand.\n",
    "- __iqoo__ , __oneplus__, __oppo__ and __realme__ are midimum value for money brands.\n",
    "- __Xiaomi__ and __motorola__ are high value for money brands.\n",
    "- __Samsung__ and __vivo__ are the brands who have there best phones in every price range."
   ]
  },
  {
   "cell_type": "code",
   "execution_count": 63,
   "id": "27222ac1",
   "metadata": {},
   "outputs": [
    {
     "data": {
      "image/png": "[encoded data removed]",
      "text/plain": [
       "<Figure size 1152x432 with 1 Axes>"
      ]
     },
     "metadata": {},
     "output_type": "display_data"
    }
   ],
   "source": [
    "grouped = smartphones.groupby('Brand')[['value_score', 'noc_value_score']].mean().reset_index()\n",
    "\n",
    "grouped_melted = grouped.melt(id_vars='Brand', \n",
    "                              value_vars=['value_score', 'noc_value_score'],\n",
    "                              var_name='Score_Type', \n",
    "                              value_name='Score')\n",
    "\n",
    "grouped_melted['Score_Type'] = grouped_melted['Score_Type'].map({\n",
    "    'value_score': 'With Camera',\n",
    "    'noc_value_score': 'No Camera'\n",
    "})\n",
    "\n",
    "brand_order = grouped.set_index('Brand')[['value_score', 'noc_value_score']].mean(axis=1).sort_values(ascending=False).index\n",
    "grouped_melted['Brand'] = pd.Categorical(grouped_melted['Brand'], categories=brand_order, ordered=True)\n",
    "\n",
    "plt.figure(figsize=(16, 6))\n",
    "sns.barplot(data=grouped_melted, x='Brand', y='Score', hue='Score_Type', palette='Set2')\n",
    "\n",
    "plt.title('Average Value Score by Brand (With vs No Camera)', fontsize=16)\n",
    "plt.xlabel('Brand')\n",
    "plt.ylabel('Score')\n",
    "plt.xticks(rotation=45)\n",
    "plt.tight_layout()\n",
    "plt.show()\n"
   ]
  },
  {
   "cell_type": "code",
   "execution_count": 83,
   "id": "f3982608",
   "metadata": {},
   "outputs": [
    {
     "data": {
      "text/plain": [
       "<Axes: xlabel='Brand', ylabel='None'>"
      ]
     },
     "execution_count": 83,
     "metadata": {},
     "output_type": "execute_result"
    },
    {
     "data": {
      "image/png": "[encoded data removed]",
      "text/plain": [
       "<Figure size 720x360 with 1 Axes>"
      ]
     },
     "metadata": {},
     "output_type": "display_data"
    }
   ],
   "source": [
    "plt.figure(figsize=(10,5))\n",
    "sns.barplot(data=grouped, x='Brand', y=abs(grouped['noc_value_score']-grouped['value_score']))"
   ]
  },
  {
   "cell_type": "markdown",
   "id": "c2941601",
   "metadata": {},
   "source": [
    "<div style=\"border-radius:10px; padding: 15px; background-color: #ffeacc; font-size:120%; text-align:left\">\n",
    "    \n",
    "### **`Inference :`**\n",
    "\n",
    "**from above chart we can say that :**\n",
    "    \n",
    "- __Apple__ have the same price rather it has good camera or not.\n",
    "- __Xiaomi__ is brand whihc has camera quality dependent price ."
   ]
  },
  {
   "cell_type": "code",
   "execution_count": 95,
   "id": "c520b53c",
   "metadata": {
    "scrolled": true
   },
   "outputs": [
    {
     "data": {
      "text/plain": [
       "<Axes: xlabel='Brand', ylabel='None'>"
      ]
     },
     "execution_count": 95,
     "metadata": {},
     "output_type": "execute_result"
    },
    {
     "data": {
      "image/png": "[encoded data removed]",
      "text/plain": [
       "<Figure size 720x360 with 1 Axes>"
      ]
     },
     "metadata": {},
     "output_type": "display_data"
    }
   ],
   "source": [
    "## As all features have thier values in differnet scales, we have to normalize them.\n",
    "processor=smartphones\n",
    "p_normalized = normalize_data(['RAM_GB', 'storage_capacity_gb','Processor','camera_MP'],processor)\n",
    "noc_normalized = normalize_data(['RAM_GB', 'storage_capacity_gb', 'battery_capicity_MAH','camera_MP'],processor)\n",
    "## now we can give weights to the fatures based on there importance and find feature score for every smartphone\n",
    "processor['p_feature_score'] = (\n",
    "    0.4 * p_normalized['Processor']+\n",
    "    0.4 * p_normalized['camera_MP']+\n",
    "    0.3 * p_normalized['RAM_GB'] +\n",
    "    0.3 * p_normalized['storage_capacity_gb']\n",
    ")\n",
    "\n",
    "\n",
    "processor['nop_feature_score'] = (\n",
    "    0.4 * p_normalized['camera_MP']+\n",
    "    0.3 * p_normalized['RAM_GB'] +\n",
    "    0.3 * p_normalized['storage_capacity_gb']\n",
    ")\n",
    "\n",
    "processor['p_value_score'] = processor['p_feature_score']/processor['Price_INR']\n",
    "processor['nop_value_score'] = processor['nop_feature_score']/processor['Price_INR']\n",
    "\n",
    "plt.figure(figsize=(10,5))\n",
    "sns.barplot(data = processor, x='Brand', y=abs(processor['p_value_score']-processor['nop_value_score']))"
   ]
  },
  {
   "cell_type": "code",
   "execution_count": 117,
   "id": "2450f503",
   "metadata": {},
   "outputs": [
    {
     "data": {
      "text/plain": [
       "<Axes: xlabel='Brand', ylabel='None'>"
      ]
     },
     "execution_count": 117,
     "metadata": {},
     "output_type": "execute_result"
    },
    {
     "data": {
      "image/png": "[encoded data removed]",
      "text/plain": [
       "<Figure size 720x360 with 1 Axes>"
      ]
     },
     "metadata": {},
     "output_type": "display_data"
    }
   ],
   "source": [
    "## As all features have thier values in differnet scales, we have to normalize them.\n",
    "from sklearn.preprocessing import MinMaxScaler\n",
    "def normalize_data(features,dataset):\n",
    "    scaler = MinMaxScaler()\n",
    "    normalized = scaler.fit_transform(dataset[features])\n",
    "    normalized_df = pd.DataFrame(normalized,columns=features)\n",
    "    return normalized_df\n",
    "\n",
    "def cal_val(feature_scores,dataset):\n",
    "    value = []\n",
    "    for i in range(len(feature_scores)):\n",
    "        fea_val = 0\n",
    "        row = feature_scores.iloc[i,:]\n",
    "        for j in row :\n",
    "            fea_val = fea_val +j\n",
    "        val = fea_val/dataset['Price_INR']\n",
    "        value.append(val)\n",
    "    return value\n",
    "        \n",
    "\n",
    "def val_score_cal(dataset,features,feature):\n",
    "    p_normalized = normalize_data(features,dataset)\n",
    "    features.remove(feature)\n",
    "    a_normalized = normalize_data(features, dataset)\n",
    "    p_val = cal_val(p_normalized,dataset)\n",
    "    a_val = cal_val(a_normalized,dataset)\n",
    "    return a_val, p_val\n",
    "\n",
    "processor=smartphones\n",
    "processor\n",
    "features = ['RAM_GB', 'storage_capacity_gb','Processor','camera_MP']\n",
    "pa_value_score, pp_value_score = val_score_cal(processor,features,'Processor')\n",
    "processor['pa_value_score'] = pa_value_score\n",
    "processor['pp_valu_score'] = pp_value_score\n",
    "# p_normalized = normalize_data(['RAM_GB', 'storage_capacity_gb','Processor','camera_MP'],processor)\n",
    "# noc_normalized = normalize_data(['RAM_GB', 'storage_capacity_gb', 'battery_capicity_MAH','camera_MP'],processor)\n",
    "# ## now we can give weights to the fatures based on there importance and find feature score for every smartphone\n",
    "# processor['p_feature_score'] = (\n",
    "#     0.4 * p_normalized['Processor']+\n",
    "#     0.4 * p_normalized['camera_MP']+\n",
    "#     0.3 * p_normalized['RAM_GB'] +\n",
    "#     0.3 * p_normalized['storage_capacity_gb']\n",
    "# )\n",
    "\n",
    "\n",
    "# processor['nop_feature_score'] = (\n",
    "#     0.4 * p_normalized['camera_MP']+\n",
    "#     0.3 * p_normalized['RAM_GB'] +\n",
    "#     0.3 * p_normalized['storage_capacity_gb']\n",
    "# )\n",
    "\n",
    "# processor['p_value_score'] = processor['p_feature_score']/processor['Price_INR']\n",
    "# processor['nop_value_score'] = processor['nop_feature_score']/processor['Price_INR']\n",
    "\n",
    "plt.figure(figsize=(10,5))\n",
    "sns.barplot(data = processor, x='Brand', y=abs(processor['p_value_score']-processor['nop_value_score']))"
   ]
  },
  {
   "cell_type": "code",
   "execution_count": 106,
   "id": "05d564e9",
   "metadata": {},
   "outputs": [
    {
     "name": "stdout",
     "output_type": "stream",
     "text": [
      "0.8409994777648335\n"
     ]
    }
   ],
   "source": [
    "a = p_normalized.iloc[2,:]\n",
    "b=0\n",
    "for i in a:\n",
    "    b=b+i\n",
    "print(b)"
   ]
  },
  {
   "cell_type": "code",
   "execution_count": null,
   "id": "5a03af45",
   "metadata": {},
   "outputs": [],
   "source": [
    "## As all features have thier values in differnet scales, we have to normalize them.\n",
    "ram=smartphones\n",
    "p_normalized = normalize_data(['RAM_GB', 'storage_capacity_gb','Processor','camera_MP'],processor)\n",
    "a_normalized = normalize_data(['Processor', 'storage_capacity_gb', 'battery_capicity_MAH','camera_MP'],processor)\n",
    "## now we can give weights to the fatures based on there importance and find feature score for every smartphone\n",
    "processor['p_feature_score'] = (\n",
    "    0.4 * p_normalized['Processor']+\n",
    "    0.4 * p_normalized['camera_MP']+\n",
    "    0.3 * p_normalized['RAM_GB'] +\n",
    "    0.3 * p_normalized['storage_capacity_gb']\n",
    ")\n",
    "\n",
    "\n",
    "processor['nop_feature_score'] = (\n",
    "    0.4 * p_normalized['camera_MP']+\n",
    "    0.3 * p_normalized['RAM_GB'] +\n",
    "    0.3 * p_normalized['storage_capacity_gb']\n",
    ")\n",
    "\n",
    "processor['p_value_score'] = processor['p_feature_score']/processor['Price_INR']\n",
    "processor['nop_value_score'] = processor['nop_feature_score']/processor['Price_INR']\n",
    "\n",
    "plt.figure(figsize=(10,5))\n",
    "sns.barplot(data = processor, x='Brand', y=abs(processor['p_value_score']-processor['nop_value_score']))"
   ]
  },
  {
   "cell_type": "code",
   "execution_count": 98,
   "id": "047a4df5",
   "metadata": {},
   "outputs": [],
   "source": [
    "a=['RAM_GB', 'storage_capacity_gb','Processor','camera_MP']\n",
    "b=a.remove('RAM_GB')\n",
    "b"
   ]
  },
  {
   "cell_type": "markdown",
   "id": "8df1f9a4",
   "metadata": {},
   "source": [
    "<a id=\"popular_models\"></a>\n",
    "# <b><span style='color:#fcc36d'>Step 5.3 |</span><span style='color:#ff6200'> Popular Models in Mid-Range & Premium Segments</span></b>\n",
    "⬆️ [Table of Contents](#contents_table)\n"
   ]
  },
  {
   "cell_type": "code",
   "execution_count": 56,
   "id": "5d2b96ce",
   "metadata": {},
   "outputs": [],
   "source": [
    "top_10_mid=mid_budget_phones.sort_values(by='Rating',ascending=False)[['Name','Price_INR','Rating','Brand']].head(10).reset_index(drop=True)\n",
    "top_10_mid.index=top_10_mid.index+1"
   ]
  },
  {
   "cell_type": "code",
   "execution_count": 57,
   "id": "fc4626a7",
   "metadata": {},
   "outputs": [
    {
     "name": "stdout",
     "output_type": "stream",
     "text": [
      "+----+-------------------------------------------+-------------+----------+---------+\n",
      "|    | Name                                      |   Price_INR |   Rating | Brand   |\n",
      "+====+===========================================+=============+==========+=========+\n",
      "|  1 | Samsung Galaxy M55 (12GB RAM + 256GB)     |       24344 |     4.75 | samsung |\n",
      "+----+-------------------------------------------+-------------+----------+---------+\n",
      "|  2 | iQOO Z8x                                  |       19990 |     4.75 | iqoo    |\n",
      "+----+-------------------------------------------+-------------+----------+---------+\n",
      "|  3 | Realme Narzo 80 Pro 5G (12GB RAM + 256GB) |       23498 |     4.75 | realme  |\n",
      "+----+-------------------------------------------+-------------+----------+---------+\n",
      "|  4 | OPPO Reno 12 Pro 5G (12GB RAM + 512GB)    |       33990 |     4.75 | oppo    |\n",
      "+----+-------------------------------------------+-------------+----------+---------+\n",
      "|  5 | OPPO Reno 14 5G                           |       37998 |     4.75 | oppo    |\n",
      "+----+-------------------------------------------+-------------+----------+---------+\n",
      "|  6 | Oppo F29 Pro (8GB RAM + 256GB)            |       27999 |     4.75 | oppo    |\n",
      "+----+-------------------------------------------+-------------+----------+---------+\n",
      "|  7 | Xiaomi Redmi Note 12 Pro 5G               |       16799 |     4.75 | xiaomi  |\n",
      "+----+-------------------------------------------+-------------+----------+---------+\n",
      "|  8 | Realme 15x 5G                             |       16990 |     4.75 | realme  |\n",
      "+----+-------------------------------------------+-------------+----------+---------+\n",
      "|  9 | OnePlus Nord 5 5G                         |       31999 |     4.75 | oneplus |\n",
      "+----+-------------------------------------------+-------------+----------+---------+\n",
      "| 10 | Vivo V29                                  |       28990 |     4.75 | vivo    |\n",
      "+----+-------------------------------------------+-------------+----------+---------+\n"
     ]
    }
   ],
   "source": [
    "\n",
    "\n",
    "print(tabulate(top_10_mid, headers='keys', tablefmt='grid'))"
   ]
  },
  {
   "cell_type": "code",
   "execution_count": 58,
   "id": "a6f4b55f",
   "metadata": {},
   "outputs": [],
   "source": [
    "# consider luxury phones as preminum phones\n",
    "top_10_premium = luxury_phones.sort_values(by='Rating',ascending=False)[['Name','Price_INR','Rating','Brand']].head(10).reset_index(drop=True)\n",
    "top_10_premium.index = top_10_premium.index+1"
   ]
  },
  {
   "cell_type": "code",
   "execution_count": 59,
   "id": "ce932d81",
   "metadata": {},
   "outputs": [
    {
     "name": "stdout",
     "output_type": "stream",
     "text": [
      "+----+---------------------------------------------+-------------+----------+---------+\n",
      "|    | Name                                        |   Price_INR |   Rating | Brand   |\n",
      "+====+=============================================+=============+==========+=========+\n",
      "|  1 | Apple iPhone 15 Pro (1TB)                   |      161649 |     4.75 | apple   |\n",
      "+----+---------------------------------------------+-------------+----------+---------+\n",
      "|  2 | Oppo Find X8 Pro 5G                         |       84999 |     4.75 | oppo    |\n",
      "+----+---------------------------------------------+-------------+----------+---------+\n",
      "|  3 | Apple iPhone 15 Plus (256GB)                |       82900 |     4.75 | apple   |\n",
      "+----+---------------------------------------------+-------------+----------+---------+\n",
      "|  4 | Xiaomi 15 Ultra                             |      109999 |     4.7  | xiaomi  |\n",
      "+----+---------------------------------------------+-------------+----------+---------+\n",
      "|  5 | Apple iPhone 13 Pro Max (1TB)               |      157900 |     4.7  | apple   |\n",
      "+----+---------------------------------------------+-------------+----------+---------+\n",
      "|  6 | Apple iPhone 15 Plus (512GB)                |      104900 |     4.7  | apple   |\n",
      "+----+---------------------------------------------+-------------+----------+---------+\n",
      "|  7 | Vivo X100 Pro 5G                            |       89899 |     4.65 | vivo    |\n",
      "+----+---------------------------------------------+-------------+----------+---------+\n",
      "|  8 | Apple iPhone 13 Pro (1TB)                   |      144999 |     4.65 | apple   |\n",
      "+----+---------------------------------------------+-------------+----------+---------+\n",
      "|  9 | Samsung Galaxy S25 Ultra (12GB RAM + 512GB) |      124999 |     4.65 | samsung |\n",
      "+----+---------------------------------------------+-------------+----------+---------+\n",
      "| 10 | Apple iPhone 15 Pro Max (512GB)             |      154900 |     4.6  | apple   |\n",
      "+----+---------------------------------------------+-------------+----------+---------+\n"
     ]
    }
   ],
   "source": [
    "print(tabulate(top_10_premium, headers='keys', tablefmt='grid'))"
   ]
  },
  {
   "cell_type": "markdown",
   "id": "a868e6f9",
   "metadata": {},
   "source": [
    "<a id=\"review_impact\"></a>\n",
    "# <b><span style='color:#fcc36d'>Step 5.4 |</span><span style='color:#ff6200'> Review Score Impact on Pricing</span></b>\n",
    "⬆️ [Table of Contents](#contents_table)\n"
   ]
  },
  {
   "cell_type": "code",
   "execution_count": 60,
   "id": "43ab0065",
   "metadata": {},
   "outputs": [
    {
     "data": {
      "image/png": "[encoded data removed]",
      "text/plain": [
       "<Figure size 864x432 with 1 Axes>"
      ]
     },
     "metadata": {},
     "output_type": "display_data"
    }
   ],
   "source": [
    "plt.figure(figsize=(12, 6))  # Set larger figure size\n",
    "\n",
    "sns.scatterplot(\n",
    "    data=smartphones,\n",
    "    x='Price_INR',\n",
    "    y='Rating'\n",
    ")\n",
    "\n",
    "plt.title('Smartphone Price vs. Rating', fontsize=16)\n",
    "plt.xlabel('Price (INR)', fontsize=14)\n",
    "plt.ylabel('Rating', fontsize=14)\n",
    "plt.xticks(fontsize=12)\n",
    "plt.yticks(fontsize=12)\n",
    "plt.tight_layout()\n",
    "plt.show()\n"
   ]
  },
  {
   "cell_type": "code",
   "execution_count": 64,
   "id": "412af4c7",
   "metadata": {},
   "outputs": [
    {
     "data": {
      "image/png": "[encoded data removed]",
      "text/plain": [
       "<Figure size 864x432 with 1 Axes>"
      ]
     },
     "metadata": {},
     "output_type": "display_data"
    }
   ],
   "source": [
    "#from above plot we can see that there is only one phone higherthan 200000 price and that datapoint is disturbing the plot se we are going to remove it\n",
    "filtered_data = smartphones[smartphones['Price_INR']<200000]\n",
    "plt.figure(figsize=(12, 6))  # Set larger figure size\n",
    "\n",
    "sns.scatterplot(\n",
    "    data=filtered_data,\n",
    "    x='Price_INR',\n",
    "    y='Rating'\n",
    ")\n",
    "\n",
    "plt.title('Smartphone Price vs. Rating', fontsize=16)\n",
    "plt.xlabel('Price (INR)', fontsize=14)\n",
    "plt.ylabel('Rating', fontsize=14)\n",
    "plt.xticks(fontsize=12)\n",
    "plt.yticks(fontsize=12)\n",
    "plt.tight_layout()\n",
    "plt.show()"
   ]
  },
  {
   "cell_type": "markdown",
   "id": "028cb74d",
   "metadata": {
    "papermill": {
     "duration": 0.069178,
     "end_time": "2023-09-13T18:56:07.840934",
     "exception": false,
     "start_time": "2023-09-13T18:56:07.771756",
     "status": "completed"
    },
    "tags": []
   },
   "source": [
    "<div style=\"border-radius:10px; padding: 15px; background-color: #ffeacc; font-size:120%; text-align:left\">\n",
    "\n",
    "- The scatter plot shows no strong correlation between smartphone price and user ratings\n",
    "\n",
    "\n",
    "- Many mid-range smartphones (₹10,000 – ₹40,000) consistently have high ratings, suggesting that:\n",
    "\n",
    "  - Customers highly value feature-rich, affordable phones — this reflects a preference for value-for-money devices.\n",
    "\n",
    "\n",
    "-  Some high-priced smartphones also get high ratings, but not proportionately higher, which implies diminishing returns on customer satisfaction as price increases."
   ]
  },
  {
   "cell_type": "markdown",
   "id": "90ad83f9",
   "metadata": {},
   "source": [
    "<a id=\"insights\"></a>\n",
    "# <p style=\"background-color: #ff6200; font-family:calibri; color:white; font-size:140%; font-family:Verdana; text-align:center; border-radius:15px 50px;\">Step 6 | Key Insights & Recommendations</p>\n",
    "⬆️ [Tabel of Contents](#contents_tabel)"
   ]
  },
  {
   "cell_type": "markdown",
   "id": "16a1388e",
   "metadata": {
    "papermill": {
     "duration": 0.070961,
     "end_time": "2023-09-13T18:56:08.782642",
     "exception": false,
     "start_time": "2023-09-13T18:56:08.711681",
     "status": "completed"
    },
    "tags": []
   },
   "source": [
    "<div style=\"border-radius:10px; padding: 15px; background-color: #ffeacc; font-size:120%; text-align:left\">\n",
    "    \n",
    "After applying the Isolation Forest algorithm, we have identified the outliers and marked them in a new column named `Is_Outlier`. We have also calculated the outlier scores which represent the anomaly score of each record. \n",
    "\n",
    "Now let's visualize the distribution of these scores and the number of inliers and outliers detected by the model:"
   ]
  },
  {
   "cell_type": "markdown",
   "id": "0a076661",
   "metadata": {
    "papermill": {
     "duration": 0.072984,
     "end_time": "2023-09-13T18:56:09.779213",
     "exception": false,
     "start_time": "2023-09-13T18:56:09.706229",
     "status": "completed"
    },
    "tags": []
   },
   "source": [
    "<div style=\"border-radius:10px; padding: 15px; background-color: #ffeacc; font-size:120%; text-align:left\">\n",
    "<h3 align=\"left\"><font color=#ff6200>Strategy: </font></h3>\n",
    "\n",
    "Considering the nature of the project (customer segmentation using clustering), it is crucial to handle these outliers to prevent them from affecting the clusters' quality significantly. Therefore, I will separate these outliers for further analysis and remove them from our main dataset to prepare it for the clustering analysis. \n",
    "\n",
    "Let's proceed with the following steps:\n",
    "\n",
    "- Separate the identified outliers for further analysis and save them as a separate file (optional).\n",
    "- Remove the outliers from the main dataset to prevent them from influencing the clustering process.\n",
    "- Drop the `Outlier_Scores` and `Is_Outlier` columns as they were auxiliary columns used for the outlier detection process.\n",
    "\n",
    "Let's implement these steps:"
   ]
  },
  {
   "cell_type": "markdown",
   "id": "1a030cce",
   "metadata": {
    "papermill": {
     "duration": 0.071319,
     "end_time": "2023-09-13T18:56:10.088406",
     "exception": false,
     "start_time": "2023-09-13T18:56:10.017087",
     "status": "completed"
    },
    "tags": []
   },
   "source": [
    "<div style=\"border-radius:10px; padding: 15px; background-color: #ffeacc; font-size:120%; text-align:left\">\n",
    "    \n",
    "We have successfully separated the outliers for further analysis and cleaned our main dataset by removing these outliers. This cleaned dataset is now ready for the next steps in our customer segmentation project, which includes scaling the features and applying clustering algorithms to identify distinct customer segments."
   ]
  },
  {
   "cell_type": "markdown",
   "id": "b44044e0",
   "metadata": {},
   "source": [
    "<a id=\"findings\"></a>\n",
    "# <b><span style='color:#fcc36d'>Step 6.1 |</span><span style='color:#ff6200'> Summary of Findings</span></b>\n",
    "⬆️ [Table of Contents](#contents_table)\n"
   ]
  },
  {
   "cell_type": "markdown",
   "id": "24874c5b",
   "metadata": {
    "papermill": {
     "duration": 0.08209,
     "end_time": "2023-09-13T18:56:14.914553",
     "exception": false,
     "start_time": "2023-09-13T18:56:14.832463",
     "status": "completed"
    },
    "tags": []
   },
   "source": [
    "<div style=\"border-radius:10px; padding: 15px; background-color: #ffeacc; font-size:120%; text-align:left\">\n",
    "<h3 align=\"left\"><font color=#ff6200>Conclusion </font></h3>\n",
    "    \n",
    "The plot and the cumulative explained variance values indicate how much of the total variance in the dataset is captured by each principal component, as well as the cumulative variance explained by the first n components.\n",
    "\n",
    "Here, we can observe that:\n",
    "\n",
    "- The first component explains approximately 28% of the variance.\n",
    "\n",
    "- The first two components together explain about 49% of the variance.\n",
    "\n",
    "- The first three components explain approximately 61% of the variance, and so on.\n",
    "\n",
    "    \n",
    "To choose the optimal number of components, we generally look for a point where adding another component doesn't significantly increase the cumulative explained variance, often referred to as the \"__elbow point__\" in the curve.\n",
    "\n",
    "From the plot, we can see that the increase in cumulative variance starts to slow down after the __6th component__ (which __captures about 81% of the total variance__).\n",
    "\n",
    "Considering the context of customer segmentation, we want to retain a sufficient amount of information to identify distinct customer groups effectively. Therefore, retaining __the first 6 components__ might be a balanced choice, as they together explain a substantial portion of the total variance while reducing the dimensionality of the dataset."
   ]
  },
  {
   "cell_type": "markdown",
   "id": "f9fc3a9c",
   "metadata": {},
   "source": [
    "<a id=\"buyer_guidance\"></a>\n",
    "# <b><span style='color:#fcc36d'>Step 6.2 |</span><span style='color:#ff6200'> Buyer Guidance by Price Segment</span></b>\n",
    "⬆️ [Table of Contents](#contents_table)\n"
   ]
  },
  {
   "cell_type": "markdown",
   "id": "9aa9c2cf",
   "metadata": {
    "papermill": {
     "duration": 0.071934,
     "end_time": "2023-09-13T18:56:10.533432",
     "exception": false,
     "start_time": "2023-09-13T18:56:10.461498",
     "status": "completed"
    },
    "tags": []
   },
   "source": [
    "<div style=\"border-radius:10px; padding: 15px; background-color: #ffeacc; font-size:120%; text-align:left\">\n",
    "\n",
    "Before we proceed to KMeans clustering, it's essential to check the correlation between features in our dataset. The presence of __multicollinearity__, where __features are highly correlated__, can potentially affect the clustering process by not allowing the model to learn the actual underlying patterns in the data, as the features do not provide unique information. This could lead to clusters that are not well-separated and meaningful.\n",
    "\n",
    "If we identify multicollinearity, we can utilize dimensionality reduction techniques like PCA. These techniques help in neutralizing the effect of multicollinearity by transforming the correlated features into a new set of uncorrelated variables, preserving most of the original data's variance. This step not only enhances the quality of clusters formed but also makes the clustering process more computationally efficient."
   ]
  },
  {
   "cell_type": "markdown",
   "id": "b1b1e8c2",
   "metadata": {
    "papermill": {
     "duration": 0.172403,
     "end_time": "2023-09-13T18:57:56.480300",
     "exception": false,
     "start_time": "2023-09-13T18:57:56.307897",
     "status": "completed"
    },
    "tags": []
   },
   "source": [
    "<img src=\"https://github.com/FarzadNekouee/Retail_Customer_Segmentation_Recommendation_System/blob/master/profiles.png?raw=true\" width=\"2400\">"
   ]
  }
 ],
 "metadata": {
  "kernelspec": {
   "display_name": "Python 3 (ipykernel)",
   "language": "python",
   "name": "python3"
  },
  "language_info": {
   "codemirror_mode": {
    "name": "ipython",
    "version": 3
   },
   "file_extension": ".py",
   "mimetype": "text/x-python",
   "name": "python",
   "nbconvert_exporter": "python",
   "pygments_lexer": "ipython3",
   "version": "3.9.7"
  },
  "papermill": {
   "default_parameters": {},
   "duration": 168.09806,
   "end_time": "2023-09-13T18:58:13.013821",
   "environment_variables": {},
   "exception": null,
   "input_path": "__notebook__.ipynb",
   "output_path": "__notebook__.ipynb",
   "parameters": {},
   "start_time": "2023-09-13T18:55:24.915761",
   "version": "2.4.0"
  }
 },
 "nbformat": 4,
 "nbformat_minor": 5
}
