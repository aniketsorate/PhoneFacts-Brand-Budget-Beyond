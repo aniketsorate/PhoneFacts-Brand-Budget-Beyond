{
 "cells": [
  {
   "cell_type": "markdown",
   "id": "17e1cbb3",
   "metadata": {},
   "source": [
    "<img src=\"https://c1.wallpaperflare.com/preview/241/624/958/paper-business-document-office.jpg\" width=\"2400\" >"
   ]
  },
  {
   "cell_type": "markdown",
   "id": "dcf5ddde",
   "metadata": {},
   "source": [
    "<div style=\"border-radius:10px; padding: 15px; background-color: #e6f3ff; font-size:130%; text-align:left\"> <h2 align=\"left\"><font color=#0073e6>Problem:</font></h2>\n",
    "In this project, we explore the dynamic landscape of the smartphone market in India by analyzing a comprehensive dataset scraped from Smartprix, a popular online smartphone comparison platform. Our primary objective is to uncover meaningful insights into how different factors such as brand reputation, price range, technical features, and user ratings influence consumer preferences and market trends."
   ]
  },
  {
   "cell_type": "markdown",
   "id": "a7b90840",
   "metadata": {},
   "source": [
    "<div style=\"border-radius:10px; padding: 15px; background-color: #e6f3ff; font-size:130%; text-align:left\"> <h2 align=\"left\"><font color=#0073e6>Objectives:</font></h2>\n",
    "    \n",
    "- **Brand vs Price Trend Analysis:** Analyze average smartphone prices across different brands to identify pricing strategies and brand positioning in the Indian market.\n",
    "\n",
    "    \n",
    "- **Feature-Rich Value Evaluation:** Investigate the correlation between technical specifications and price to highlight brands that offer the best value-for-money phones.\n",
    "\n",
    "    \n",
    "- **Mid-Range vs Premium Popularity:** Identify and present the most popular models in mid-range and premium price segments, helping understand consumer buying trends.\n",
    "\n",
    "    \n",
    "- **Review-Score Impact Assessment:** Examine whether user ratings have a significant influence on smartphone pricing, using visual and statistical analysis to derive meaningful insights."
   ]
  },
  {
   "cell_type": "markdown",
   "id": "d51a8b1b",
   "metadata": {},
   "source": [
    "<a id=\"contents_table\"></a>    \n",
    "<div style=\"border-radius:10px; padding: 15px; background-color: #ffeacc; font-size:130%; text-align:left\">\n",
    "\n",
    "<h2 align=\"left\"><font color=#ff6200>Table of Contents:</font></h2>\n",
    "\n",
    "* [Step 1 | Setup and Initialization](#setup)\n",
    "    - [Step 1.1 | Importing Required Libraries](#libraries) \n",
    "\n",
    "* [Step 2 | Initial Data Analysis](#initial_analysis)\n",
    "    - [Step 2.1 | Dataset Overview](#overview)\n",
    "    - [Step 2.2 | Summary Statistics](#summary_stats)\n",
    "\n",
    "* [Step 3 | Data Cleaning & Transformation](#cleaning)\n",
    "    - [Step 3.1 | Handling Missing Values](#missing_values)\n",
    "    - [Step 3.2 | Removing Duplicates](#duplicates)\n",
    "    - [Step 3.3 | Cleaning Price Column](#price_cleaning)\n",
    "    - [Step 3.4 | Unifying Brand Names](#brand_names)\n",
    "    - [Step 3.5 | Parsing Specifications](#parse_specs)\n",
    "    - [Step 3.6 | Extracting Key Features (RAM, Battery, etc.)](#extract_features)\n",
    "    - [Step 3.7 | Final Dataset Overview](#final_overview)\n",
    "\n",
    "* [Step 4 | Exploratory Data Analysis (EDA)](#eda)\n",
    "    - [Step 4.1 | Dataset Shape and Summary](#eda_summary)\n",
    "    - [Step 4.2 | Top Smartphone Brands](#top_brands)\n",
    "    - [Step 4.3 | Price Distribution](#price_dist)\n",
    "    - [Step 4.4 | Rating Distribution](#rating_dist)\n",
    "    - [Step 4.5 | RAM & Storage Variants](#ram_storage)\n",
    "    - [Step 4.6 | Feature Presence Analysis](#feature_presence)\n",
    "\n",
    "* [Step 5 | Business Problem Statements](#problem_statements)\n",
    "    - [Step 5.1 | Brand vs Price Trends](#brand_price)  \n",
    "        - Bar Plot of Average Price per Brand\n",
    "    - [Step 5.2 | Feature-rich Value vs Price](#feature_price)  \n",
    "        - Bar Plot Comparing Specs with Price\n",
    "    - [Step 5.3 | Popular Models in Mid-Range & Premium Segments](#popular_models)  \n",
    "        - Tabulated Display of Models\n",
    "    - [Step 5.4 | Review Score Impact on Pricing](#review_impact)  \n",
    "        - Scatter Plot of Ratings vs Price\n",
    "\n",
    "* [Step 6 | Key Insights & Recommendations](#insights)\n",
    "    - [Step 6.1 | Summary of Findings](#findings)\n",
    "    - [Step 6.2 | Buyer Guidance by Price Segment](#buyer_guidance)\n",
    "    - [Step 6.3 | Market Strategy Suggestions](#market_strategy)\n",
    "\n",
    "</div>\n"
   ]
  },
  {
   "cell_type": "code",
   "execution_count": 5,
   "id": "43597737",
   "metadata": {},
   "outputs": [],
   "source": [
    "import warnings\n",
    "warnings.filterwarnings('ignore')\n",
    "import pandas as pd\n",
    "import seaborn as sns \n",
    "import matplotlib.pyplot as plt"
   ]
  },
  {
   "cell_type": "code",
   "execution_count": 1,
   "id": "6c2c8774",
   "metadata": {},
   "outputs": [
    {
     "ename": "NameError",
     "evalue": "name 'pd' is not defined",
     "output_type": "error",
     "traceback": [
      "\u001b[1;31m---------------------------------------------------------------------------\u001b[0m",
      "\u001b[1;31mNameError\u001b[0m                                 Traceback (most recent call last)",
      "\u001b[1;32m~\\AppData\\Local\\Temp/ipykernel_6912/2462335418.py\u001b[0m in \u001b[0;36m<module>\u001b[1;34m\u001b[0m\n\u001b[1;32m----> 1\u001b[1;33m \u001b[0msmartphones\u001b[0m \u001b[1;33m=\u001b[0m \u001b[0mpd\u001b[0m\u001b[1;33m.\u001b[0m\u001b[0mread_csv\u001b[0m\u001b[1;33m(\u001b[0m\u001b[1;34m'Dataset\\\\recleaned_Smartphones_Data.csv'\u001b[0m\u001b[1;33m)\u001b[0m\u001b[1;33m\u001b[0m\u001b[1;33m\u001b[0m\u001b[0m\n\u001b[0m\u001b[0;32m      2\u001b[0m \u001b[0msmartphones\u001b[0m\u001b[1;33m\u001b[0m\u001b[1;33m\u001b[0m\u001b[0m\n",
      "\u001b[1;31mNameError\u001b[0m: name 'pd' is not defined"
     ]
    }
   ],
   "source": [
    "smartphones = pd.read_csv('Dataset\\\\recleaned_Smartphones_Data.csv')\n",
    "smartphones"
   ]
  },
  {
   "cell_type": "code",
   "execution_count": 99,
   "id": "9369c566",
   "metadata": {},
   "outputs": [
    {
     "name": "stdout",
     "output_type": "stream",
     "text": [
      "<class 'pandas.core.frame.DataFrame'>\n",
      "RangeIndex: 882 entries, 0 to 881\n",
      "Data columns (total 10 columns):\n",
      " #   Column                Non-Null Count  Dtype  \n",
      "---  ------                --------------  -----  \n",
      " 0   Name                  882 non-null    object \n",
      " 1   Price_INR             882 non-null    int64  \n",
      " 2   Rating                882 non-null    float64\n",
      " 3   network_type          882 non-null    object \n",
      " 4   Processor             882 non-null    int64  \n",
      " 5   battery_capicity_MAH  882 non-null    int64  \n",
      " 6   display_size_INCH     882 non-null    float64\n",
      " 7   Brand                 882 non-null    object \n",
      " 8   RAM_GB                882 non-null    int64  \n",
      " 9   storage_capacity_gb   882 non-null    int64  \n",
      "dtypes: float64(2), int64(5), object(3)\n",
      "memory usage: 69.0+ KB\n"
     ]
    }
   ],
   "source": [
    "smartphones.info()"
   ]
  },
  {
   "cell_type": "markdown",
   "id": "3f133d80",
   "metadata": {},
   "source": [
    "## Brand vs Price trends"
   ]
  },
  {
   "cell_type": "code",
   "execution_count": 100,
   "id": "1502a4bd",
   "metadata": {},
   "outputs": [
    {
     "data": {
      "text/plain": [
       "Brand\n",
       "apple       94761.02\n",
       "iqoo        29855.93\n",
       "motorola    26218.19\n",
       "oneplus     39836.25\n",
       "oppo        27956.94\n",
       "realme      21149.58\n",
       "samsung     40406.24\n",
       "vivo        33755.08\n",
       "xiaomi      31077.79\n",
       "Name: Price_INR, dtype: float64"
      ]
     },
     "execution_count": 100,
     "metadata": {},
     "output_type": "execute_result"
    }
   ],
   "source": [
    "brandwise_average_price = smartphones.groupby('Brand')['Price_INR'].mean().round(2)\n",
    "brandwise_average_price"
   ]
  },
  {
   "cell_type": "code",
   "execution_count": 101,
   "id": "f256b058",
   "metadata": {},
   "outputs": [
    {
     "data": {
      "text/plain": [
       "Text(0, 0.5, 'PRICE_INR')"
      ]
     },
     "execution_count": 101,
     "metadata": {},
     "output_type": "execute_result"
    },
    {
     "data": {
      "image/png": "[encoded data removed]",
      "text/plain": [
       "<Figure size 720x360 with 1 Axes>"
      ]
     },
     "metadata": {
      "needs_background": "light"
     },
     "output_type": "display_data"
    }
   ],
   "source": [
    "plt.figure(figsize=(10, 5))\n",
    "sns.barplot(brandwise_average_price)\n",
    "plt.title(\"BRANDWISE AVERAGE PRICE OF SMARTPHONES\", color='red',pad=20)\n",
    "plt.xlabel('BRAND',color='red',labelpad=20)\n",
    "plt.ylabel('PRICE_INR',color='red',labelpad=20)"
   ]
  },
  {
   "cell_type": "markdown",
   "id": "78643c71",
   "metadata": {},
   "source": [
    "### **`Inference :`**\n",
    "\n",
    "- Apple has the highest average price among all smartphone brands, with an average price of around ₹95,276 per phone.\n",
    "\n",
    "- Samsung has the second-highest average price, approximately ₹44,539 per phone.\n",
    "\n",
    "- Realme has the lowest average price among all brands, around ₹22,159 per phone."
   ]
  },
  {
   "cell_type": "markdown",
   "id": "f2ed61e4",
   "metadata": {},
   "source": [
    "## Feature-rich value vs price"
   ]
  },
  {
   "cell_type": "markdown",
   "id": "873d508d",
   "metadata": {},
   "source": [
    "`Let's first defien the fetures to cosider phone having them as feature rich`\n",
    "  - Processor\n",
    "  - RAM size\n",
    "  - Storage Capacity\n",
    "  - battery capacity\n",
    "  - Display size"
   ]
  },
  {
   "cell_type": "code",
   "execution_count": 102,
   "id": "ea721be5",
   "metadata": {},
   "outputs": [
    {
     "data": {
      "text/html": [
       "<div>\n",
       "<style scoped>\n",
       "    .dataframe tbody tr th:only-of-type {\n",
       "        vertical-align: middle;\n",
       "    }\n",
       "\n",
       "    .dataframe tbody tr th {\n",
       "        vertical-align: top;\n",
       "    }\n",
       "\n",
       "    .dataframe thead th {\n",
       "        text-align: right;\n",
       "    }\n",
       "</style>\n",
       "<table border=\"1\" class=\"dataframe\">\n",
       "  <thead>\n",
       "    <tr style=\"text-align: right;\">\n",
       "      <th></th>\n",
       "      <th>RAM_GB</th>\n",
       "      <th>storage_capacity_gb</th>\n",
       "      <th>battery_capicity_MAH</th>\n",
       "      <th>display_size_INCH</th>\n",
       "      <th>Processor</th>\n",
       "    </tr>\n",
       "  </thead>\n",
       "  <tbody>\n",
       "    <tr>\n",
       "      <th>0</th>\n",
       "      <td>0.272727</td>\n",
       "      <td>0.096774</td>\n",
       "      <td>0.291019</td>\n",
       "      <td>0.341463</td>\n",
       "      <td>0.111111</td>\n",
       "    </tr>\n",
       "    <tr>\n",
       "      <th>1</th>\n",
       "      <td>0.181818</td>\n",
       "      <td>0.096774</td>\n",
       "      <td>0.255561</td>\n",
       "      <td>0.341463</td>\n",
       "      <td>0.222222</td>\n",
       "    </tr>\n",
       "    <tr>\n",
       "      <th>2</th>\n",
       "      <td>0.272727</td>\n",
       "      <td>0.225806</td>\n",
       "      <td>0.479010</td>\n",
       "      <td>0.536585</td>\n",
       "      <td>0.000000</td>\n",
       "    </tr>\n",
       "    <tr>\n",
       "      <th>3</th>\n",
       "      <td>0.090909</td>\n",
       "      <td>0.096774</td>\n",
       "      <td>0.237331</td>\n",
       "      <td>0.341463</td>\n",
       "      <td>0.333333</td>\n",
       "    </tr>\n",
       "    <tr>\n",
       "      <th>4</th>\n",
       "      <td>0.272727</td>\n",
       "      <td>0.096774</td>\n",
       "      <td>0.294531</td>\n",
       "      <td>0.390244</td>\n",
       "      <td>0.000000</td>\n",
       "    </tr>\n",
       "    <tr>\n",
       "      <th>...</th>\n",
       "      <td>...</td>\n",
       "      <td>...</td>\n",
       "      <td>...</td>\n",
       "      <td>...</td>\n",
       "      <td>...</td>\n",
       "    </tr>\n",
       "    <tr>\n",
       "      <th>877</th>\n",
       "      <td>0.000000</td>\n",
       "      <td>0.000000</td>\n",
       "      <td>0.531694</td>\n",
       "      <td>0.446341</td>\n",
       "      <td>0.888889</td>\n",
       "    </tr>\n",
       "    <tr>\n",
       "      <th>878</th>\n",
       "      <td>0.181818</td>\n",
       "      <td>0.096774</td>\n",
       "      <td>0.364442</td>\n",
       "      <td>0.390244</td>\n",
       "      <td>0.777778</td>\n",
       "    </tr>\n",
       "    <tr>\n",
       "      <th>879</th>\n",
       "      <td>0.090909</td>\n",
       "      <td>0.032258</td>\n",
       "      <td>0.364442</td>\n",
       "      <td>0.390244</td>\n",
       "      <td>0.666667</td>\n",
       "    </tr>\n",
       "    <tr>\n",
       "      <th>880</th>\n",
       "      <td>0.454545</td>\n",
       "      <td>0.483871</td>\n",
       "      <td>0.698946</td>\n",
       "      <td>0.480488</td>\n",
       "      <td>0.111111</td>\n",
       "    </tr>\n",
       "    <tr>\n",
       "      <th>881</th>\n",
       "      <td>0.090909</td>\n",
       "      <td>0.096774</td>\n",
       "      <td>0.698946</td>\n",
       "      <td>0.536585</td>\n",
       "      <td>0.777778</td>\n",
       "    </tr>\n",
       "  </tbody>\n",
       "</table>\n",
       "<p>882 rows × 5 columns</p>\n",
       "</div>"
      ],
      "text/plain": [
       "       RAM_GB  storage_capacity_gb  battery_capicity_MAH  display_size_INCH  \\\n",
       "0    0.272727             0.096774              0.291019           0.341463   \n",
       "1    0.181818             0.096774              0.255561           0.341463   \n",
       "2    0.272727             0.225806              0.479010           0.536585   \n",
       "3    0.090909             0.096774              0.237331           0.341463   \n",
       "4    0.272727             0.096774              0.294531           0.390244   \n",
       "..        ...                  ...                   ...                ...   \n",
       "877  0.000000             0.000000              0.531694           0.446341   \n",
       "878  0.181818             0.096774              0.364442           0.390244   \n",
       "879  0.090909             0.032258              0.364442           0.390244   \n",
       "880  0.454545             0.483871              0.698946           0.480488   \n",
       "881  0.090909             0.096774              0.698946           0.536585   \n",
       "\n",
       "     Processor  \n",
       "0     0.111111  \n",
       "1     0.222222  \n",
       "2     0.000000  \n",
       "3     0.333333  \n",
       "4     0.000000  \n",
       "..         ...  \n",
       "877   0.888889  \n",
       "878   0.777778  \n",
       "879   0.666667  \n",
       "880   0.111111  \n",
       "881   0.777778  \n",
       "\n",
       "[882 rows x 5 columns]"
      ]
     },
     "execution_count": 102,
     "metadata": {},
     "output_type": "execute_result"
    }
   ],
   "source": [
    "## As all features have thier values in differnet scales, we have to normalize them.\n",
    "\n",
    "from sklearn.preprocessing import MinMaxScaler\n",
    "features = ['RAM_GB', 'storage_capacity_gb', 'battery_capicity_MAH', 'display_size_INCH','Processor']\n",
    "scaler = MinMaxScaler()\n",
    "normalized = scaler.fit_transform(smartphones[features])\n",
    "normalized_df = pd.DataFrame(normalized, columns=features)\n",
    "normalized_df"
   ]
  },
  {
   "cell_type": "code",
   "execution_count": 103,
   "id": "7cb93716",
   "metadata": {},
   "outputs": [
    {
     "data": {
      "text/plain": [
       "0      0.281791\n",
       "1      0.291872\n",
       "2      0.352679\n",
       "3      0.305397\n",
       "4      0.247805\n",
       "         ...   \n",
       "877    0.551163\n",
       "878    0.545626\n",
       "879    0.454554\n",
       "880    0.561856\n",
       "881    0.614522\n",
       "Name: feature_score, Length: 882, dtype: float64"
      ]
     },
     "execution_count": 103,
     "metadata": {},
     "output_type": "execute_result"
    }
   ],
   "source": [
    "## now we can give weights to the fatures based on there importance and find feature score for every smartphone\n",
    "normalized_df['feature_score'] = (\n",
    "    0.4 * normalized_df['Processor']+\n",
    "    0.3 * normalized_df['RAM_GB'] +\n",
    "    0.3 * normalized_df['storage_capacity_gb'] +\n",
    "    0.2 * normalized_df['battery_capicity_MAH'] +\n",
    "    0.2 * normalized_df['display_size_INCH']\n",
    ")\n",
    "normalized_df['feature_score']"
   ]
  },
  {
   "cell_type": "code",
   "execution_count": 104,
   "id": "7818b942",
   "metadata": {},
   "outputs": [
    {
     "data": {
      "text/html": [
       "<div>\n",
       "<style scoped>\n",
       "    .dataframe tbody tr th:only-of-type {\n",
       "        vertical-align: middle;\n",
       "    }\n",
       "\n",
       "    .dataframe tbody tr th {\n",
       "        vertical-align: top;\n",
       "    }\n",
       "\n",
       "    .dataframe thead th {\n",
       "        text-align: right;\n",
       "    }\n",
       "</style>\n",
       "<table border=\"1\" class=\"dataframe\">\n",
       "  <thead>\n",
       "    <tr style=\"text-align: right;\">\n",
       "      <th></th>\n",
       "      <th>Name</th>\n",
       "      <th>Price_INR</th>\n",
       "      <th>Rating</th>\n",
       "      <th>network_type</th>\n",
       "      <th>Processor</th>\n",
       "      <th>battery_capicity_MAH</th>\n",
       "      <th>display_size_INCH</th>\n",
       "      <th>Brand</th>\n",
       "      <th>RAM_GB</th>\n",
       "      <th>storage_capacity_gb</th>\n",
       "      <th>feature_score</th>\n",
       "      <th>value_score</th>\n",
       "    </tr>\n",
       "  </thead>\n",
       "  <tbody>\n",
       "    <tr>\n",
       "      <th>0</th>\n",
       "      <td>Apple iPhone 16</td>\n",
       "      <td>72400</td>\n",
       "      <td>4.75</td>\n",
       "      <td>5G</td>\n",
       "      <td>2</td>\n",
       "      <td>3561</td>\n",
       "      <td>6.10</td>\n",
       "      <td>apple</td>\n",
       "      <td>8</td>\n",
       "      <td>128</td>\n",
       "      <td>0.281791</td>\n",
       "      <td>0.000004</td>\n",
       "    </tr>\n",
       "    <tr>\n",
       "      <th>1</th>\n",
       "      <td>Apple iPhone 15</td>\n",
       "      <td>61400</td>\n",
       "      <td>4.65</td>\n",
       "      <td>5G</td>\n",
       "      <td>3</td>\n",
       "      <td>3349</td>\n",
       "      <td>6.10</td>\n",
       "      <td>apple</td>\n",
       "      <td>6</td>\n",
       "      <td>128</td>\n",
       "      <td>0.291872</td>\n",
       "      <td>0.000005</td>\n",
       "    </tr>\n",
       "    <tr>\n",
       "      <th>2</th>\n",
       "      <td>Apple iPhone 16 Pro Max</td>\n",
       "      <td>133900</td>\n",
       "      <td>4.20</td>\n",
       "      <td>5G</td>\n",
       "      <td>1</td>\n",
       "      <td>4685</td>\n",
       "      <td>6.90</td>\n",
       "      <td>apple</td>\n",
       "      <td>8</td>\n",
       "      <td>256</td>\n",
       "      <td>0.352679</td>\n",
       "      <td>0.000003</td>\n",
       "    </tr>\n",
       "    <tr>\n",
       "      <th>3</th>\n",
       "      <td>Apple iPhone 13</td>\n",
       "      <td>45790</td>\n",
       "      <td>4.35</td>\n",
       "      <td>5G</td>\n",
       "      <td>4</td>\n",
       "      <td>3240</td>\n",
       "      <td>6.10</td>\n",
       "      <td>apple</td>\n",
       "      <td>4</td>\n",
       "      <td>128</td>\n",
       "      <td>0.305397</td>\n",
       "      <td>0.000007</td>\n",
       "    </tr>\n",
       "    <tr>\n",
       "      <th>4</th>\n",
       "      <td>Apple iPhone 16 Pro</td>\n",
       "      <td>110900</td>\n",
       "      <td>4.25</td>\n",
       "      <td>5G</td>\n",
       "      <td>1</td>\n",
       "      <td>3582</td>\n",
       "      <td>6.30</td>\n",
       "      <td>apple</td>\n",
       "      <td>8</td>\n",
       "      <td>128</td>\n",
       "      <td>0.247805</td>\n",
       "      <td>0.000002</td>\n",
       "    </tr>\n",
       "    <tr>\n",
       "      <th>...</th>\n",
       "      <td>...</td>\n",
       "      <td>...</td>\n",
       "      <td>...</td>\n",
       "      <td>...</td>\n",
       "      <td>...</td>\n",
       "      <td>...</td>\n",
       "      <td>...</td>\n",
       "      <td>...</td>\n",
       "      <td>...</td>\n",
       "      <td>...</td>\n",
       "      <td>...</td>\n",
       "      <td>...</td>\n",
       "    </tr>\n",
       "    <tr>\n",
       "      <th>877</th>\n",
       "      <td>Xiaomi Redmi 9A</td>\n",
       "      <td>6749</td>\n",
       "      <td>4.15</td>\n",
       "      <td>4G</td>\n",
       "      <td>9</td>\n",
       "      <td>5000</td>\n",
       "      <td>6.53</td>\n",
       "      <td>xiaomi</td>\n",
       "      <td>2</td>\n",
       "      <td>32</td>\n",
       "      <td>0.551163</td>\n",
       "      <td>0.000082</td>\n",
       "    </tr>\n",
       "    <tr>\n",
       "      <th>878</th>\n",
       "      <td>Xiaomi Redmi Note 8 (6GB RAM + 128GB)</td>\n",
       "      <td>10599</td>\n",
       "      <td>4.25</td>\n",
       "      <td>4G</td>\n",
       "      <td>8</td>\n",
       "      <td>4000</td>\n",
       "      <td>6.30</td>\n",
       "      <td>xiaomi</td>\n",
       "      <td>6</td>\n",
       "      <td>128</td>\n",
       "      <td>0.545626</td>\n",
       "      <td>0.000051</td>\n",
       "    </tr>\n",
       "    <tr>\n",
       "      <th>879</th>\n",
       "      <td>Xiaomi Redmi Note 7 Pro</td>\n",
       "      <td>9404</td>\n",
       "      <td>4.20</td>\n",
       "      <td>4G</td>\n",
       "      <td>7</td>\n",
       "      <td>4000</td>\n",
       "      <td>6.30</td>\n",
       "      <td>xiaomi</td>\n",
       "      <td>4</td>\n",
       "      <td>64</td>\n",
       "      <td>0.454554</td>\n",
       "      <td>0.000048</td>\n",
       "    </tr>\n",
       "    <tr>\n",
       "      <th>880</th>\n",
       "      <td>Xiaomi Poco F7 Pro 5G (12GB RAM + 512G)</td>\n",
       "      <td>49990</td>\n",
       "      <td>4.05</td>\n",
       "      <td>5G</td>\n",
       "      <td>2</td>\n",
       "      <td>6000</td>\n",
       "      <td>6.67</td>\n",
       "      <td>xiaomi</td>\n",
       "      <td>12</td>\n",
       "      <td>512</td>\n",
       "      <td>0.561856</td>\n",
       "      <td>0.000011</td>\n",
       "    </tr>\n",
       "    <tr>\n",
       "      <th>881</th>\n",
       "      <td>Xiaomi Redmi 15C 4G</td>\n",
       "      <td>10990</td>\n",
       "      <td>4.60</td>\n",
       "      <td>4G</td>\n",
       "      <td>8</td>\n",
       "      <td>6000</td>\n",
       "      <td>6.90</td>\n",
       "      <td>xiaomi</td>\n",
       "      <td>4</td>\n",
       "      <td>128</td>\n",
       "      <td>0.614522</td>\n",
       "      <td>0.000056</td>\n",
       "    </tr>\n",
       "  </tbody>\n",
       "</table>\n",
       "<p>882 rows × 12 columns</p>\n",
       "</div>"
      ],
      "text/plain": [
       "                                        Name  Price_INR  Rating network_type  \\\n",
       "0                            Apple iPhone 16      72400    4.75           5G   \n",
       "1                            Apple iPhone 15      61400    4.65           5G   \n",
       "2                    Apple iPhone 16 Pro Max     133900    4.20           5G   \n",
       "3                            Apple iPhone 13      45790    4.35           5G   \n",
       "4                        Apple iPhone 16 Pro     110900    4.25           5G   \n",
       "..                                       ...        ...     ...          ...   \n",
       "877                          Xiaomi Redmi 9A       6749    4.15           4G   \n",
       "878    Xiaomi Redmi Note 8 (6GB RAM + 128GB)      10599    4.25           4G   \n",
       "879                  Xiaomi Redmi Note 7 Pro       9404    4.20           4G   \n",
       "880  Xiaomi Poco F7 Pro 5G (12GB RAM + 512G)      49990    4.05           5G   \n",
       "881                      Xiaomi Redmi 15C 4G      10990    4.60           4G   \n",
       "\n",
       "     Processor  battery_capicity_MAH  display_size_INCH   Brand  RAM_GB  \\\n",
       "0            2                  3561               6.10   apple       8   \n",
       "1            3                  3349               6.10   apple       6   \n",
       "2            1                  4685               6.90   apple       8   \n",
       "3            4                  3240               6.10   apple       4   \n",
       "4            1                  3582               6.30   apple       8   \n",
       "..         ...                   ...                ...     ...     ...   \n",
       "877          9                  5000               6.53  xiaomi       2   \n",
       "878          8                  4000               6.30  xiaomi       6   \n",
       "879          7                  4000               6.30  xiaomi       4   \n",
       "880          2                  6000               6.67  xiaomi      12   \n",
       "881          8                  6000               6.90  xiaomi       4   \n",
       "\n",
       "     storage_capacity_gb  feature_score  value_score  \n",
       "0                    128       0.281791     0.000004  \n",
       "1                    128       0.291872     0.000005  \n",
       "2                    256       0.352679     0.000003  \n",
       "3                    128       0.305397     0.000007  \n",
       "4                    128       0.247805     0.000002  \n",
       "..                   ...            ...          ...  \n",
       "877                   32       0.551163     0.000082  \n",
       "878                  128       0.545626     0.000051  \n",
       "879                   64       0.454554     0.000048  \n",
       "880                  512       0.561856     0.000011  \n",
       "881                  128       0.614522     0.000056  \n",
       "\n",
       "[882 rows x 12 columns]"
      ]
     },
     "execution_count": 104,
     "metadata": {},
     "output_type": "execute_result"
    }
   ],
   "source": [
    "## now lets find feature to price ratio(more score means for more features got in less money)\n",
    "smartphones['feature_score'] = normalized_df['feature_score']\n",
    "smartphones['value_score'] = smartphones['feature_score'] / smartphones['Price_INR']\n",
    "smartphones"
   ]
  },
  {
   "cell_type": "code",
   "execution_count": 106,
   "id": "05c60a07",
   "metadata": {},
   "outputs": [
    {
     "name": "stdout",
     "output_type": "stream",
     "text": [
      "                                     Name     Brand  Price_INR  value_score\n",
      "522                            Realme C2s    realme       3499     0.000146\n",
      "580  Samsung Galaxy F12 (4GB RAM + 128GB)   samsung       5000     0.000119\n",
      "608                    Samsung Galaxy F12   samsung       5000     0.000115\n",
      "578  Samsung Galaxy F22 (6GB RAM + 128GB)   samsung       6000     0.000103\n",
      "627                    Samsung Galaxy F22   samsung       6000     0.000095\n",
      "561                       Realme Note 60x    realme       6299     0.000088\n",
      "832                      Xiaomi Redmi A3x    xiaomi       6245     0.000086\n",
      "213                     Motorola Moto E13  motorola       5999     0.000086\n",
      "623                    Samsung Galaxy F05   samsung       6499     0.000085\n",
      "791                    Xiaomi Redmi A5 4G    xiaomi       6498     0.000085\n"
     ]
    }
   ],
   "source": [
    "top_phones = smartphones.sort_values(by='value_score', ascending=False)[['Name', 'Brand', 'Price_INR', 'value_score']]\n",
    "print(top_phones.head(10))\n"
   ]
  },
  {
   "cell_type": "code",
   "execution_count": 107,
   "id": "0a77f4ef",
   "metadata": {},
   "outputs": [],
   "source": [
    "low_budget_phones=smartphones[smartphones['Price_INR']<=15000]"
   ]
  },
  {
   "cell_type": "code",
   "execution_count": 108,
   "id": "6dbeed94",
   "metadata": {},
   "outputs": [
    {
     "data": {
      "text/plain": [
       "<Axes: xlabel='Brand', ylabel='Name'>"
      ]
     },
     "execution_count": 108,
     "metadata": {},
     "output_type": "execute_result"
    },
    {
     "data": {
      "image/png": "[encoded data removed]",
      "text/plain": [
       "<Figure size 720x360 with 1 Axes>"
      ]
     },
     "metadata": {
      "needs_background": "light"
     },
     "output_type": "display_data"
    }
   ],
   "source": [
    "low_budget_chart =  low_budget_phones.groupby('Brand')['Name'].count()\n",
    "plt.figure(figsize=(10,5))\n",
    "sns.barplot(low_budget_chart)"
   ]
  },
  {
   "cell_type": "code",
   "execution_count": 109,
   "id": "ea4b4a8f",
   "metadata": {},
   "outputs": [
    {
     "data": {
      "text/html": [
       "<div>\n",
       "<style scoped>\n",
       "    .dataframe tbody tr th:only-of-type {\n",
       "        vertical-align: middle;\n",
       "    }\n",
       "\n",
       "    .dataframe tbody tr th {\n",
       "        vertical-align: top;\n",
       "    }\n",
       "\n",
       "    .dataframe thead th {\n",
       "        text-align: right;\n",
       "    }\n",
       "</style>\n",
       "<table border=\"1\" class=\"dataframe\">\n",
       "  <thead>\n",
       "    <tr style=\"text-align: right;\">\n",
       "      <th></th>\n",
       "      <th>Name</th>\n",
       "      <th>Brand</th>\n",
       "      <th>Price_INR</th>\n",
       "      <th>value_score</th>\n",
       "    </tr>\n",
       "  </thead>\n",
       "  <tbody>\n",
       "    <tr>\n",
       "      <th>552</th>\n",
       "      <td>Realme 14x (8GB RAM + 128GB)</td>\n",
       "      <td>realme</td>\n",
       "      <td>15199</td>\n",
       "      <td>0.000037</td>\n",
       "    </tr>\n",
       "    <tr>\n",
       "      <th>186</th>\n",
       "      <td>Motorola Moto G64 5G (12GB RAM + 256GB)</td>\n",
       "      <td>motorola</td>\n",
       "      <td>17495</td>\n",
       "      <td>0.000037</td>\n",
       "    </tr>\n",
       "    <tr>\n",
       "      <th>711</th>\n",
       "      <td>Vivo Y29s 5G</td>\n",
       "      <td>vivo</td>\n",
       "      <td>15990</td>\n",
       "      <td>0.000037</td>\n",
       "    </tr>\n",
       "    <tr>\n",
       "      <th>493</th>\n",
       "      <td>Realme 14T 5G</td>\n",
       "      <td>realme</td>\n",
       "      <td>15549</td>\n",
       "      <td>0.000037</td>\n",
       "    </tr>\n",
       "    <tr>\n",
       "      <th>179</th>\n",
       "      <td>Motorola Moto G56 5G</td>\n",
       "      <td>motorola</td>\n",
       "      <td>15990</td>\n",
       "      <td>0.000036</td>\n",
       "    </tr>\n",
       "    <tr>\n",
       "      <th>861</th>\n",
       "      <td>Xiaomi Redmi Note 12 (8GB RAM + 256GB)</td>\n",
       "      <td>xiaomi</td>\n",
       "      <td>16990</td>\n",
       "      <td>0.000036</td>\n",
       "    </tr>\n",
       "    <tr>\n",
       "      <th>481</th>\n",
       "      <td>Oppo A60 4G</td>\n",
       "      <td>oppo</td>\n",
       "      <td>15990</td>\n",
       "      <td>0.000036</td>\n",
       "    </tr>\n",
       "    <tr>\n",
       "      <th>424</th>\n",
       "      <td>OPPO K12x 5G (8GB RAM + 256GB)</td>\n",
       "      <td>oppo</td>\n",
       "      <td>15980</td>\n",
       "      <td>0.000036</td>\n",
       "    </tr>\n",
       "    <tr>\n",
       "      <th>434</th>\n",
       "      <td>Oppo A78</td>\n",
       "      <td>oppo</td>\n",
       "      <td>15949</td>\n",
       "      <td>0.000036</td>\n",
       "    </tr>\n",
       "    <tr>\n",
       "      <th>255</th>\n",
       "      <td>Motorola Moto S50 Neo</td>\n",
       "      <td>motorola</td>\n",
       "      <td>15990</td>\n",
       "      <td>0.000036</td>\n",
       "    </tr>\n",
       "  </tbody>\n",
       "</table>\n",
       "</div>"
      ],
      "text/plain": [
       "                                        Name     Brand  Price_INR  value_score\n",
       "552             Realme 14x (8GB RAM + 128GB)    realme      15199     0.000037\n",
       "186  Motorola Moto G64 5G (12GB RAM + 256GB)  motorola      17495     0.000037\n",
       "711                             Vivo Y29s 5G      vivo      15990     0.000037\n",
       "493                            Realme 14T 5G    realme      15549     0.000037\n",
       "179                     Motorola Moto G56 5G  motorola      15990     0.000036\n",
       "861   Xiaomi Redmi Note 12 (8GB RAM + 256GB)    xiaomi      16990     0.000036\n",
       "481                              Oppo A60 4G      oppo      15990     0.000036\n",
       "424           OPPO K12x 5G (8GB RAM + 256GB)      oppo      15980     0.000036\n",
       "434                                 Oppo A78      oppo      15949     0.000036\n",
       "255                    Motorola Moto S50 Neo  motorola      15990     0.000036"
      ]
     },
     "execution_count": 109,
     "metadata": {},
     "output_type": "execute_result"
    }
   ],
   "source": [
    "mid_budget_phones = smartphones[(smartphones['Price_INR']>15000) & (smartphones['Price_INR']<50000)]\n",
    "mid_budget_phones.sort_values(by='value_score', ascending=False)[['Name', 'Brand', 'Price_INR', 'value_score']].head(10)"
   ]
  },
  {
   "cell_type": "code",
   "execution_count": 110,
   "id": "33ebacd0",
   "metadata": {},
   "outputs": [
    {
     "data": {
      "text/plain": [
       "<Axes: xlabel='Brand', ylabel='Name'>"
      ]
     },
     "execution_count": 110,
     "metadata": {},
     "output_type": "execute_result"
    },
    {
     "data": {
      "image/png": "[encoded data removed]",
      "text/plain": [
       "<Figure size 720x360 with 1 Axes>"
      ]
     },
     "metadata": {
      "needs_background": "light"
     },
     "output_type": "display_data"
    }
   ],
   "source": [
    "mid_budget_chart=mid_budget_phones.groupby('Brand')['Name'].count()\n",
    "plt.figure(figsize=(10,5))\n",
    "sns.barplot(mid_budget_chart)"
   ]
  },
  {
   "cell_type": "code",
   "execution_count": 111,
   "id": "3ad2f67d",
   "metadata": {},
   "outputs": [
    {
     "data": {
      "text/plain": [
       "<Axes: xlabel='Brand', ylabel='Name'>"
      ]
     },
     "execution_count": 111,
     "metadata": {},
     "output_type": "execute_result"
    },
    {
     "data": {
      "image/png": "[encoded data removed]",
      "text/plain": [
       "<Figure size 720x360 with 1 Axes>"
      ]
     },
     "metadata": {
      "needs_background": "light"
     },
     "output_type": "display_data"
    }
   ],
   "source": [
    "high_budget_phones = smartphones[(smartphones['Price_INR']<=80000) & (smartphones['Price_INR']>=50000)]\n",
    "high_budget_chart = high_budget_phones.groupby('Brand')['Name'].count()\n",
    "plt.figure(figsize = (10,5))\n",
    "sns.barplot(high_budget_chart)"
   ]
  },
  {
   "cell_type": "code",
   "execution_count": 115,
   "id": "4d535683",
   "metadata": {},
   "outputs": [
    {
     "data": {
      "text/html": [
       "<div>\n",
       "<style scoped>\n",
       "    .dataframe tbody tr th:only-of-type {\n",
       "        vertical-align: middle;\n",
       "    }\n",
       "\n",
       "    .dataframe tbody tr th {\n",
       "        vertical-align: top;\n",
       "    }\n",
       "\n",
       "    .dataframe thead th {\n",
       "        text-align: right;\n",
       "    }\n",
       "</style>\n",
       "<table border=\"1\" class=\"dataframe\">\n",
       "  <thead>\n",
       "    <tr style=\"text-align: right;\">\n",
       "      <th></th>\n",
       "      <th>Name</th>\n",
       "      <th>Price_INR</th>\n",
       "      <th>Brand</th>\n",
       "    </tr>\n",
       "  </thead>\n",
       "  <tbody>\n",
       "    <tr>\n",
       "      <th>855</th>\n",
       "      <td>Xiaomi Redmi K20 Pro Signature Edition</td>\n",
       "      <td>480000</td>\n",
       "      <td>xiaomi</td>\n",
       "    </tr>\n",
       "    <tr>\n",
       "      <th>4</th>\n",
       "      <td>Apple iPhone 16 Pro</td>\n",
       "      <td>110900</td>\n",
       "      <td>apple</td>\n",
       "    </tr>\n",
       "    <tr>\n",
       "      <th>11</th>\n",
       "      <td>Apple iPhone 16 Pro (256GB)</td>\n",
       "      <td>121900</td>\n",
       "      <td>apple</td>\n",
       "    </tr>\n",
       "    <tr>\n",
       "      <th>225</th>\n",
       "      <td>Motorola Rizr Rollable</td>\n",
       "      <td>159990</td>\n",
       "      <td>motorola</td>\n",
       "    </tr>\n",
       "    <tr>\n",
       "      <th>22</th>\n",
       "      <td>Apple iPhone 16 Pro (512GB)</td>\n",
       "      <td>140900</td>\n",
       "      <td>apple</td>\n",
       "    </tr>\n",
       "    <tr>\n",
       "      <th>46</th>\n",
       "      <td>Apple iPhone 14 Pro</td>\n",
       "      <td>109994</td>\n",
       "      <td>apple</td>\n",
       "    </tr>\n",
       "    <tr>\n",
       "      <th>2</th>\n",
       "      <td>Apple iPhone 16 Pro Max</td>\n",
       "      <td>133900</td>\n",
       "      <td>apple</td>\n",
       "    </tr>\n",
       "    <tr>\n",
       "      <th>42</th>\n",
       "      <td>Apple iPhone 14 Pro (256GB)</td>\n",
       "      <td>118994</td>\n",
       "      <td>apple</td>\n",
       "    </tr>\n",
       "    <tr>\n",
       "      <th>14</th>\n",
       "      <td>Apple iPhone 16 Pro Max (512GB)</td>\n",
       "      <td>154900</td>\n",
       "      <td>apple</td>\n",
       "    </tr>\n",
       "    <tr>\n",
       "      <th>40</th>\n",
       "      <td>Apple iPhone 15 Pro Max</td>\n",
       "      <td>134899</td>\n",
       "      <td>apple</td>\n",
       "    </tr>\n",
       "  </tbody>\n",
       "</table>\n",
       "</div>"
      ],
      "text/plain": [
       "                                       Name  Price_INR     Brand\n",
       "855  Xiaomi Redmi K20 Pro Signature Edition     480000    xiaomi\n",
       "4                       Apple iPhone 16 Pro     110900     apple\n",
       "11              Apple iPhone 16 Pro (256GB)     121900     apple\n",
       "225                  Motorola Rizr Rollable     159990  motorola\n",
       "22              Apple iPhone 16 Pro (512GB)     140900     apple\n",
       "46                      Apple iPhone 14 Pro     109994     apple\n",
       "2                   Apple iPhone 16 Pro Max     133900     apple\n",
       "42              Apple iPhone 14 Pro (256GB)     118994     apple\n",
       "14          Apple iPhone 16 Pro Max (512GB)     154900     apple\n",
       "40                  Apple iPhone 15 Pro Max     134899     apple"
      ]
     },
     "execution_count": 115,
     "metadata": {},
     "output_type": "execute_result"
    }
   ],
   "source": [
    "luxury_phones = smartphones[smartphones['Price_INR']>80000]\n",
    "luxury_phones.sort_values(by='value_score')[['Name','Price_INR','Brand']].head(10)"
   ]
  },
  {
   "cell_type": "code",
   "execution_count": 116,
   "id": "ff66ffa6",
   "metadata": {},
   "outputs": [
    {
     "data": {
      "text/plain": [
       "<Axes: xlabel='Brand', ylabel='Name'>"
      ]
     },
     "execution_count": 116,
     "metadata": {},
     "output_type": "execute_result"
    },
    {
     "data": {
      "image/png": "[encoded data removed]",
      "text/plain": [
       "<Figure size 720x360 with 1 Axes>"
      ]
     },
     "metadata": {
      "needs_background": "light"
     },
     "output_type": "display_data"
    }
   ],
   "source": [
    "luxury_phones_chart = luxury_phones.groupby('Brand')['Name'].count()\n",
    "plt.figure(figsize = (10,5))\n",
    "sns.barplot(luxury_phones_chart)"
   ]
  },
  {
   "cell_type": "markdown",
   "id": "58de853f",
   "metadata": {},
   "source": [
    "## Popular models in the mid-range and premium segments"
   ]
  },
  {
   "cell_type": "code",
   "execution_count": 148,
   "id": "1113b966",
   "metadata": {},
   "outputs": [],
   "source": [
    "top_10_mid=mid_budget_phones.sort_values(by='Rating',ascending=False)[['Name','Price_INR','Rating','Brand']].head(10).reset_index(drop=True)\n",
    "top_10_mid.index=top_10_mid.index+1"
   ]
  },
  {
   "cell_type": "code",
   "execution_count": 149,
   "id": "d4d66976",
   "metadata": {},
   "outputs": [
    {
     "name": "stdout",
     "output_type": "stream",
     "text": [
      "+----+--------------------------------------------------+-------------+----------+----------+\n",
      "|    | Name                                             |   Price_INR |   Rating | Brand    |\n",
      "+====+==================================================+=============+==========+==========+\n",
      "|  1 | Motorola Moto G 5G 2025                          |       16990 |     4.75 | motorola |\n",
      "+----+--------------------------------------------------+-------------+----------+----------+\n",
      "|  2 | OnePlus Nord 5 5G                                |       31999 |     4.75 | oneplus  |\n",
      "+----+--------------------------------------------------+-------------+----------+----------+\n",
      "|  3 | Motorola Edge 60 Fusion 5G (12GB RAM + 256GB)    |       25150 |     4.75 | motorola |\n",
      "+----+--------------------------------------------------+-------------+----------+----------+\n",
      "|  4 | Xiaomi Redmi Note 12 Pro 5G                      |       16990 |     4.75 | xiaomi   |\n",
      "+----+--------------------------------------------------+-------------+----------+----------+\n",
      "|  5 | OPPO Reno 12 Pro 5G (12GB RAM + 512GB)           |       30994 |     4.75 | oppo     |\n",
      "+----+--------------------------------------------------+-------------+----------+----------+\n",
      "|  6 | Xiaomi Redmi Note 14 (8GB RAM + 128GB)           |       17999 |     4.75 | xiaomi   |\n",
      "+----+--------------------------------------------------+-------------+----------+----------+\n",
      "|  7 | Realme Narzo 80 Pro 5G (12GB RAM + 256GB)        |       23498 |     4.75 | realme   |\n",
      "+----+--------------------------------------------------+-------------+----------+----------+\n",
      "|  8 | Xiaomi Redmi Turbo 4                             |       23990 |     4.75 | xiaomi   |\n",
      "+----+--------------------------------------------------+-------------+----------+----------+\n",
      "|  9 | OPPO Reno 11 Pro 5G                              |       22994 |     4.75 | oppo     |\n",
      "+----+--------------------------------------------------+-------------+----------+----------+\n",
      "| 10 | Xiaomi Redmi Note 13 Pro Plus (12GB RAM + 256GB) |       26999 |     4.75 | xiaomi   |\n",
      "+----+--------------------------------------------------+-------------+----------+----------+\n"
     ]
    }
   ],
   "source": [
    "from tabulate import tabulate\n",
    "\n",
    "print(tabulate(top_10_mid, headers='keys', tablefmt='grid'))\n"
   ]
  },
  {
   "cell_type": "code",
   "execution_count": 150,
   "id": "f7e50d58",
   "metadata": {},
   "outputs": [],
   "source": [
    "# consider luxury phones as preminum phones\n",
    "top_10_premium = luxury_phones.sort_values(by='Rating',ascending=False)[['Name','Price_INR','Rating','Brand']].head(10).reset_index(drop=True)\n",
    "top_10_premium.index = top_10_premium.index+1"
   ]
  },
  {
   "cell_type": "code",
   "execution_count": 151,
   "id": "997af5ab",
   "metadata": {},
   "outputs": [
    {
     "name": "stdout",
     "output_type": "stream",
     "text": [
      "+----+---------------------------------------------+-------------+----------+----------+\n",
      "|    | Name                                        |   Price_INR |   Rating | Brand    |\n",
      "+====+=============================================+=============+==========+==========+\n",
      "|  1 | Apple iPhone 15 Plus (256GB)                |       82900 |     4.75 | apple    |\n",
      "+----+---------------------------------------------+-------------+----------+----------+\n",
      "|  2 | Oppo Find X8 Pro 5G                         |       84999 |     4.75 | oppo     |\n",
      "+----+---------------------------------------------+-------------+----------+----------+\n",
      "|  3 | Apple iPhone 15 Pro (1TB)                   |      161649 |     4.75 | apple    |\n",
      "+----+---------------------------------------------+-------------+----------+----------+\n",
      "|  4 | Samsung Galaxy Z Fold 7 (12GB RAM + 512GB)  |      174999 |     4.75 | samsung  |\n",
      "+----+---------------------------------------------+-------------+----------+----------+\n",
      "|  5 | Motorola Razr 50 Ultra                      |       84955 |     4.7  | motorola |\n",
      "+----+---------------------------------------------+-------------+----------+----------+\n",
      "|  6 | Apple iPhone 15 Plus (512GB)                |       89900 |     4.7  | apple    |\n",
      "+----+---------------------------------------------+-------------+----------+----------+\n",
      "|  7 | Apple iPhone 13 Pro Max (1TB)               |      179900 |     4.7  | apple    |\n",
      "+----+---------------------------------------------+-------------+----------+----------+\n",
      "|  8 | Xiaomi 15 Ultra                             |      109999 |     4.7  | xiaomi   |\n",
      "+----+---------------------------------------------+-------------+----------+----------+\n",
      "|  9 | Samsung W25                                 |      199990 |     4.7  | samsung  |\n",
      "+----+---------------------------------------------+-------------+----------+----------+\n",
      "| 10 | Samsung Galaxy S25 Ultra (12GB RAM + 512GB) |      129999 |     4.65 | samsung  |\n",
      "+----+---------------------------------------------+-------------+----------+----------+\n"
     ]
    }
   ],
   "source": [
    "print(tabulate(top_10_premium, headers='keys', tablefmt='grid'))"
   ]
  },
  {
   "cell_type": "markdown",
   "id": "5b729be6",
   "metadata": {},
   "source": [
    "## Review-score impact on pricing"
   ]
  },
  {
   "cell_type": "code",
   "execution_count": 154,
   "id": "f9317901",
   "metadata": {},
   "outputs": [
    {
     "data": {
      "text/plain": [
       "<Axes: xlabel='Price_INR', ylabel='Rating'>"
      ]
     },
     "execution_count": 154,
     "metadata": {},
     "output_type": "execute_result"
    },
    {
     "data": {
      "image/png": "[encoded data removed]",
      "text/plain": [
       "<Figure size 1440x360 with 1 Axes>"
      ]
     },
     "metadata": {
      "needs_background": "light"
     },
     "output_type": "display_data"
    }
   ],
   "source": [
    "plt.figure(figsize=(20,5))\n",
    "sns.scatterplot(data = smartphones, x = 'Price_INR', y = 'Rating')"
   ]
  },
  {
   "cell_type": "code",
   "execution_count": 162,
   "id": "cb2bf3f3",
   "metadata": {},
   "outputs": [
    {
     "data": {
      "text/plain": [
       "<Axes: xlabel='Price_INR', ylabel='Rating'>"
      ]
     },
     "execution_count": 162,
     "metadata": {},
     "output_type": "execute_result"
    },
    {
     "data": {
      "image/png": "[encoded data removed]",
      "text/plain": [
       "<Figure size 720x360 with 1 Axes>"
      ]
     },
     "metadata": {
      "needs_background": "light"
     },
     "output_type": "display_data"
    }
   ],
   "source": [
    "#from above plot we can see that there is only one phone higherthan 250000 price and that datapoint is disturbing the plot se we are going to remove it\n",
    "filtered_data = smartphones[smartphones['Price_INR']<250000]\n",
    "plt.figure(figsize=(10,5))\n",
    "sns.scatterplot(data = filtered_data, x = 'Price_INR', y = 'Rating')"
   ]
  },
  {
   "cell_type": "markdown",
   "id": "55a596e1",
   "metadata": {},
   "source": [
    "- The scatter plot shows no strong correlation between smartphone price and user ratings\n",
    "\n",
    "\n",
    "- Many mid-range smartphones (₹10,000 – ₹40,000) consistently have high ratings, suggesting that:\n",
    "\n",
    "  - Customers highly value feature-rich, affordable phones — this reflects a preference for value-for-money devices.\n",
    "\n",
    "\n",
    "-  Some high-priced smartphones also get high ratings, but not proportionately higher, which implies diminishing returns on customer satisfaction as price increases."
   ]
  },
  {
   "cell_type": "code",
   "execution_count": null,
   "id": "728d2444",
   "metadata": {},
   "outputs": [],
   "source": []
  }
 ],
 "metadata": {
  "kernelspec": {
   "display_name": "Python 3 (ipykernel)",
   "language": "python",
   "name": "python3"
  },
  "language_info": {
   "codemirror_mode": {
    "name": "ipython",
    "version": 3
   },
   "file_extension": ".py",
   "mimetype": "text/x-python",
   "name": "python",
   "nbconvert_exporter": "python",
   "pygments_lexer": "ipython3",
   "version": "3.9.7"
  }
 },
 "nbformat": 4,
 "nbformat_minor": 5
}
