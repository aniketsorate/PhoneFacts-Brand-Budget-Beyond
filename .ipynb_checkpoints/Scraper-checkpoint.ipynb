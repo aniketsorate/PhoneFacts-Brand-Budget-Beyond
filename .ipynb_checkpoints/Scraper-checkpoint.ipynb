{
 "cells": [
  {
   "cell_type": "code",
   "execution_count": 1,
   "id": "a681b64b",
   "metadata": {},
   "outputs": [
    {
     "name": "stderr",
     "output_type": "stream",
     "text": [
      "C:\\Users\\ANIKET\\AppData\\Roaming\\Python\\Python39\\site-packages\\pandas\\core\\computation\\expressions.py:21: UserWarning: Pandas requires version '2.8.4' or newer of 'numexpr' (version '2.7.3' currently installed).\n",
      "  from pandas.core.computation.check import NUMEXPR_INSTALLED\n",
      "C:\\Users\\ANIKET\\AppData\\Roaming\\Python\\Python39\\site-packages\\pandas\\core\\arrays\\masked.py:61: UserWarning: Pandas requires version '1.3.6' or newer of 'bottleneck' (version '1.3.2' currently installed).\n",
      "  from pandas.core import (\n"
     ]
    }
   ],
   "source": [
    "from selenium import webdriver\n",
    "from selenium.webdriver.chrome.service import Service\n",
    "from selenium.webdriver.chrome.options import Options\n",
    "from selenium.webdriver.common.by import By\n",
    "from selenium.webdriver.support.ui import WebDriverWait\n",
    "from selenium.webdriver.support import expected_conditions as EC\n",
    "from webdriver_manager.chrome import ChromeDriverManager\n",
    "import pandas as pd\n",
    "import time"
   ]
  },
  {
   "cell_type": "code",
   "execution_count": 2,
   "id": "a9ed5f1e",
   "metadata": {},
   "outputs": [],
   "source": [
    "def scrape_smartprix_for_brand(brand_slug, min_count=100):\n",
    "    print(f\"\\n📱 Starting scrape for brand: {brand_slug}\")\n",
    "    url = f\"https://www.smartprix.com/mobiles/{brand_slug}-brand\"\n",
    "\n",
    "    options = Options()\n",
    "    options.add_argument(\"--start-maximized\")\n",
    "    driver = webdriver.Chrome(service=Service(ChromeDriverManager().install()), options=options)\n",
    "    driver.get(url)\n",
    "\n",
    "    wait = WebDriverWait(driver, 15)\n",
    "    data = []\n",
    "    seen_names = set()\n",
    "\n",
    "    while len(data) < min_count:\n",
    "        print(f\"🔄 Loaded {len(data)} phones... Trying to load more if available.\")\n",
    "\n",
    "        driver.execute_script(\"window.scrollTo(0, document.body.scrollHeight);\")\n",
    "        time.sleep(2)\n",
    "\n",
    "        try:\n",
    "            load_more_btn = wait.until(EC.element_to_be_clickable((By.CLASS_NAME, \"sm-load-more\")))\n",
    "            driver.execute_script(\"arguments[0].click();\", load_more_btn)\n",
    "            time.sleep(3)\n",
    "        except:\n",
    "            print(\"⚠️ Load More button not found or no more products to load.\")\n",
    "            break\n",
    "\n",
    "        cards = driver.find_elements(By.CSS_SELECTOR, \".sm-product\")\n",
    "\n",
    "        for card in cards:\n",
    "            try:\n",
    "                name = card.find_element(By.CSS_SELECTOR, \"a.name.clamp-2\").text.strip()\n",
    "                if name in seen_names:\n",
    "                    continue\n",
    "                seen_names.add(name)\n",
    "\n",
    "                price = card.find_element(By.CSS_SELECTOR, \"span.price\").text.strip()\n",
    "\n",
    "                try:\n",
    "                    rating_style = card.find_element(By.CSS_SELECTOR, \".rating span.sm-rating\").get_attribute(\"style\")\n",
    "                    rating = rating_style.split(\":\")[1].replace(\";\", \"\").strip()\n",
    "                except:\n",
    "                    rating = \"NA\"\n",
    "\n",
    "                specs = card.find_elements(By.CSS_SELECTOR, \"ul.sm-feat li\")\n",
    "                spec_texts = [s.text.strip() for s in specs][:5]\n",
    "                while len(spec_texts) <6:\n",
    "                    spec_texts.append(\"NA\")\n",
    "\n",
    "                data.append([name, price, rating] + spec_texts + [brand_slug])\n",
    "                print(f\"✅ {len(data)}: {name} | {price} | Rating: {rating}\")\n",
    "\n",
    "            except Exception as e:\n",
    "                print(f\"❌ Error parsing card: {e}\")\n",
    "\n",
    "    driver.quit()\n",
    "\n",
    "    df = pd.DataFrame(data, columns=[\n",
    "        \"Name\", \"Price\", \"Rating\", \"Spec1\", \"Spec2\", \"Spec3\", \"Spec4\", \"Spec5\", \"Brand\"\n",
    "    ])"
   ]
  },
  {
   "cell_type": "code",
   "execution_count": null,
   "id": "54c22d2f",
   "metadata": {},
   "outputs": [
    {
     "name": "stdout",
     "output_type": "stream",
     "text": [
      "\n",
      "📱 Starting scrape for brand: apple\n"
     ]
    }
   ],
   "source": [
    "if __name__ == \"__main__\":\n",
    "    brand_list = [\"apple\", \"vivo\", \"samsung\", \"motorola\", \"realme\", \"oppo\", \"iqoo\", \"xiaomi\", \"oneplus\"]\n",
    "    for brand in brand_list:\n",
    "        scrape_smartprix_for_brand(brand, min_count=120)\n"
   ]
  },
  {
   "cell_type": "code",
   "execution_count": null,
   "id": "8457b8a2",
   "metadata": {},
   "outputs": [],
   "source": []
  }
 ],
 "metadata": {
  "kernelspec": {
   "display_name": "Python 3 (ipykernel)",
   "language": "python",
   "name": "python3"
  },
  "language_info": {
   "codemirror_mode": {
    "name": "ipython",
    "version": 3
   },
   "file_extension": ".py",
   "mimetype": "text/x-python",
   "name": "python",
   "nbconvert_exporter": "python",
   "pygments_lexer": "ipython3",
   "version": "3.9.7"
  }
 },
 "nbformat": 4,
 "nbformat_minor": 5
}
